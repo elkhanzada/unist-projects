{
 "cells": [
  {
   "cell_type": "markdown",
   "metadata": {
    "id": "4wos6SabgbnZ",
    "pycharm": {
     "name": "#%% md\n"
    }
   },
   "source": [
    "# From Context-independent to Context-Sensitive\n"
   ]
  },
  {
   "cell_type": "markdown",
   "metadata": {
    "id": "XoKvvHQCEFEF",
    "pycharm": {
     "name": "#%% md\n"
    }
   },
   "source": [
    "# BERT: Combining the Best of Both worlds\n",
    "Context bidirectionality + task-agnostic \n",
    "* ELMo encodes context bidirectionally but uses task=specific architectures \\\\\n",
    "Second model is GPT. \n",
    "* GPT is task-agnostic but encodes context left-to-right \\\\\n",
    "\n",
    "\n"
   ]
  },
  {
   "cell_type": "code",
   "execution_count": null,
   "metadata": {
    "colab": {
     "base_uri": "https://localhost:8080/"
    },
    "id": "_jhYF9dglbFu",
    "outputId": "75378427-7a52-4f3b-8548-7be43eb2c394",
    "pycharm": {
     "name": "#%%\n"
    }
   },
   "outputs": [
    {
     "name": "stdout",
     "output_type": "stream",
     "text": [
      "Looking in indexes: https://pypi.org/simple, https://us-python.pkg.dev/colab-wheels/public/simple/\n",
      "Collecting d2l==1.0.0a0\n",
      "  Downloading d2l-1.0.0a0-py3-none-any.whl (92 kB)\n",
      "\u001B[K     |████████████████████████████████| 92 kB 445 kB/s \n",
      "\u001B[?25hRequirement already satisfied: gym in /usr/local/lib/python3.7/dist-packages (from d2l==1.0.0a0) (0.25.2)\n",
      "Requirement already satisfied: numpy in /usr/local/lib/python3.7/dist-packages (from d2l==1.0.0a0) (1.21.6)\n",
      "Requirement already satisfied: pandas in /usr/local/lib/python3.7/dist-packages (from d2l==1.0.0a0) (1.3.5)\n",
      "Requirement already satisfied: requests in /usr/local/lib/python3.7/dist-packages (from d2l==1.0.0a0) (2.23.0)\n",
      "Collecting jupyter\n",
      "  Downloading jupyter-1.0.0-py2.py3-none-any.whl (2.7 kB)\n",
      "Requirement already satisfied: matplotlib in /usr/local/lib/python3.7/dist-packages (from d2l==1.0.0a0) (3.2.2)\n",
      "Requirement already satisfied: importlib-metadata>=4.8.0 in /usr/local/lib/python3.7/dist-packages (from gym->d2l==1.0.0a0) (4.13.0)\n",
      "Requirement already satisfied: cloudpickle>=1.2.0 in /usr/local/lib/python3.7/dist-packages (from gym->d2l==1.0.0a0) (1.5.0)\n",
      "Requirement already satisfied: gym-notices>=0.0.4 in /usr/local/lib/python3.7/dist-packages (from gym->d2l==1.0.0a0) (0.0.8)\n",
      "Requirement already satisfied: typing-extensions>=3.6.4 in /usr/local/lib/python3.7/dist-packages (from importlib-metadata>=4.8.0->gym->d2l==1.0.0a0) (4.1.1)\n",
      "Requirement already satisfied: zipp>=0.5 in /usr/local/lib/python3.7/dist-packages (from importlib-metadata>=4.8.0->gym->d2l==1.0.0a0) (3.10.0)\n",
      "Requirement already satisfied: ipykernel in /usr/local/lib/python3.7/dist-packages (from jupyter->d2l==1.0.0a0) (5.3.4)\n",
      "Requirement already satisfied: ipywidgets in /usr/local/lib/python3.7/dist-packages (from jupyter->d2l==1.0.0a0) (7.7.1)\n",
      "Requirement already satisfied: nbconvert in /usr/local/lib/python3.7/dist-packages (from jupyter->d2l==1.0.0a0) (5.6.1)\n",
      "Collecting qtconsole\n",
      "  Downloading qtconsole-5.4.0-py3-none-any.whl (121 kB)\n",
      "\u001B[K     |████████████████████████████████| 121 kB 81.2 MB/s \n",
      "\u001B[?25hRequirement already satisfied: jupyter-console in /usr/local/lib/python3.7/dist-packages (from jupyter->d2l==1.0.0a0) (6.1.0)\n",
      "Requirement already satisfied: notebook in /usr/local/lib/python3.7/dist-packages (from jupyter->d2l==1.0.0a0) (5.5.0)\n",
      "Requirement already satisfied: tornado>=4.2 in /usr/local/lib/python3.7/dist-packages (from ipykernel->jupyter->d2l==1.0.0a0) (5.1.1)\n",
      "Requirement already satisfied: traitlets>=4.1.0 in /usr/local/lib/python3.7/dist-packages (from ipykernel->jupyter->d2l==1.0.0a0) (5.1.1)\n",
      "Requirement already satisfied: jupyter-client in /usr/local/lib/python3.7/dist-packages (from ipykernel->jupyter->d2l==1.0.0a0) (6.1.12)\n",
      "Requirement already satisfied: ipython>=5.0.0 in /usr/local/lib/python3.7/dist-packages (from ipykernel->jupyter->d2l==1.0.0a0) (7.9.0)\n",
      "Requirement already satisfied: decorator in /usr/local/lib/python3.7/dist-packages (from ipython>=5.0.0->ipykernel->jupyter->d2l==1.0.0a0) (4.4.2)\n",
      "Requirement already satisfied: pexpect in /usr/local/lib/python3.7/dist-packages (from ipython>=5.0.0->ipykernel->jupyter->d2l==1.0.0a0) (4.8.0)\n",
      "Requirement already satisfied: pickleshare in /usr/local/lib/python3.7/dist-packages (from ipython>=5.0.0->ipykernel->jupyter->d2l==1.0.0a0) (0.7.5)\n",
      "Requirement already satisfied: setuptools>=18.5 in /usr/local/lib/python3.7/dist-packages (from ipython>=5.0.0->ipykernel->jupyter->d2l==1.0.0a0) (57.4.0)\n",
      "Requirement already satisfied: backcall in /usr/local/lib/python3.7/dist-packages (from ipython>=5.0.0->ipykernel->jupyter->d2l==1.0.0a0) (0.2.0)\n",
      "Requirement already satisfied: prompt-toolkit<2.1.0,>=2.0.0 in /usr/local/lib/python3.7/dist-packages (from ipython>=5.0.0->ipykernel->jupyter->d2l==1.0.0a0) (2.0.10)\n",
      "Requirement already satisfied: pygments in /usr/local/lib/python3.7/dist-packages (from ipython>=5.0.0->ipykernel->jupyter->d2l==1.0.0a0) (2.6.1)\n",
      "Collecting jedi>=0.10\n",
      "  Downloading jedi-0.18.1-py2.py3-none-any.whl (1.6 MB)\n",
      "\u001B[K     |████████████████████████████████| 1.6 MB 76.8 MB/s \n",
      "\u001B[?25hRequirement already satisfied: parso<0.9.0,>=0.8.0 in /usr/local/lib/python3.7/dist-packages (from jedi>=0.10->ipython>=5.0.0->ipykernel->jupyter->d2l==1.0.0a0) (0.8.3)\n",
      "Requirement already satisfied: six>=1.9.0 in /usr/local/lib/python3.7/dist-packages (from prompt-toolkit<2.1.0,>=2.0.0->ipython>=5.0.0->ipykernel->jupyter->d2l==1.0.0a0) (1.15.0)\n",
      "Requirement already satisfied: wcwidth in /usr/local/lib/python3.7/dist-packages (from prompt-toolkit<2.1.0,>=2.0.0->ipython>=5.0.0->ipykernel->jupyter->d2l==1.0.0a0) (0.2.5)\n",
      "Requirement already satisfied: ipython-genutils~=0.2.0 in /usr/local/lib/python3.7/dist-packages (from ipywidgets->jupyter->d2l==1.0.0a0) (0.2.0)\n",
      "Requirement already satisfied: jupyterlab-widgets>=1.0.0 in /usr/local/lib/python3.7/dist-packages (from ipywidgets->jupyter->d2l==1.0.0a0) (3.0.3)\n",
      "Requirement already satisfied: widgetsnbextension~=3.6.0 in /usr/local/lib/python3.7/dist-packages (from ipywidgets->jupyter->d2l==1.0.0a0) (3.6.1)\n",
      "Requirement already satisfied: jinja2 in /usr/local/lib/python3.7/dist-packages (from notebook->jupyter->d2l==1.0.0a0) (2.11.3)\n",
      "Requirement already satisfied: pyzmq>=17 in /usr/local/lib/python3.7/dist-packages (from notebook->jupyter->d2l==1.0.0a0) (23.2.1)\n",
      "Requirement already satisfied: Send2Trash in /usr/local/lib/python3.7/dist-packages (from notebook->jupyter->d2l==1.0.0a0) (1.8.0)\n",
      "Requirement already satisfied: jupyter-core>=4.4.0 in /usr/local/lib/python3.7/dist-packages (from notebook->jupyter->d2l==1.0.0a0) (4.11.2)\n",
      "Requirement already satisfied: nbformat in /usr/local/lib/python3.7/dist-packages (from notebook->jupyter->d2l==1.0.0a0) (5.7.0)\n",
      "Requirement already satisfied: terminado>=0.8.1 in /usr/local/lib/python3.7/dist-packages (from notebook->jupyter->d2l==1.0.0a0) (0.13.3)\n",
      "Requirement already satisfied: python-dateutil>=2.1 in /usr/local/lib/python3.7/dist-packages (from jupyter-client->ipykernel->jupyter->d2l==1.0.0a0) (2.8.2)\n",
      "Requirement already satisfied: ptyprocess in /usr/local/lib/python3.7/dist-packages (from terminado>=0.8.1->notebook->jupyter->d2l==1.0.0a0) (0.7.0)\n",
      "Requirement already satisfied: MarkupSafe>=0.23 in /usr/local/lib/python3.7/dist-packages (from jinja2->notebook->jupyter->d2l==1.0.0a0) (2.0.1)\n",
      "Requirement already satisfied: cycler>=0.10 in /usr/local/lib/python3.7/dist-packages (from matplotlib->d2l==1.0.0a0) (0.11.0)\n",
      "Requirement already satisfied: pyparsing!=2.0.4,!=2.1.2,!=2.1.6,>=2.0.1 in /usr/local/lib/python3.7/dist-packages (from matplotlib->d2l==1.0.0a0) (3.0.9)\n",
      "Requirement already satisfied: kiwisolver>=1.0.1 in /usr/local/lib/python3.7/dist-packages (from matplotlib->d2l==1.0.0a0) (1.4.4)\n",
      "Requirement already satisfied: mistune<2,>=0.8.1 in /usr/local/lib/python3.7/dist-packages (from nbconvert->jupyter->d2l==1.0.0a0) (0.8.4)\n",
      "Requirement already satisfied: bleach in /usr/local/lib/python3.7/dist-packages (from nbconvert->jupyter->d2l==1.0.0a0) (5.0.1)\n",
      "Requirement already satisfied: pandocfilters>=1.4.1 in /usr/local/lib/python3.7/dist-packages (from nbconvert->jupyter->d2l==1.0.0a0) (1.5.0)\n",
      "Requirement already satisfied: defusedxml in /usr/local/lib/python3.7/dist-packages (from nbconvert->jupyter->d2l==1.0.0a0) (0.7.1)\n",
      "Requirement already satisfied: testpath in /usr/local/lib/python3.7/dist-packages (from nbconvert->jupyter->d2l==1.0.0a0) (0.6.0)\n",
      "Requirement already satisfied: entrypoints>=0.2.2 in /usr/local/lib/python3.7/dist-packages (from nbconvert->jupyter->d2l==1.0.0a0) (0.4)\n",
      "Requirement already satisfied: fastjsonschema in /usr/local/lib/python3.7/dist-packages (from nbformat->notebook->jupyter->d2l==1.0.0a0) (2.16.2)\n",
      "Requirement already satisfied: jsonschema>=2.6 in /usr/local/lib/python3.7/dist-packages (from nbformat->notebook->jupyter->d2l==1.0.0a0) (4.3.3)\n",
      "Requirement already satisfied: importlib-resources>=1.4.0 in /usr/local/lib/python3.7/dist-packages (from jsonschema>=2.6->nbformat->notebook->jupyter->d2l==1.0.0a0) (5.10.0)\n",
      "Requirement already satisfied: attrs>=17.4.0 in /usr/local/lib/python3.7/dist-packages (from jsonschema>=2.6->nbformat->notebook->jupyter->d2l==1.0.0a0) (22.1.0)\n",
      "Requirement already satisfied: pyrsistent!=0.17.0,!=0.17.1,!=0.17.2,>=0.14.0 in /usr/local/lib/python3.7/dist-packages (from jsonschema>=2.6->nbformat->notebook->jupyter->d2l==1.0.0a0) (0.18.1)\n",
      "Requirement already satisfied: webencodings in /usr/local/lib/python3.7/dist-packages (from bleach->nbconvert->jupyter->d2l==1.0.0a0) (0.5.1)\n",
      "Requirement already satisfied: pytz>=2017.3 in /usr/local/lib/python3.7/dist-packages (from pandas->d2l==1.0.0a0) (2022.5)\n",
      "Collecting qtpy>=2.0.1\n",
      "  Downloading QtPy-2.2.1-py3-none-any.whl (82 kB)\n",
      "\u001B[K     |████████████████████████████████| 82 kB 333 kB/s \n",
      "\u001B[?25hRequirement already satisfied: packaging in /usr/local/lib/python3.7/dist-packages (from qtpy>=2.0.1->qtconsole->jupyter->d2l==1.0.0a0) (21.3)\n",
      "Requirement already satisfied: urllib3!=1.25.0,!=1.25.1,<1.26,>=1.21.1 in /usr/local/lib/python3.7/dist-packages (from requests->d2l==1.0.0a0) (1.24.3)\n",
      "Requirement already satisfied: chardet<4,>=3.0.2 in /usr/local/lib/python3.7/dist-packages (from requests->d2l==1.0.0a0) (3.0.4)\n",
      "Requirement already satisfied: idna<3,>=2.5 in /usr/local/lib/python3.7/dist-packages (from requests->d2l==1.0.0a0) (2.10)\n",
      "Requirement already satisfied: certifi>=2017.4.17 in /usr/local/lib/python3.7/dist-packages (from requests->d2l==1.0.0a0) (2022.9.24)\n",
      "Installing collected packages: jedi, qtpy, qtconsole, jupyter, d2l\n",
      "Successfully installed d2l-1.0.0a0 jedi-0.18.1 jupyter-1.0.0 qtconsole-5.4.0 qtpy-2.2.1\n"
     ]
    }
   ],
   "source": [
    "pip install --upgrade d2l==1.0.0a0"
   ]
  },
  {
   "cell_type": "code",
   "execution_count": null,
   "metadata": {
    "colab": {
     "base_uri": "https://localhost:8080/"
    },
    "id": "qUs6HdimlmTn",
    "outputId": "480587f5-8f34-4795-dcc5-e40abf3deb3c",
    "pycharm": {
     "name": "#%%\n"
    }
   },
   "outputs": [
    {
     "name": "stdout",
     "output_type": "stream",
     "text": [
      "Looking in indexes: https://pypi.org/simple, https://us-python.pkg.dev/colab-wheels/public/simple/\n",
      "Collecting matplotlib_inline\n",
      "  Downloading matplotlib_inline-0.1.6-py3-none-any.whl (9.4 kB)\n",
      "Requirement already satisfied: traitlets in /usr/local/lib/python3.7/dist-packages (from matplotlib_inline) (5.1.1)\n",
      "Installing collected packages: matplotlib-inline\n",
      "Successfully installed matplotlib-inline-0.1.6\n"
     ]
    }
   ],
   "source": [
    "pip install matplotlib_inline"
   ]
  },
  {
   "cell_type": "code",
   "execution_count": null,
   "metadata": {
    "id": "AYNo9E6YgXx3",
    "pycharm": {
     "name": "#%%\n"
    }
   },
   "outputs": [],
   "source": [
    "import torch\n",
    "from torch import nn\n",
    "from d2l import torch as d2l "
   ]
  },
  {
   "cell_type": "markdown",
   "metadata": {
    "id": "tlU_td6nl_jB",
    "pycharm": {
     "name": "#%% md\n"
    }
   },
   "source": [
    "# Input Representation \n"
   ]
  },
  {
   "cell_type": "code",
   "execution_count": null,
   "metadata": {
    "id": "HA14GXFmnbP9",
    "pycharm": {
     "name": "#%%\n"
    }
   },
   "outputs": [],
   "source": [
    "\n",
    "def get_tokens_and_segments(tokens_a, tokens_b=None):\n",
    "    tokens = ['<cls>'] + tokens_a + ['<sep>'] #[ '<cls>', tokens_a, '<sep>']\n",
    "    # 0 and 1 are marking segment A and B, respectively\n",
    "    segments = [0] * (len(tokens_a) + 2) # [0,0,0,...,0]\n",
    "    if tokens_b is not None:\n",
    "        tokens += tokens_b + ['<sep>']\n",
    "        segments += [1] * (len(tokens_b) + 1)\n",
    "    return tokens, segments"
   ]
  },
  {
   "cell_type": "markdown",
   "metadata": {
    "id": "Yv80vQt_uAL0",
    "pycharm": {
     "name": "#%% md\n"
    }
   },
   "source": [
    "* Transformer encoder as its bidirectional architecture.\n",
    "* learnable positional embeddings\n",
    "* BERT=> transformer encoder with learnable positional embeddings. \\\\\n"
   ]
  },
  {
   "cell_type": "markdown",
   "metadata": {
    "id": "x-VQ4ZVxujSW",
    "pycharm": {
     "name": "#%% md\n"
    }
   },
   "source": [
    "![image.png](data:image/png;base64,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)"
   ]
  },
  {
   "cell_type": "code",
   "execution_count": null,
   "metadata": {
    "id": "stjffMJrkZ7B",
    "pycharm": {
     "name": "#%%\n"
    }
   },
   "outputs": [],
   "source": [
    "class AddNorm(nn.Module):\n",
    "    \"\"\"Residual connection followed by layer normalization.\"\"\"\n",
    "    def __init__(self, norm_shape, dropout):\n",
    "        super().__init__()\n",
    "        self.dropout = nn.Dropout(dropout)\n",
    "        self.ln = nn.LayerNorm(norm_shape)\n",
    "\n",
    "    def forward(self, X, Y):\n",
    "        return self.ln(self.dropout(Y) + X)\n",
    "\n",
    "class PositionWiseFFN(nn.Module):\n",
    "  def __init__(self, ffn_num_hiddens, ffn_num_outputs):\n",
    "    super().__init__()\n",
    "    self.densel = nn.LazyLinear(ffn_num_hiddens)\n",
    "    self.relu = nn.ReLU()\n",
    "    self.dense2 = nn.LazyLinear(ffn_num_outputs)\n",
    "  def forward(self,X):\n",
    "    return self.dense2(self.relu(self.densel(X)))\n",
    "\n"
   ]
  },
  {
   "cell_type": "code",
   "execution_count": null,
   "metadata": {
    "id": "IIhK_Vp2lIlZ",
    "pycharm": {
     "name": "#%%\n"
    }
   },
   "outputs": [],
   "source": [
    "class MultiHeadAttention(nn.Module):\n",
    "    \"\"\"Multi-head attention.\"\"\"\n",
    "    def __init__(self, num_hiddens, num_heads, dropout, bias=False, **kwargs):\n",
    "        super().__init__()\n",
    "        self.num_heads = num_heads\n",
    "        self.attention = d2l.DotProductAttention(dropout, num_heads)\n",
    "        self.W_q = nn.LazyLinear(num_hiddens, bias=bias)\n",
    "        self.W_k = nn.LazyLinear(num_hiddens, bias=bias)\n",
    "        self.W_v = nn.LazyLinear(num_hiddens, bias=bias)\n",
    "        self.W_o = nn.LazyLinear(num_hiddens, bias=bias)\n",
    "\n",
    "    def forward(self, queries, keys, values, valid_lens, window_mask=None):\n",
    "        queries = self.transpose_qkv(self.W_q(queries))\n",
    "        keys = self.transpose_qkv(self.W_k(keys))\n",
    "        values = self.transpose_qkv(self.W_v(values))\n",
    "\n",
    "        if valid_lens is not None:\n",
    "            valid_lens = torch.repeat_interleave(\n",
    "                valid_lens, repeats=self.num_heads, dim=0)\n",
    "        output = self.attention(queries, keys, values, valid_lens,\n",
    "                                window_mask)\n",
    "        output_concat = self.transpose_output(output)\n",
    "        return self.W_o(output_concat)\n",
    "\n",
    "    def transpose_qkv(self, X):\n",
    "      X = X.reshape(X.shape[0], X.shape[1], self.num_heads, -1)\n",
    "      X = X.permute(0, 2, 1, 3)\n",
    "      return X.reshape(-1, X.shape[2], X.shape[3])\n",
    "\n",
    "\n",
    "    def transpose_output(self, X):\n",
    "      X = X.reshape(-1, self.num_heads, X.shape[1], X.shape[2])\n",
    "      X = X.permute(0, 2, 1, 3)\n",
    "      return X.reshape(X.shape[0], X.shape[1], -1)"
   ]
  },
  {
   "cell_type": "code",
   "execution_count": null,
   "metadata": {
    "id": "zMK3ryB0kPrU",
    "pycharm": {
     "name": "#%%\n"
    }
   },
   "outputs": [],
   "source": [
    "class TransformerEncoderBlock(nn.Module):\n",
    "  def __init__(self, num_hiddens, ffn_num_hiddens,num_heads, dropout, use_bias=False):\n",
    "    super().__init__()\n",
    "    self.attention = MultiHeadAttention(num_hiddens, num_heads, dropout, use_bias)\n",
    "    self.addnorml = AddNorm(num_hiddens, dropout)\n",
    "    self.ffn = PositionWiseFFN(ffn_num_hiddens, num_hiddens)\n",
    "    self.addnorm2 = AddNorm(num_hiddens, dropout)\n",
    "  def forward(self,X,valid_lens):\n",
    "    Y= self.addnorml(X,self.attention(X,X,X,valid_lens))\n",
    "    return self.addnorm2(Y,self.ffn(Y))                                        \n"
   ]
  },
  {
   "cell_type": "code",
   "execution_count": null,
   "metadata": {
    "id": "IhV9uIQ0tD-L",
    "pycharm": {
     "name": "#%%\n"
    }
   },
   "outputs": [],
   "source": [
    "class BERTEncoder(nn.Module):\n",
    "    \"\"\"BERT encoder.\"\"\"\n",
    "    def __init__(self, vocab_size, num_hiddens, ffn_num_hiddens, num_heads,\n",
    "                 num_blks, dropout, max_len=1000, **kwargs):\n",
    "        super(BERTEncoder, self).__init__(**kwargs)\n",
    "        self.token_embedding = nn.Embedding(vocab_size, num_hiddens)\n",
    "        self.segment_embedding = nn.Embedding(2, num_hiddens)\n",
    "        self.blks = nn.Sequential()\n",
    "        for i in range(num_blks):\n",
    "            self.blks.add_module(f\"{i}\", TransformerEncoderBlock(\n",
    "                num_hiddens, ffn_num_hiddens, num_heads, dropout, True))\n",
    "\n",
    "        self.pos_embedding = nn.Parameter(torch.randn(1, max_len, num_hiddens))\n",
    "\n",
    "    def forward(self, tokens, segments, valid_lens):\n",
    "\n",
    "        X = self.token_embedding(tokens) + self.segment_embedding(segments)\n",
    "        X = X + self.pos_embedding[:, :X.shape[1], :]\n",
    "        for blk in self.blks:\n",
    "            X = blk(X, valid_lens)\n",
    "        return X"
   ]
  },
  {
   "cell_type": "code",
   "execution_count": null,
   "metadata": {
    "colab": {
     "base_uri": "https://localhost:8080/"
    },
    "id": "IgGNrJHFyJV_",
    "outputId": "e8c3f846-7295-46e2-ddca-5f766274368b",
    "pycharm": {
     "name": "#%%\n"
    }
   },
   "outputs": [
    {
     "name": "stderr",
     "output_type": "stream",
     "text": [
      "/usr/local/lib/python3.7/dist-packages/torch/nn/modules/lazy.py:178: UserWarning: Lazy modules are a new feature under heavy development so changes to the API or functionality can happen at any moment.\n",
      "  warnings.warn('Lazy modules are a new feature under heavy development '\n"
     ]
    }
   ],
   "source": [
    "vocab_size, num_hiddens, ffn_num_hiddens, num_heads = 10000, 768, 1024, 4\n",
    "ffn_num_input, num_blks, dropout = 768, 2, 0.2\n",
    "encoder = BERTEncoder(vocab_size, num_hiddens, ffn_num_hiddens, num_heads,num_blks, dropout)\n",
    "               "
   ]
  },
  {
   "cell_type": "code",
   "execution_count": null,
   "metadata": {
    "colab": {
     "base_uri": "https://localhost:8080/"
    },
    "id": "7KM5l6e0yufH",
    "outputId": "d283c08f-8652-41ea-b9ac-c150ea5103c0",
    "pycharm": {
     "name": "#%%\n"
    }
   },
   "outputs": [
    {
     "name": "stdout",
     "output_type": "stream",
     "text": [
      "torch.Size([2, 8, 768])\n"
     ]
    },
    {
     "data": {
      "text/plain": [
       "tensor([[[ 0.1201,  0.6204,  0.8422,  ...,  0.5554, -0.6017, -0.8898],\n",
       "         [-0.2325,  0.2627, -0.6123,  ..., -0.9540, -0.4373, -0.1537],\n",
       "         [-0.8072, -0.9987,  0.6842,  ..., -0.9663, -1.7796,  0.8325],\n",
       "         ...,\n",
       "         [-0.5908,  1.1947, -0.6824,  ..., -1.4570,  1.2085,  1.2104],\n",
       "         [ 0.0390, -0.7227, -0.2971,  ...,  0.2009,  1.5547, -0.1987],\n",
       "         [-0.8873,  0.9434,  0.1961,  ...,  0.2780, -0.0181,  0.9326]],\n",
       "\n",
       "        [[-1.0256,  0.7061,  0.6300,  ..., -0.8308,  0.2104, -1.7929],\n",
       "         [-0.3916, -0.2331,  0.9800,  ..., -0.5224, -0.4566,  0.9326],\n",
       "         [-0.1331, -0.3830,  0.0952,  ...,  0.5450, -1.4650, -0.2659],\n",
       "         ...,\n",
       "         [ 0.0380,  1.7336, -0.0060,  ..., -0.2835,  0.4847,  1.4036],\n",
       "         [ 1.1554, -1.7280, -0.3169,  ..., -0.1902,  1.0231, -1.3082],\n",
       "         [-0.7114,  0.8673, -0.2460,  ..., -0.4684,  1.4327, -0.0519]]],\n",
       "       grad_fn=<NativeLayerNormBackward0>)"
      ]
     },
     "execution_count": 10,
     "metadata": {},
     "output_type": "execute_result"
    }
   ],
   "source": [
    "tokens = torch.randint(0, vocab_size, (2, 8))\n",
    "segments = torch.tensor([[0, 0, 0, 0, 1, 1, 1, 1], [0, 0, 0, 1, 1, 1, 1, 1]])\n",
    "encoded_X = encoder(tokens, segments, None)\n",
    "print(encoded_X.shape)\n",
    "encoded_X"
   ]
  },
  {
   "cell_type": "markdown",
   "metadata": {
    "id": "6vD-hkA7zGGg",
    "pycharm": {
     "name": "#%% md\n"
    }
   },
   "source": [
    "# Pretraining Tasks\n"
   ]
  },
  {
   "cell_type": "markdown",
   "metadata": {
    "id": "gNT5SXnLzYXX",
    "pycharm": {
     "name": "#%% md\n"
    }
   },
   "source": [
    "## Masked Language Modeling \n",
    "* To encoder context bidirectionally -> randomly masking tokens \\\\\n",
    "\n"
   ]
  },
  {
   "cell_type": "code",
   "execution_count": null,
   "metadata": {
    "id": "5O4fABZXKsUS",
    "pycharm": {
     "name": "#%%\n"
    }
   },
   "outputs": [],
   "source": [
    "class MaskLM(nn.Module):\n",
    "    def __init__(self, vocab_size, num_hiddens, **kwargs):\n",
    "        super(MaskLM, self).__init__(**kwargs)\n",
    "        self.mlp = nn.Sequential(nn.LazyLinear(num_hiddens),\n",
    "                                 nn.ReLU(),\n",
    "                                 nn.LayerNorm(num_hiddens),\n",
    "                                 nn.LazyLinear(vocab_size))\n",
    "\n",
    "    def forward(self, X, pred_positions):\n",
    "        num_pred_positions = pred_positions.shape[1]\n",
    "        pred_positions = pred_positions.reshape(-1)\n",
    "        batch_size = X.shape[0]\n",
    "        batch_idx = torch.arange(0, batch_size)\n",
    "        # Suppose that `batch_size` = 2, `num_pred_positions` = 3, then\n",
    "        # `batch_idx` is `torch.tensor([0, 0, 0, 1, 1, 1])`\n",
    "        batch_idx = torch.repeat_interleave(batch_idx, num_pred_positions)\n",
    "        print(X.shape)\n",
    "        print([batch_idx, pred_positions])\n",
    "        masked_X = X[batch_idx, pred_positions]\n",
    "        print(masked_X.shape)\n",
    "        masked_X = masked_X.reshape((batch_size, num_pred_positions, -1))\n",
    "        print(masked_X.shape)\n",
    "        mlm_Y_hat = self.mlp(masked_X)\n",
    "        return mlm_Y_hat"
   ]
  },
  {
   "cell_type": "code",
   "execution_count": null,
   "metadata": {
    "colab": {
     "base_uri": "https://localhost:8080/"
    },
    "id": "7nWfLK2JLJ89",
    "outputId": "31ec423a-17df-41be-d6cd-3903737f3b0c",
    "pycharm": {
     "name": "#%%\n"
    }
   },
   "outputs": [
    {
     "name": "stdout",
     "output_type": "stream",
     "text": [
      "torch.Size([2, 8, 768])\n",
      "[tensor([0, 0, 0, 1, 1, 1]), tensor([1, 5, 2, 6, 1, 5])]\n",
      "torch.Size([6, 768])\n",
      "torch.Size([2, 3, 768])\n"
     ]
    },
    {
     "data": {
      "text/plain": [
       "torch.Size([2, 3, 10000])"
      ]
     },
     "execution_count": 12,
     "metadata": {},
     "output_type": "execute_result"
    }
   ],
   "source": [
    "mlm = MaskLM(vocab_size, num_hiddens)\n",
    "mlm_positions = torch.tensor([[1, 5, 2], [6, 1, 5]])\n",
    "mlm_Y_hat = mlm(encoded_X, mlm_positions)\n",
    "mlm_Y_hat.shape"
   ]
  },
  {
   "cell_type": "code",
   "execution_count": null,
   "metadata": {
    "colab": {
     "base_uri": "https://localhost:8080/"
    },
    "id": "LwDw9sYZOpkc",
    "outputId": "03f6dbf6-4c47-40bf-89ce-661c03433a7d",
    "pycharm": {
     "name": "#%%\n"
    }
   },
   "outputs": [
    {
     "name": "stdout",
     "output_type": "stream",
     "text": [
      "torch.Size([6, 10000])\n",
      "torch.Size([6])\n"
     ]
    },
    {
     "data": {
      "text/plain": [
       "torch.Size([6])"
      ]
     },
     "execution_count": 13,
     "metadata": {},
     "output_type": "execute_result"
    }
   ],
   "source": [
    "mlm_Y = torch.tensor([[7, 8, 9], [10, 20, 30]])\n",
    "loss = nn.CrossEntropyLoss(reduction='none')\n",
    "print(mlm_Y_hat.reshape((-1, vocab_size)).shape)\n",
    "print( mlm_Y.reshape(-1).shape)\n",
    "mlm_l = loss(mlm_Y_hat.reshape((-1, vocab_size)), mlm_Y.reshape(-1))\n",
    "mlm_l.shape"
   ]
  },
  {
   "cell_type": "markdown",
   "metadata": {
    "id": "9tff_d8zQcPZ",
    "pycharm": {
     "name": "#%% md\n"
    }
   },
   "source": [
    "# Next Sentence Prediction\n",
    "* Logical relationship between text pairs => abinary classification tesk in its pretraining. \n",
    "* NextSentencePred class = one-hidden-layer MLP to predict wtheter the second sentence is the next sentence\n",
    "To help understand the relationship between two text sequences, BERT considers a binary classification task, next sentence prediction, in its pretraining\n",
    "\n"
   ]
  },
  {
   "cell_type": "code",
   "execution_count": null,
   "metadata": {
    "id": "VqgTJfeGRzCF",
    "pycharm": {
     "name": "#%%\n"
    }
   },
   "outputs": [],
   "source": [
    "class NextSentencePred(nn.Module):\n",
    "    \"\"\"The next sentence prediction task of BERT.\"\"\"\n",
    "    def __init__(self, **kwargs):\n",
    "        super(NextSentencePred, self).__init__(**kwargs)\n",
    "        self.output = nn.LazyLinear(2)\n",
    "\n",
    "    def forward(self, X):\n",
    "        # `X` shape: (batch size, `num_hiddens`)\n",
    "        return self.output(X)"
   ]
  },
  {
   "cell_type": "code",
   "execution_count": null,
   "metadata": {
    "colab": {
     "base_uri": "https://localhost:8080/"
    },
    "id": "MNZOiND2R6KI",
    "outputId": "c9667b72-ea98-4e21-b828-7e2c507031fb",
    "pycharm": {
     "name": "#%%\n"
    }
   },
   "outputs": [
    {
     "data": {
      "text/plain": [
       "torch.Size([2, 2])"
      ]
     },
     "execution_count": 15,
     "metadata": {},
     "output_type": "execute_result"
    }
   ],
   "source": [
    "encoded_X = torch.flatten(encoded_X, start_dim=1)\n",
    "# input_shape for NSP: (batch size, `num_hiddens`)\n",
    "nsp = NextSentencePred()\n",
    "nsp_Y_hat = nsp(encoded_X)\n",
    "nsp_Y_hat.shape"
   ]
  },
  {
   "cell_type": "code",
   "execution_count": null,
   "metadata": {
    "colab": {
     "base_uri": "https://localhost:8080/"
    },
    "id": "_DjrC1ZgSGvh",
    "outputId": "fbc6557a-c1b4-43b4-c0d6-45d1df0e2e81",
    "pycharm": {
     "name": "#%%\n"
    }
   },
   "outputs": [
    {
     "data": {
      "text/plain": [
       "torch.Size([2])"
      ]
     },
     "execution_count": 16,
     "metadata": {},
     "output_type": "execute_result"
    }
   ],
   "source": [
    "nsp_y = torch.tensor([0, 1])\n",
    "nsp_l = loss(nsp_Y_hat, nsp_y)\n",
    "nsp_l.shape"
   ]
  },
  {
   "cell_type": "markdown",
   "metadata": {
    "id": "e5p3xns_SM-T",
    "pycharm": {
     "name": "#%% md\n"
    }
   },
   "source": [
    "# Putting it All together \n",
    "* BERTModel = BERTEncoder + MaskLM + NextSentencePred\n",
    "\n",
    "1) Forward inference -> encoded BERT representations encoded_X \n",
    "\n",
    "2) predictions of masked language modeling mlm_Y_hat\n",
    "\n",
    "3) next sentence prediction nsp_Y_hat\n",
    "\n"
   ]
  },
  {
   "cell_type": "code",
   "execution_count": null,
   "metadata": {
    "id": "mirDbi0BSySX",
    "pycharm": {
     "name": "#%%\n"
    }
   },
   "outputs": [],
   "source": [
    "class BERTModel(nn.Module):\n",
    "    \"\"\"The BERT model.\"\"\"\n",
    "    def __init__(self, vocab_size, num_hiddens, ffn_num_hiddens,\n",
    "                 num_heads, num_blks, dropout, max_len=1000):\n",
    "        super(BERTModel, self).__init__()\n",
    "        self.encoder = BERTEncoder(vocab_size, num_hiddens, ffn_num_hiddens,\n",
    "                                   num_heads, num_blks, dropout,\n",
    "                                   max_len=max_len)\n",
    "        self.hidden = nn.Sequential(nn.LazyLinear(num_hiddens),\n",
    "                                    nn.Tanh())\n",
    "        self.mlm = MaskLM(vocab_size, num_hiddens)\n",
    "        self.nsp = NextSentencePred()\n",
    "\n",
    "    def forward(self, tokens, segments, valid_lens=None, pred_positions=None):\n",
    "        encoded_X = self.encoder(tokens, segments, valid_lens)\n",
    "        if pred_positions is not None:\n",
    "            mlm_Y_hat = self.mlm(encoded_X, pred_positions)\n",
    "        else:\n",
    "            mlm_Y_hat = None\n",
    "        # The hidden layer of the MLP classifier for next sentence prediction.\n",
    "        # 0 is the index of the '<cls>' token\n",
    "        nsp_Y_hat = self.nsp(self.hidden(encoded_X[:, 0, :]))\n",
    "        return encoded_X, mlm_Y_hat, nsp_Y_hat"
   ]
  },
  {
   "cell_type": "markdown",
   "metadata": {
    "id": "1IOGyqZ1gtrW",
    "pycharm": {
     "name": "#%% md\n"
    }
   },
   "source": [
    "# Pretraining BERT\n"
   ]
  },
  {
   "cell_type": "code",
   "execution_count": null,
   "metadata": {
    "colab": {
     "base_uri": "https://localhost:8080/"
    },
    "id": "mc5-5ra-g5Dt",
    "outputId": "65b5a794-ccaa-400d-e25f-8f9cb9915e6c",
    "pycharm": {
     "name": "#%%\n"
    }
   },
   "outputs": [
    {
     "name": "stdout",
     "output_type": "stream",
     "text": [
      "Downloading ../data/wikitext-2-v1.zip from https://s3.amazonaws.com/research.metamind.io/wikitext/wikitext-2-v1.zip...\n"
     ]
    }
   ],
   "source": [
    "batch_size, max_len = 512, 64\n",
    "train_iter, vocab = d2l.load_data_wiki(batch_size, max_len)"
   ]
  },
  {
   "cell_type": "code",
   "execution_count": null,
   "metadata": {
    "id": "1A1NVSP_hA6D",
    "pycharm": {
     "name": "#%%\n"
    }
   },
   "outputs": [],
   "source": [
    "net = BERTModel(len(vocab), num_hiddens=128,\n",
    "                    ffn_num_hiddens=256, num_heads=2, num_blks=2, dropout=0.2)\n",
    "device = torch.device('cuda' if torch.cuda.is_available() else 'cpu')\n",
    "loss = nn.CrossEntropyLoss()"
   ]
  },
  {
   "cell_type": "code",
   "execution_count": null,
   "metadata": {
    "id": "TEUmsLF9hKOQ",
    "pycharm": {
     "name": "#%%\n"
    }
   },
   "outputs": [],
   "source": [
    "def _get_batch_loss_bert(net, loss, vocab_size, tokens_X,\n",
    "                         segments_X, valid_lens_x,\n",
    "                         pred_positions_X, mlm_weights_X,\n",
    "                         mlm_Y, nsp_y):\n",
    "    # Forward pass\n",
    "    _, mlm_Y_hat, nsp_Y_hat = net(tokens_X, segments_X,\n",
    "                                  valid_lens_x.reshape(-1),\n",
    "                                  pred_positions_X)\n",
    "    # Compute masked language model loss\n",
    "    mlm_l = loss(mlm_Y_hat.reshape(-1, vocab_size), mlm_Y.reshape(-1)) *\\\n",
    "    mlm_weights_X.reshape(-1, 1)\n",
    "    mlm_l = mlm_l.sum() / (mlm_weights_X.sum() + 1e-8)\n",
    "    # Compute next sentence prediction loss\n",
    "    nsp_l = loss(nsp_Y_hat, nsp_y)\n",
    "    l = mlm_l + nsp_l\n",
    "    return mlm_l, nsp_l, l"
   ]
  },
  {
   "cell_type": "code",
   "execution_count": null,
   "metadata": {
    "id": "KmMzv3ZyhUch",
    "pycharm": {
     "name": "#%%\n"
    }
   },
   "outputs": [],
   "source": [
    "def train_bert(train_iter, net, loss, vocab_size, device, num_steps):\n",
    "    net(*next(iter(train_iter))[:4])\n",
    "    net = nn.DataParallel(net).to(device)\n",
    "    trainer = torch.optim.Adam(net.parameters(), lr=0.01)\n",
    "    step, timer = 0, d2l.Timer()\n",
    "    animator = d2l.Animator(xlabel='step', ylabel='loss',\n",
    "                            xlim=[1, num_steps], legend=['mlm', 'nsp'])\n",
    "    metric = d2l.Accumulator(4)\n",
    "    num_steps_reached = False\n",
    "    while step < num_steps and not num_steps_reached:\n",
    "        for tokens_X, segments_X, valid_lens_x, pred_positions_X,\\\n",
    "            mlm_weights_X, mlm_Y, nsp_y in train_iter:\n",
    "            tokens_X = tokens_X.to(device)\n",
    "            segments_X = segments_X.to(device)\n",
    "            valid_lens_x = valid_lens_x.to(device)\n",
    "            pred_positions_X = pred_positions_X.to(device)\n",
    "            mlm_weights_X = mlm_weights_X.to(device)\n",
    "            mlm_Y, nsp_y = mlm_Y.to(device), nsp_y.to(device)\n",
    "            trainer.zero_grad()\n",
    "            timer.start()\n",
    "            mlm_l, nsp_l, l = _get_batch_loss_bert(\n",
    "                net, loss, vocab_size, tokens_X, segments_X, valid_lens_x,\n",
    "                pred_positions_X, mlm_weights_X, mlm_Y, nsp_y)\n",
    "            l.backward()\n",
    "            trainer.step()\n",
    "            metric.add(mlm_l, nsp_l, tokens_X.shape[0], 1)\n",
    "            timer.stop()\n",
    "            animator.add(step + 1,\n",
    "                         (metric[0] / metric[3], metric[1] / metric[3]))\n",
    "            step += 1\n",
    "            if step == num_steps:\n",
    "                num_steps_reached = True\n",
    "                break\n",
    "\n",
    "    print(f'MLM loss {metric[0] / metric[3]:.3f}, 'f'NSP loss {metric[1] / metric[3]:.3f}')\n",
    "    print(f'{metric[2] / timer.sum():.1f}')"
   ]
  },
  {
   "cell_type": "code",
   "execution_count": null,
   "metadata": {
    "colab": {
     "base_uri": "https://localhost:8080/",
     "height": 308
    },
    "id": "tDo5gUiEhe7Z",
    "outputId": "326551a2-9c20-4cb4-f9b7-7ecb5838a4f9",
    "pycharm": {
     "name": "#%%\n"
    }
   },
   "outputs": [
    {
     "name": "stdout",
     "output_type": "stream",
     "text": [
      "MLM loss 5.691, NSP loss 0.776\n",
      "5927.1\n"
     ]
    },
    {
     "data": {
      "image/svg+xml": "<?xml version=\"1.0\" encoding=\"utf-8\" standalone=\"no\"?>\n<!DOCTYPE svg PUBLIC \"-//W3C//DTD SVG 1.1//EN\"\n  \"http://www.w3.org/Graphics/SVG/1.1/DTD/svg11.dtd\">\n<!-- Created with matplotlib (https://matplotlib.org/) -->\n<svg height=\"180.65625pt\" version=\"1.1\" viewBox=\"0 0 249.465625 180.65625\" width=\"249.465625pt\" xmlns=\"http://www.w3.org/2000/svg\" xmlns:xlink=\"http://www.w3.org/1999/xlink\">\n <defs>\n  <style type=\"text/css\">\n*{stroke-linecap:butt;stroke-linejoin:round;}\n  </style>\n </defs>\n <g id=\"figure_1\">\n  <g id=\"patch_1\">\n   <path d=\"M 0 180.65625 \nL 249.465625 180.65625 \nL 249.465625 0 \nL 0 0 \nz\n\" style=\"fill:none;\"/>\n  </g>\n  <g id=\"axes_1\">\n   <g id=\"patch_2\">\n    <path d=\"M 40.603125 143.1 \nL 235.903125 143.1 \nL 235.903125 7.2 \nL 40.603125 7.2 \nz\n\" style=\"fill:#ffffff;\"/>\n   </g>\n   <g id=\"matplotlib.axis_1\">\n    <g id=\"xtick_1\">\n     <g id=\"line2d_1\">\n      <path clip-path=\"url(#p0129398c3c)\" d=\"M 76.474554 143.1 \nL 76.474554 7.2 \n\" style=\"fill:none;stroke:#b0b0b0;stroke-linecap:square;stroke-width:0.8;\"/>\n     </g>\n     <g id=\"line2d_2\">\n      <defs>\n       <path d=\"M 0 0 \nL 0 3.5 \n\" id=\"m044f369271\" style=\"stroke:#000000;stroke-width:0.8;\"/>\n      </defs>\n      <g>\n       <use style=\"stroke:#000000;stroke-width:0.8;\" x=\"76.474554\" xlink:href=\"#m044f369271\" y=\"143.1\"/>\n      </g>\n     </g>\n     <g id=\"text_1\">\n      <!-- 10 -->\n      <defs>\n       <path d=\"M 12.40625 8.296875 \nL 28.515625 8.296875 \nL 28.515625 63.921875 \nL 10.984375 60.40625 \nL 10.984375 69.390625 \nL 28.421875 72.90625 \nL 38.28125 72.90625 \nL 38.28125 8.296875 \nL 54.390625 8.296875 \nL 54.390625 0 \nL 12.40625 0 \nz\n\" id=\"DejaVuSans-49\"/>\n       <path d=\"M 31.78125 66.40625 \nQ 24.171875 66.40625 20.328125 58.90625 \nQ 16.5 51.421875 16.5 36.375 \nQ 16.5 21.390625 20.328125 13.890625 \nQ 24.171875 6.390625 31.78125 6.390625 \nQ 39.453125 6.390625 43.28125 13.890625 \nQ 47.125 21.390625 47.125 36.375 \nQ 47.125 51.421875 43.28125 58.90625 \nQ 39.453125 66.40625 31.78125 66.40625 \nz\nM 31.78125 74.21875 \nQ 44.046875 74.21875 50.515625 64.515625 \nQ 56.984375 54.828125 56.984375 36.375 \nQ 56.984375 17.96875 50.515625 8.265625 \nQ 44.046875 -1.421875 31.78125 -1.421875 \nQ 19.53125 -1.421875 13.0625 8.265625 \nQ 6.59375 17.96875 6.59375 36.375 \nQ 6.59375 54.828125 13.0625 64.515625 \nQ 19.53125 74.21875 31.78125 74.21875 \nz\n\" id=\"DejaVuSans-48\"/>\n      </defs>\n      <g transform=\"translate(70.112054 157.698438)scale(0.1 -0.1)\">\n       <use xlink:href=\"#DejaVuSans-49\"/>\n       <use x=\"63.623047\" xlink:href=\"#DejaVuSans-48\"/>\n      </g>\n     </g>\n    </g>\n    <g id=\"xtick_2\">\n     <g id=\"line2d_3\">\n      <path clip-path=\"url(#p0129398c3c)\" d=\"M 116.331696 143.1 \nL 116.331696 7.2 \n\" style=\"fill:none;stroke:#b0b0b0;stroke-linecap:square;stroke-width:0.8;\"/>\n     </g>\n     <g id=\"line2d_4\">\n      <g>\n       <use style=\"stroke:#000000;stroke-width:0.8;\" x=\"116.331696\" xlink:href=\"#m044f369271\" y=\"143.1\"/>\n      </g>\n     </g>\n     <g id=\"text_2\">\n      <!-- 20 -->\n      <defs>\n       <path d=\"M 19.1875 8.296875 \nL 53.609375 8.296875 \nL 53.609375 0 \nL 7.328125 0 \nL 7.328125 8.296875 \nQ 12.9375 14.109375 22.625 23.890625 \nQ 32.328125 33.6875 34.8125 36.53125 \nQ 39.546875 41.84375 41.421875 45.53125 \nQ 43.3125 49.21875 43.3125 52.78125 \nQ 43.3125 58.59375 39.234375 62.25 \nQ 35.15625 65.921875 28.609375 65.921875 \nQ 23.96875 65.921875 18.8125 64.3125 \nQ 13.671875 62.703125 7.8125 59.421875 \nL 7.8125 69.390625 \nQ 13.765625 71.78125 18.9375 73 \nQ 24.125 74.21875 28.421875 74.21875 \nQ 39.75 74.21875 46.484375 68.546875 \nQ 53.21875 62.890625 53.21875 53.421875 \nQ 53.21875 48.921875 51.53125 44.890625 \nQ 49.859375 40.875 45.40625 35.40625 \nQ 44.1875 33.984375 37.640625 27.21875 \nQ 31.109375 20.453125 19.1875 8.296875 \nz\n\" id=\"DejaVuSans-50\"/>\n      </defs>\n      <g transform=\"translate(109.969196 157.698438)scale(0.1 -0.1)\">\n       <use xlink:href=\"#DejaVuSans-50\"/>\n       <use x=\"63.623047\" xlink:href=\"#DejaVuSans-48\"/>\n      </g>\n     </g>\n    </g>\n    <g id=\"xtick_3\">\n     <g id=\"line2d_5\">\n      <path clip-path=\"url(#p0129398c3c)\" d=\"M 156.188839 143.1 \nL 156.188839 7.2 \n\" style=\"fill:none;stroke:#b0b0b0;stroke-linecap:square;stroke-width:0.8;\"/>\n     </g>\n     <g id=\"line2d_6\">\n      <g>\n       <use style=\"stroke:#000000;stroke-width:0.8;\" x=\"156.188839\" xlink:href=\"#m044f369271\" y=\"143.1\"/>\n      </g>\n     </g>\n     <g id=\"text_3\">\n      <!-- 30 -->\n      <defs>\n       <path d=\"M 40.578125 39.3125 \nQ 47.65625 37.796875 51.625 33 \nQ 55.609375 28.21875 55.609375 21.1875 \nQ 55.609375 10.40625 48.1875 4.484375 \nQ 40.765625 -1.421875 27.09375 -1.421875 \nQ 22.515625 -1.421875 17.65625 -0.515625 \nQ 12.796875 0.390625 7.625 2.203125 \nL 7.625 11.71875 \nQ 11.71875 9.328125 16.59375 8.109375 \nQ 21.484375 6.890625 26.8125 6.890625 \nQ 36.078125 6.890625 40.9375 10.546875 \nQ 45.796875 14.203125 45.796875 21.1875 \nQ 45.796875 27.640625 41.28125 31.265625 \nQ 36.765625 34.90625 28.71875 34.90625 \nL 20.21875 34.90625 \nL 20.21875 43.015625 \nL 29.109375 43.015625 \nQ 36.375 43.015625 40.234375 45.921875 \nQ 44.09375 48.828125 44.09375 54.296875 \nQ 44.09375 59.90625 40.109375 62.90625 \nQ 36.140625 65.921875 28.71875 65.921875 \nQ 24.65625 65.921875 20.015625 65.03125 \nQ 15.375 64.15625 9.8125 62.3125 \nL 9.8125 71.09375 \nQ 15.4375 72.65625 20.34375 73.4375 \nQ 25.25 74.21875 29.59375 74.21875 \nQ 40.828125 74.21875 47.359375 69.109375 \nQ 53.90625 64.015625 53.90625 55.328125 \nQ 53.90625 49.265625 50.4375 45.09375 \nQ 46.96875 40.921875 40.578125 39.3125 \nz\n\" id=\"DejaVuSans-51\"/>\n      </defs>\n      <g transform=\"translate(149.826339 157.698438)scale(0.1 -0.1)\">\n       <use xlink:href=\"#DejaVuSans-51\"/>\n       <use x=\"63.623047\" xlink:href=\"#DejaVuSans-48\"/>\n      </g>\n     </g>\n    </g>\n    <g id=\"xtick_4\">\n     <g id=\"line2d_7\">\n      <path clip-path=\"url(#p0129398c3c)\" d=\"M 196.045982 143.1 \nL 196.045982 7.2 \n\" style=\"fill:none;stroke:#b0b0b0;stroke-linecap:square;stroke-width:0.8;\"/>\n     </g>\n     <g id=\"line2d_8\">\n      <g>\n       <use style=\"stroke:#000000;stroke-width:0.8;\" x=\"196.045982\" xlink:href=\"#m044f369271\" y=\"143.1\"/>\n      </g>\n     </g>\n     <g id=\"text_4\">\n      <!-- 40 -->\n      <defs>\n       <path d=\"M 37.796875 64.3125 \nL 12.890625 25.390625 \nL 37.796875 25.390625 \nz\nM 35.203125 72.90625 \nL 47.609375 72.90625 \nL 47.609375 25.390625 \nL 58.015625 25.390625 \nL 58.015625 17.1875 \nL 47.609375 17.1875 \nL 47.609375 0 \nL 37.796875 0 \nL 37.796875 17.1875 \nL 4.890625 17.1875 \nL 4.890625 26.703125 \nz\n\" id=\"DejaVuSans-52\"/>\n      </defs>\n      <g transform=\"translate(189.683482 157.698438)scale(0.1 -0.1)\">\n       <use xlink:href=\"#DejaVuSans-52\"/>\n       <use x=\"63.623047\" xlink:href=\"#DejaVuSans-48\"/>\n      </g>\n     </g>\n    </g>\n    <g id=\"xtick_5\">\n     <g id=\"line2d_9\">\n      <path clip-path=\"url(#p0129398c3c)\" d=\"M 235.903125 143.1 \nL 235.903125 7.2 \n\" style=\"fill:none;stroke:#b0b0b0;stroke-linecap:square;stroke-width:0.8;\"/>\n     </g>\n     <g id=\"line2d_10\">\n      <g>\n       <use style=\"stroke:#000000;stroke-width:0.8;\" x=\"235.903125\" xlink:href=\"#m044f369271\" y=\"143.1\"/>\n      </g>\n     </g>\n     <g id=\"text_5\">\n      <!-- 50 -->\n      <defs>\n       <path d=\"M 10.796875 72.90625 \nL 49.515625 72.90625 \nL 49.515625 64.59375 \nL 19.828125 64.59375 \nL 19.828125 46.734375 \nQ 21.96875 47.46875 24.109375 47.828125 \nQ 26.265625 48.1875 28.421875 48.1875 \nQ 40.625 48.1875 47.75 41.5 \nQ 54.890625 34.8125 54.890625 23.390625 \nQ 54.890625 11.625 47.5625 5.09375 \nQ 40.234375 -1.421875 26.90625 -1.421875 \nQ 22.3125 -1.421875 17.546875 -0.640625 \nQ 12.796875 0.140625 7.71875 1.703125 \nL 7.71875 11.625 \nQ 12.109375 9.234375 16.796875 8.0625 \nQ 21.484375 6.890625 26.703125 6.890625 \nQ 35.15625 6.890625 40.078125 11.328125 \nQ 45.015625 15.765625 45.015625 23.390625 \nQ 45.015625 31 40.078125 35.4375 \nQ 35.15625 39.890625 26.703125 39.890625 \nQ 22.75 39.890625 18.8125 39.015625 \nQ 14.890625 38.140625 10.796875 36.28125 \nz\n\" id=\"DejaVuSans-53\"/>\n      </defs>\n      <g transform=\"translate(229.540625 157.698438)scale(0.1 -0.1)\">\n       <use xlink:href=\"#DejaVuSans-53\"/>\n       <use x=\"63.623047\" xlink:href=\"#DejaVuSans-48\"/>\n      </g>\n     </g>\n    </g>\n    <g id=\"text_6\">\n     <!-- step -->\n     <defs>\n      <path d=\"M 44.28125 53.078125 \nL 44.28125 44.578125 \nQ 40.484375 46.53125 36.375 47.5 \nQ 32.28125 48.484375 27.875 48.484375 \nQ 21.1875 48.484375 17.84375 46.4375 \nQ 14.5 44.390625 14.5 40.28125 \nQ 14.5 37.15625 16.890625 35.375 \nQ 19.28125 33.59375 26.515625 31.984375 \nL 29.59375 31.296875 \nQ 39.15625 29.25 43.1875 25.515625 \nQ 47.21875 21.78125 47.21875 15.09375 \nQ 47.21875 7.46875 41.1875 3.015625 \nQ 35.15625 -1.421875 24.609375 -1.421875 \nQ 20.21875 -1.421875 15.453125 -0.5625 \nQ 10.6875 0.296875 5.421875 2 \nL 5.421875 11.28125 \nQ 10.40625 8.6875 15.234375 7.390625 \nQ 20.0625 6.109375 24.8125 6.109375 \nQ 31.15625 6.109375 34.5625 8.28125 \nQ 37.984375 10.453125 37.984375 14.40625 \nQ 37.984375 18.0625 35.515625 20.015625 \nQ 33.0625 21.96875 24.703125 23.78125 \nL 21.578125 24.515625 \nQ 13.234375 26.265625 9.515625 29.90625 \nQ 5.8125 33.546875 5.8125 39.890625 \nQ 5.8125 47.609375 11.28125 51.796875 \nQ 16.75 56 26.8125 56 \nQ 31.78125 56 36.171875 55.265625 \nQ 40.578125 54.546875 44.28125 53.078125 \nz\n\" id=\"DejaVuSans-115\"/>\n      <path d=\"M 18.3125 70.21875 \nL 18.3125 54.6875 \nL 36.8125 54.6875 \nL 36.8125 47.703125 \nL 18.3125 47.703125 \nL 18.3125 18.015625 \nQ 18.3125 11.328125 20.140625 9.421875 \nQ 21.96875 7.515625 27.59375 7.515625 \nL 36.8125 7.515625 \nL 36.8125 0 \nL 27.59375 0 \nQ 17.1875 0 13.234375 3.875 \nQ 9.28125 7.765625 9.28125 18.015625 \nL 9.28125 47.703125 \nL 2.6875 47.703125 \nL 2.6875 54.6875 \nL 9.28125 54.6875 \nL 9.28125 70.21875 \nz\n\" id=\"DejaVuSans-116\"/>\n      <path d=\"M 56.203125 29.59375 \nL 56.203125 25.203125 \nL 14.890625 25.203125 \nQ 15.484375 15.921875 20.484375 11.0625 \nQ 25.484375 6.203125 34.421875 6.203125 \nQ 39.59375 6.203125 44.453125 7.46875 \nQ 49.3125 8.734375 54.109375 11.28125 \nL 54.109375 2.78125 \nQ 49.265625 0.734375 44.1875 -0.34375 \nQ 39.109375 -1.421875 33.890625 -1.421875 \nQ 20.796875 -1.421875 13.15625 6.1875 \nQ 5.515625 13.8125 5.515625 26.8125 \nQ 5.515625 40.234375 12.765625 48.109375 \nQ 20.015625 56 32.328125 56 \nQ 43.359375 56 49.78125 48.890625 \nQ 56.203125 41.796875 56.203125 29.59375 \nz\nM 47.21875 32.234375 \nQ 47.125 39.59375 43.09375 43.984375 \nQ 39.0625 48.390625 32.421875 48.390625 \nQ 24.90625 48.390625 20.390625 44.140625 \nQ 15.875 39.890625 15.1875 32.171875 \nz\n\" id=\"DejaVuSans-101\"/>\n      <path d=\"M 18.109375 8.203125 \nL 18.109375 -20.796875 \nL 9.078125 -20.796875 \nL 9.078125 54.6875 \nL 18.109375 54.6875 \nL 18.109375 46.390625 \nQ 20.953125 51.265625 25.265625 53.625 \nQ 29.59375 56 35.59375 56 \nQ 45.5625 56 51.78125 48.09375 \nQ 58.015625 40.1875 58.015625 27.296875 \nQ 58.015625 14.40625 51.78125 6.484375 \nQ 45.5625 -1.421875 35.59375 -1.421875 \nQ 29.59375 -1.421875 25.265625 0.953125 \nQ 20.953125 3.328125 18.109375 8.203125 \nz\nM 48.6875 27.296875 \nQ 48.6875 37.203125 44.609375 42.84375 \nQ 40.53125 48.484375 33.40625 48.484375 \nQ 26.265625 48.484375 22.1875 42.84375 \nQ 18.109375 37.203125 18.109375 27.296875 \nQ 18.109375 17.390625 22.1875 11.75 \nQ 26.265625 6.109375 33.40625 6.109375 \nQ 40.53125 6.109375 44.609375 11.75 \nQ 48.6875 17.390625 48.6875 27.296875 \nz\n\" id=\"DejaVuSans-112\"/>\n     </defs>\n     <g transform=\"translate(127.4375 171.376563)scale(0.1 -0.1)\">\n      <use xlink:href=\"#DejaVuSans-115\"/>\n      <use x=\"52.099609\" xlink:href=\"#DejaVuSans-116\"/>\n      <use x=\"91.308594\" xlink:href=\"#DejaVuSans-101\"/>\n      <use x=\"152.832031\" xlink:href=\"#DejaVuSans-112\"/>\n     </g>\n    </g>\n   </g>\n   <g id=\"matplotlib.axis_2\">\n    <g id=\"ytick_1\">\n     <g id=\"line2d_11\">\n      <path clip-path=\"url(#p0129398c3c)\" d=\"M 40.603125 120.186593 \nL 235.903125 120.186593 \n\" style=\"fill:none;stroke:#b0b0b0;stroke-linecap:square;stroke-width:0.8;\"/>\n     </g>\n     <g id=\"line2d_12\">\n      <defs>\n       <path d=\"M 0 0 \nL -3.5 0 \n\" id=\"m535d562747\" style=\"stroke:#000000;stroke-width:0.8;\"/>\n      </defs>\n      <g>\n       <use style=\"stroke:#000000;stroke-width:0.8;\" x=\"40.603125\" xlink:href=\"#m535d562747\" y=\"120.186593\"/>\n      </g>\n     </g>\n     <g id=\"text_7\">\n      <!-- 2 -->\n      <g transform=\"translate(27.240625 123.985811)scale(0.1 -0.1)\">\n       <use xlink:href=\"#DejaVuSans-50\"/>\n      </g>\n     </g>\n    </g>\n    <g id=\"ytick_2\">\n     <g id=\"line2d_13\">\n      <path clip-path=\"url(#p0129398c3c)\" d=\"M 40.603125 93.788953 \nL 235.903125 93.788953 \n\" style=\"fill:none;stroke:#b0b0b0;stroke-linecap:square;stroke-width:0.8;\"/>\n     </g>\n     <g id=\"line2d_14\">\n      <g>\n       <use style=\"stroke:#000000;stroke-width:0.8;\" x=\"40.603125\" xlink:href=\"#m535d562747\" y=\"93.788953\"/>\n      </g>\n     </g>\n     <g id=\"text_8\">\n      <!-- 4 -->\n      <g transform=\"translate(27.240625 97.588172)scale(0.1 -0.1)\">\n       <use xlink:href=\"#DejaVuSans-52\"/>\n      </g>\n     </g>\n    </g>\n    <g id=\"ytick_3\">\n     <g id=\"line2d_15\">\n      <path clip-path=\"url(#p0129398c3c)\" d=\"M 40.603125 67.391313 \nL 235.903125 67.391313 \n\" style=\"fill:none;stroke:#b0b0b0;stroke-linecap:square;stroke-width:0.8;\"/>\n     </g>\n     <g id=\"line2d_16\">\n      <g>\n       <use style=\"stroke:#000000;stroke-width:0.8;\" x=\"40.603125\" xlink:href=\"#m535d562747\" y=\"67.391313\"/>\n      </g>\n     </g>\n     <g id=\"text_9\">\n      <!-- 6 -->\n      <defs>\n       <path d=\"M 33.015625 40.375 \nQ 26.375 40.375 22.484375 35.828125 \nQ 18.609375 31.296875 18.609375 23.390625 \nQ 18.609375 15.53125 22.484375 10.953125 \nQ 26.375 6.390625 33.015625 6.390625 \nQ 39.65625 6.390625 43.53125 10.953125 \nQ 47.40625 15.53125 47.40625 23.390625 \nQ 47.40625 31.296875 43.53125 35.828125 \nQ 39.65625 40.375 33.015625 40.375 \nz\nM 52.59375 71.296875 \nL 52.59375 62.3125 \nQ 48.875 64.0625 45.09375 64.984375 \nQ 41.3125 65.921875 37.59375 65.921875 \nQ 27.828125 65.921875 22.671875 59.328125 \nQ 17.53125 52.734375 16.796875 39.40625 \nQ 19.671875 43.65625 24.015625 45.921875 \nQ 28.375 48.1875 33.59375 48.1875 \nQ 44.578125 48.1875 50.953125 41.515625 \nQ 57.328125 34.859375 57.328125 23.390625 \nQ 57.328125 12.15625 50.6875 5.359375 \nQ 44.046875 -1.421875 33.015625 -1.421875 \nQ 20.359375 -1.421875 13.671875 8.265625 \nQ 6.984375 17.96875 6.984375 36.375 \nQ 6.984375 53.65625 15.1875 63.9375 \nQ 23.390625 74.21875 37.203125 74.21875 \nQ 40.921875 74.21875 44.703125 73.484375 \nQ 48.484375 72.75 52.59375 71.296875 \nz\n\" id=\"DejaVuSans-54\"/>\n      </defs>\n      <g transform=\"translate(27.240625 71.190532)scale(0.1 -0.1)\">\n       <use xlink:href=\"#DejaVuSans-54\"/>\n      </g>\n     </g>\n    </g>\n    <g id=\"ytick_4\">\n     <g id=\"line2d_17\">\n      <path clip-path=\"url(#p0129398c3c)\" d=\"M 40.603125 40.993673 \nL 235.903125 40.993673 \n\" style=\"fill:none;stroke:#b0b0b0;stroke-linecap:square;stroke-width:0.8;\"/>\n     </g>\n     <g id=\"line2d_18\">\n      <g>\n       <use style=\"stroke:#000000;stroke-width:0.8;\" x=\"40.603125\" xlink:href=\"#m535d562747\" y=\"40.993673\"/>\n      </g>\n     </g>\n     <g id=\"text_10\">\n      <!-- 8 -->\n      <defs>\n       <path d=\"M 31.78125 34.625 \nQ 24.75 34.625 20.71875 30.859375 \nQ 16.703125 27.09375 16.703125 20.515625 \nQ 16.703125 13.921875 20.71875 10.15625 \nQ 24.75 6.390625 31.78125 6.390625 \nQ 38.8125 6.390625 42.859375 10.171875 \nQ 46.921875 13.96875 46.921875 20.515625 \nQ 46.921875 27.09375 42.890625 30.859375 \nQ 38.875 34.625 31.78125 34.625 \nz\nM 21.921875 38.8125 \nQ 15.578125 40.375 12.03125 44.71875 \nQ 8.5 49.078125 8.5 55.328125 \nQ 8.5 64.0625 14.71875 69.140625 \nQ 20.953125 74.21875 31.78125 74.21875 \nQ 42.671875 74.21875 48.875 69.140625 \nQ 55.078125 64.0625 55.078125 55.328125 \nQ 55.078125 49.078125 51.53125 44.71875 \nQ 48 40.375 41.703125 38.8125 \nQ 48.828125 37.15625 52.796875 32.3125 \nQ 56.78125 27.484375 56.78125 20.515625 \nQ 56.78125 9.90625 50.3125 4.234375 \nQ 43.84375 -1.421875 31.78125 -1.421875 \nQ 19.734375 -1.421875 13.25 4.234375 \nQ 6.78125 9.90625 6.78125 20.515625 \nQ 6.78125 27.484375 10.78125 32.3125 \nQ 14.796875 37.15625 21.921875 38.8125 \nz\nM 18.3125 54.390625 \nQ 18.3125 48.734375 21.84375 45.5625 \nQ 25.390625 42.390625 31.78125 42.390625 \nQ 38.140625 42.390625 41.71875 45.5625 \nQ 45.3125 48.734375 45.3125 54.390625 \nQ 45.3125 60.0625 41.71875 63.234375 \nQ 38.140625 66.40625 31.78125 66.40625 \nQ 25.390625 66.40625 21.84375 63.234375 \nQ 18.3125 60.0625 18.3125 54.390625 \nz\n\" id=\"DejaVuSans-56\"/>\n      </defs>\n      <g transform=\"translate(27.240625 44.792892)scale(0.1 -0.1)\">\n       <use xlink:href=\"#DejaVuSans-56\"/>\n      </g>\n     </g>\n    </g>\n    <g id=\"ytick_5\">\n     <g id=\"line2d_19\">\n      <path clip-path=\"url(#p0129398c3c)\" d=\"M 40.603125 14.596033 \nL 235.903125 14.596033 \n\" style=\"fill:none;stroke:#b0b0b0;stroke-linecap:square;stroke-width:0.8;\"/>\n     </g>\n     <g id=\"line2d_20\">\n      <g>\n       <use style=\"stroke:#000000;stroke-width:0.8;\" x=\"40.603125\" xlink:href=\"#m535d562747\" y=\"14.596033\"/>\n      </g>\n     </g>\n     <g id=\"text_11\">\n      <!-- 10 -->\n      <g transform=\"translate(20.878125 18.395252)scale(0.1 -0.1)\">\n       <use xlink:href=\"#DejaVuSans-49\"/>\n       <use x=\"63.623047\" xlink:href=\"#DejaVuSans-48\"/>\n      </g>\n     </g>\n    </g>\n    <g id=\"text_12\">\n     <!-- loss -->\n     <defs>\n      <path d=\"M 9.421875 75.984375 \nL 18.40625 75.984375 \nL 18.40625 0 \nL 9.421875 0 \nz\n\" id=\"DejaVuSans-108\"/>\n      <path d=\"M 30.609375 48.390625 \nQ 23.390625 48.390625 19.1875 42.75 \nQ 14.984375 37.109375 14.984375 27.296875 \nQ 14.984375 17.484375 19.15625 11.84375 \nQ 23.34375 6.203125 30.609375 6.203125 \nQ 37.796875 6.203125 41.984375 11.859375 \nQ 46.1875 17.53125 46.1875 27.296875 \nQ 46.1875 37.015625 41.984375 42.703125 \nQ 37.796875 48.390625 30.609375 48.390625 \nz\nM 30.609375 56 \nQ 42.328125 56 49.015625 48.375 \nQ 55.71875 40.765625 55.71875 27.296875 \nQ 55.71875 13.875 49.015625 6.21875 \nQ 42.328125 -1.421875 30.609375 -1.421875 \nQ 18.84375 -1.421875 12.171875 6.21875 \nQ 5.515625 13.875 5.515625 27.296875 \nQ 5.515625 40.765625 12.171875 48.375 \nQ 18.84375 56 30.609375 56 \nz\n\" id=\"DejaVuSans-111\"/>\n     </defs>\n     <g transform=\"translate(14.798437 84.807812)rotate(-90)scale(0.1 -0.1)\">\n      <use xlink:href=\"#DejaVuSans-108\"/>\n      <use x=\"27.783203\" xlink:href=\"#DejaVuSans-111\"/>\n      <use x=\"88.964844\" xlink:href=\"#DejaVuSans-115\"/>\n      <use x=\"141.064453\" xlink:href=\"#DejaVuSans-115\"/>\n     </g>\n    </g>\n   </g>\n   <g id=\"line2d_21\">\n    <path clip-path=\"url(#p0129398c3c)\" d=\"M 40.603125 13.377273 \nL 44.588839 23.540427 \nL 48.574554 27.821651 \nL 52.560268 35.123563 \nL 56.545982 41.279525 \nL 60.531696 46.046488 \nL 64.517411 49.48587 \nL 68.503125 52.095993 \nL 72.488839 53.80736 \nL 76.474554 55.106611 \nL 80.460268 56.306102 \nL 84.445982 57.374342 \nL 88.431696 58.261795 \nL 92.417411 59.11888 \nL 96.403125 59.739484 \nL 100.388839 60.348361 \nL 104.374554 60.931657 \nL 108.360268 61.544494 \nL 112.345982 62.048636 \nL 116.331696 62.595201 \nL 120.317411 62.987396 \nL 124.303125 63.365252 \nL 128.288839 63.705629 \nL 132.274554 64.004288 \nL 136.260268 64.343658 \nL 140.245982 64.706437 \nL 144.231696 65.05074 \nL 148.217411 65.443057 \nL 152.203125 65.829833 \nL 156.188839 66.247326 \nL 160.174554 66.611504 \nL 164.160268 66.995133 \nL 168.145982 67.280719 \nL 172.131696 67.646792 \nL 176.117411 67.970355 \nL 180.103125 68.205758 \nL 184.088839 68.454455 \nL 188.074554 68.752555 \nL 192.060268 69.027693 \nL 196.045982 69.312871 \nL 200.031696 69.587426 \nL 204.017411 69.856245 \nL 208.003125 70.09035 \nL 211.988839 70.31963 \nL 215.974554 70.537907 \nL 219.960268 70.744041 \nL 223.945982 70.876331 \nL 227.931696 71.038031 \nL 231.917411 71.26058 \nL 235.903125 71.469671 \n\" style=\"fill:none;stroke:#1f77b4;stroke-linecap:square;stroke-width:1.5;\"/>\n   </g>\n   <g id=\"line2d_22\">\n    <path clip-path=\"url(#p0129398c3c)\" d=\"M 40.603125 136.922727 \nL 44.588839 133.30847 \nL 48.574554 125.485712 \nL 52.560268 126.112053 \nL 56.545982 128.342467 \nL 60.531696 129.54118 \nL 64.517411 130.607974 \nL 68.503125 131.39613 \nL 72.488839 131.995334 \nL 76.474554 132.50103 \nL 80.460268 132.935384 \nL 84.445982 133.305242 \nL 88.431696 133.619087 \nL 92.417411 133.869015 \nL 96.403125 134.109867 \nL 100.388839 134.293869 \nL 104.374554 134.443852 \nL 108.360268 134.60095 \nL 112.345982 134.734797 \nL 116.331696 134.855672 \nL 120.317411 134.978804 \nL 124.303125 135.088085 \nL 128.288839 135.185146 \nL 132.274554 135.267036 \nL 136.260268 135.350591 \nL 140.245982 135.425928 \nL 144.231696 135.502329 \nL 148.217411 135.567494 \nL 152.203125 135.627741 \nL 156.188839 135.681527 \nL 160.174554 135.732724 \nL 164.160268 135.789098 \nL 168.145982 135.83097 \nL 172.131696 135.868505 \nL 176.117411 135.913214 \nL 180.103125 135.952606 \nL 184.088839 135.98821 \nL 188.074554 136.023924 \nL 192.060268 136.058433 \nL 196.045982 136.092055 \nL 200.031696 136.120994 \nL 204.017411 136.14929 \nL 208.003125 136.177667 \nL 211.988839 136.201581 \nL 215.974554 136.226846 \nL 219.960268 136.253791 \nL 223.945982 136.277647 \nL 227.931696 136.301583 \nL 231.917411 136.323702 \nL 235.903125 136.345793 \n\" style=\"fill:none;stroke:#bf00bf;stroke-dasharray:5.55,2.4;stroke-dashoffset:0;stroke-width:1.5;\"/>\n   </g>\n   <g id=\"patch_3\">\n    <path d=\"M 40.603125 143.1 \nL 40.603125 7.2 \n\" style=\"fill:none;stroke:#000000;stroke-linecap:square;stroke-linejoin:miter;stroke-width:0.8;\"/>\n   </g>\n   <g id=\"patch_4\">\n    <path d=\"M 235.903125 143.1 \nL 235.903125 7.2 \n\" style=\"fill:none;stroke:#000000;stroke-linecap:square;stroke-linejoin:miter;stroke-width:0.8;\"/>\n   </g>\n   <g id=\"patch_5\">\n    <path d=\"M 40.603125 143.1 \nL 235.903125 143.1 \n\" style=\"fill:none;stroke:#000000;stroke-linecap:square;stroke-linejoin:miter;stroke-width:0.8;\"/>\n   </g>\n   <g id=\"patch_6\">\n    <path d=\"M 40.603125 7.2 \nL 235.903125 7.2 \n\" style=\"fill:none;stroke:#000000;stroke-linecap:square;stroke-linejoin:miter;stroke-width:0.8;\"/>\n   </g>\n   <g id=\"legend_1\">\n    <g id=\"patch_7\">\n     <path d=\"M 174.64375 44.55625 \nL 228.903125 44.55625 \nQ 230.903125 44.55625 230.903125 42.55625 \nL 230.903125 14.2 \nQ 230.903125 12.2 228.903125 12.2 \nL 174.64375 12.2 \nQ 172.64375 12.2 172.64375 14.2 \nL 172.64375 42.55625 \nQ 172.64375 44.55625 174.64375 44.55625 \nz\n\" style=\"fill:#ffffff;opacity:0.8;stroke:#cccccc;stroke-linejoin:miter;\"/>\n    </g>\n    <g id=\"line2d_23\">\n     <path d=\"M 176.64375 20.298437 \nL 196.64375 20.298437 \n\" style=\"fill:none;stroke:#1f77b4;stroke-linecap:square;stroke-width:1.5;\"/>\n    </g>\n    <g id=\"line2d_24\"/>\n    <g id=\"text_13\">\n     <!-- mlm -->\n     <defs>\n      <path d=\"M 52 44.1875 \nQ 55.375 50.25 60.0625 53.125 \nQ 64.75 56 71.09375 56 \nQ 79.640625 56 84.28125 50.015625 \nQ 88.921875 44.046875 88.921875 33.015625 \nL 88.921875 0 \nL 79.890625 0 \nL 79.890625 32.71875 \nQ 79.890625 40.578125 77.09375 44.375 \nQ 74.3125 48.1875 68.609375 48.1875 \nQ 61.625 48.1875 57.5625 43.546875 \nQ 53.515625 38.921875 53.515625 30.90625 \nL 53.515625 0 \nL 44.484375 0 \nL 44.484375 32.71875 \nQ 44.484375 40.625 41.703125 44.40625 \nQ 38.921875 48.1875 33.109375 48.1875 \nQ 26.21875 48.1875 22.15625 43.53125 \nQ 18.109375 38.875 18.109375 30.90625 \nL 18.109375 0 \nL 9.078125 0 \nL 9.078125 54.6875 \nL 18.109375 54.6875 \nL 18.109375 46.1875 \nQ 21.1875 51.21875 25.484375 53.609375 \nQ 29.78125 56 35.6875 56 \nQ 41.65625 56 45.828125 52.96875 \nQ 50 49.953125 52 44.1875 \nz\n\" id=\"DejaVuSans-109\"/>\n     </defs>\n     <g transform=\"translate(204.64375 23.798437)scale(0.1 -0.1)\">\n      <use xlink:href=\"#DejaVuSans-109\"/>\n      <use x=\"97.412109\" xlink:href=\"#DejaVuSans-108\"/>\n      <use x=\"125.195312\" xlink:href=\"#DejaVuSans-109\"/>\n     </g>\n    </g>\n    <g id=\"line2d_25\">\n     <path d=\"M 176.64375 34.976562 \nL 196.64375 34.976562 \n\" style=\"fill:none;stroke:#bf00bf;stroke-dasharray:5.55,2.4;stroke-dashoffset:0;stroke-width:1.5;\"/>\n    </g>\n    <g id=\"line2d_26\"/>\n    <g id=\"text_14\">\n     <!-- nsp -->\n     <defs>\n      <path d=\"M 54.890625 33.015625 \nL 54.890625 0 \nL 45.90625 0 \nL 45.90625 32.71875 \nQ 45.90625 40.484375 42.875 44.328125 \nQ 39.84375 48.1875 33.796875 48.1875 \nQ 26.515625 48.1875 22.3125 43.546875 \nQ 18.109375 38.921875 18.109375 30.90625 \nL 18.109375 0 \nL 9.078125 0 \nL 9.078125 54.6875 \nL 18.109375 54.6875 \nL 18.109375 46.1875 \nQ 21.34375 51.125 25.703125 53.5625 \nQ 30.078125 56 35.796875 56 \nQ 45.21875 56 50.046875 50.171875 \nQ 54.890625 44.34375 54.890625 33.015625 \nz\n\" id=\"DejaVuSans-110\"/>\n     </defs>\n     <g transform=\"translate(204.64375 38.476562)scale(0.1 -0.1)\">\n      <use xlink:href=\"#DejaVuSans-110\"/>\n      <use x=\"63.378906\" xlink:href=\"#DejaVuSans-115\"/>\n      <use x=\"115.478516\" xlink:href=\"#DejaVuSans-112\"/>\n     </g>\n    </g>\n   </g>\n  </g>\n </g>\n <defs>\n  <clipPath id=\"p0129398c3c\">\n   <rect height=\"135.9\" width=\"195.3\" x=\"40.603125\" y=\"7.2\"/>\n  </clipPath>\n </defs>\n</svg>\n",
      "text/plain": [
       "<Figure size 252x180 with 1 Axes>"
      ]
     },
     "metadata": {},
     "output_type": "display_data"
    }
   ],
   "source": [
    "train_bert(train_iter, net, loss, len(vocab), device, 50)\n"
   ]
  },
  {
   "cell_type": "markdown",
   "metadata": {
    "id": "jL8D9PPjRsYj",
    "pycharm": {
     "name": "#%% md\n"
    }
   },
   "source": [
    "# Fine tuning of BERT \n",
    "Sentiment analysis with BERT of the Movie-reviews "
   ]
  },
  {
   "cell_type": "markdown",
   "metadata": {
    "id": "EOpkJE7TR3RB",
    "pycharm": {
     "name": "#%% md\n"
    }
   },
   "source": [
    "# data processing "
   ]
  },
  {
   "cell_type": "code",
   "execution_count": null,
   "metadata": {
    "colab": {
     "base_uri": "https://localhost:8080/"
    },
    "id": "oFTpxfnRR61l",
    "outputId": "432ec37e-b4c9-40ab-81a7-d99b8b9a5754",
    "pycharm": {
     "name": "#%%\n"
    }
   },
   "outputs": [
    {
     "name": "stdout",
     "output_type": "stream",
     "text": [
      "--2022-11-06 02:01:38--  https://github.com/agungsantoso/deep-learning-v2-pytorch/raw/master/sentiment-rnn/data/labels.txt\n",
      "Resolving github.com (github.com)... 140.82.121.4\n",
      "Connecting to github.com (github.com)|140.82.121.4|:443... connected.\n",
      "HTTP request sent, awaiting response... 302 Found\n",
      "Location: https://raw.githubusercontent.com/agungsantoso/deep-learning-v2-pytorch/master/sentiment-rnn/data/labels.txt [following]\n",
      "--2022-11-06 02:01:38--  https://raw.githubusercontent.com/agungsantoso/deep-learning-v2-pytorch/master/sentiment-rnn/data/labels.txt\n",
      "Resolving raw.githubusercontent.com (raw.githubusercontent.com)... 185.199.108.133, 185.199.111.133, 185.199.110.133, ...\n",
      "Connecting to raw.githubusercontent.com (raw.githubusercontent.com)|185.199.108.133|:443... connected.\n",
      "HTTP request sent, awaiting response... 200 OK\n",
      "Length: 225000 (220K) [text/plain]\n",
      "Saving to: ‘labels.txt’\n",
      "\n",
      "labels.txt          100%[===================>] 219.73K  --.-KB/s    in 0.009s  \n",
      "\n",
      "2022-11-06 02:01:38 (24.5 MB/s) - ‘labels.txt’ saved [225000/225000]\n",
      "\n",
      "--2022-11-06 02:01:38--  https://github.com/agungsantoso/deep-learning-v2-pytorch/raw/master/sentiment-rnn/data/reviews.txt\n",
      "Resolving github.com (github.com)... 140.82.121.3\n",
      "Connecting to github.com (github.com)|140.82.121.3|:443... connected.\n",
      "HTTP request sent, awaiting response... 302 Found\n",
      "Location: https://raw.githubusercontent.com/agungsantoso/deep-learning-v2-pytorch/master/sentiment-rnn/data/reviews.txt [following]\n",
      "--2022-11-06 02:01:38--  https://raw.githubusercontent.com/agungsantoso/deep-learning-v2-pytorch/master/sentiment-rnn/data/reviews.txt\n",
      "Resolving raw.githubusercontent.com (raw.githubusercontent.com)... 185.199.108.133, 185.199.109.133, 185.199.110.133, ...\n",
      "Connecting to raw.githubusercontent.com (raw.githubusercontent.com)|185.199.108.133|:443... connected.\n",
      "HTTP request sent, awaiting response... 200 OK\n",
      "Length: 33678267 (32M) [text/plain]\n",
      "Saving to: ‘reviews.txt’\n",
      "\n",
      "reviews.txt         100%[===================>]  32.12M  --.-KB/s    in 0.08s   \n",
      "\n",
      "2022-11-06 02:01:40 (400 MB/s) - ‘reviews.txt’ saved [33678267/33678267]\n",
      "\n"
     ]
    }
   ],
   "source": [
    "!mkdir data\n",
    "!wget -c https://github.com/agungsantoso/deep-learning-v2-pytorch/raw/master/sentiment-rnn/data/labels.txt\n",
    "!wget -c https://github.com/agungsantoso/deep-learning-v2-pytorch/raw/master/sentiment-rnn/data/reviews.txt\n",
    "!mv *.txt data/"
   ]
  },
  {
   "cell_type": "code",
   "execution_count": null,
   "metadata": {
    "id": "6HItzXEbR9kH",
    "pycharm": {
     "name": "#%%\n"
    }
   },
   "outputs": [],
   "source": [
    "import numpy as np\n",
    "\n",
    "with open('data/reviews.txt', 'r') as f:\n",
    "  reviews = f.read() # long string \n",
    "with open('data/labels.txt', 'r') as f:\n",
    "  labels = f.read() # long string\n",
    "\n",
    "\n",
    "from string import punctuation\n",
    "\n",
    "reviews = reviews.lower() \n",
    "all_text = ''.join([c for c in reviews if c not in punctuation]) # To remove punctuations \n",
    "\n",
    "reviews_split = all_text.split('\\n')\n",
    "all_text = ' '.join(reviews_split)\n",
    "\n",
    "words = all_text.split()\n",
    "\n",
    "from collections import Counter\n",
    "\n",
    "\n",
    "counts = Counter(words)\n",
    "vocab = sorted(counts, key=counts.get, reverse=True)\n",
    "vocab_to_int = {word: ii for ii, word in enumerate(vocab,1)} \n",
    "\n",
    "reviews_ints = [] # reveiw in reveiws_ints, review = [ noun1, noun2, noun3,...]\n",
    "for review in reviews_split:\n",
    "  reviews_ints.append([vocab_to_int[word] for word in review.split()])\n",
    "\n",
    "labels_split = labels.split('\\n')\n",
    "labels = np.array([1 if label == 'positive' else 0 for label in labels_split])\n"
   ]
  },
  {
   "cell_type": "markdown",
   "metadata": {
    "id": "7ilZD_SMSDY-",
    "pycharm": {
     "name": "#%% md\n"
    }
   },
   "source": [
    "## Install transformers "
   ]
  },
  {
   "cell_type": "code",
   "execution_count": null,
   "metadata": {
    "colab": {
     "base_uri": "https://localhost:8080/"
    },
    "id": "S0A9iL4NSCKW",
    "outputId": "876abaff-61d4-4768-eaf6-6a07c2bcc737",
    "pycharm": {
     "name": "#%%\n"
    }
   },
   "outputs": [
    {
     "name": "stdout",
     "output_type": "stream",
     "text": [
      "Looking in indexes: https://pypi.org/simple, https://us-python.pkg.dev/colab-wheels/public/simple/\n",
      "Collecting transformers\n",
      "  Downloading transformers-4.24.0-py3-none-any.whl (5.5 MB)\n",
      "\u001B[K     |████████████████████████████████| 5.5 MB 14.5 MB/s \n",
      "\u001B[?25hRequirement already satisfied: numpy>=1.17 in /usr/local/lib/python3.7/dist-packages (from transformers) (1.21.6)\n",
      "Requirement already satisfied: packaging>=20.0 in /usr/local/lib/python3.7/dist-packages (from transformers) (21.3)\n",
      "Collecting huggingface-hub<1.0,>=0.10.0\n",
      "  Downloading huggingface_hub-0.10.1-py3-none-any.whl (163 kB)\n",
      "\u001B[K     |████████████████████████████████| 163 kB 90.8 MB/s \n",
      "\u001B[?25hRequirement already satisfied: filelock in /usr/local/lib/python3.7/dist-packages (from transformers) (3.8.0)\n",
      "Collecting tokenizers!=0.11.3,<0.14,>=0.11.1\n",
      "  Downloading tokenizers-0.13.1-cp37-cp37m-manylinux_2_17_x86_64.manylinux2014_x86_64.whl (7.6 MB)\n",
      "\u001B[K     |████████████████████████████████| 7.6 MB 80.0 MB/s \n",
      "\u001B[?25hRequirement already satisfied: pyyaml>=5.1 in /usr/local/lib/python3.7/dist-packages (from transformers) (6.0)\n",
      "Requirement already satisfied: tqdm>=4.27 in /usr/local/lib/python3.7/dist-packages (from transformers) (4.64.1)\n",
      "Requirement already satisfied: importlib-metadata in /usr/local/lib/python3.7/dist-packages (from transformers) (4.13.0)\n",
      "Requirement already satisfied: regex!=2019.12.17 in /usr/local/lib/python3.7/dist-packages (from transformers) (2022.6.2)\n",
      "Requirement already satisfied: requests in /usr/local/lib/python3.7/dist-packages (from transformers) (2.23.0)\n",
      "Requirement already satisfied: typing-extensions>=3.7.4.3 in /usr/local/lib/python3.7/dist-packages (from huggingface-hub<1.0,>=0.10.0->transformers) (4.1.1)\n",
      "Requirement already satisfied: pyparsing!=3.0.5,>=2.0.2 in /usr/local/lib/python3.7/dist-packages (from packaging>=20.0->transformers) (3.0.9)\n",
      "Requirement already satisfied: zipp>=0.5 in /usr/local/lib/python3.7/dist-packages (from importlib-metadata->transformers) (3.10.0)\n",
      "Requirement already satisfied: urllib3!=1.25.0,!=1.25.1,<1.26,>=1.21.1 in /usr/local/lib/python3.7/dist-packages (from requests->transformers) (1.24.3)\n",
      "Requirement already satisfied: certifi>=2017.4.17 in /usr/local/lib/python3.7/dist-packages (from requests->transformers) (2022.9.24)\n",
      "Requirement already satisfied: idna<3,>=2.5 in /usr/local/lib/python3.7/dist-packages (from requests->transformers) (2.10)\n",
      "Requirement already satisfied: chardet<4,>=3.0.2 in /usr/local/lib/python3.7/dist-packages (from requests->transformers) (3.0.4)\n",
      "Installing collected packages: tokenizers, huggingface-hub, transformers\n",
      "Successfully installed huggingface-hub-0.10.1 tokenizers-0.13.1 transformers-4.24.0\n"
     ]
    }
   ],
   "source": [
    "pip install transformers"
   ]
  },
  {
   "cell_type": "markdown",
   "metadata": {
    "id": "tmbOprCtSIoA",
    "pycharm": {
     "name": "#%% md\n"
    }
   },
   "source": [
    "## Upload BertTokenizer \n"
   ]
  },
  {
   "cell_type": "code",
   "execution_count": null,
   "metadata": {
    "colab": {
     "background_save": true,
     "base_uri": "https://localhost:8080/",
     "height": 82,
     "referenced_widgets": [
      "daf519bef90f443c8eae1c9d04205151",
      "3693e6a3babc48b0ab86554b7b3e489f",
      "6c4da8a5059d4478ac44300fd2539db8",
      "a399919b677a41d6865b667d3633897a",
      "8a6bbac3f0784d6ab85784fdd67148c3",
      "a988ea36308944c1b4d4d0229447e4a3",
      "e371f4e0cf9b453ea3a6938862d1806d",
      "0f451c858bc9493a9b9e51607a04b3f3",
      "dd67443b97e64a4b8c307e15bd4464f8",
      "51ad89cd54684c0f97bf5491e5e7c50f",
      "a48052b4d9e54539bc224b15ae97db3d",
      "fe942bb03861464fa8853f5498e38ce6",
      "8053280f96614d76b910faeadfb4a3bd",
      "9b092a538a444923878f8c2b60a02bb5",
      "08d8d9d9188e46948b5cdf6e164a9a16",
      "6b2759d6ab4644d68e17a4a69daa8d7f",
      "6165a3e661ce4761818f4e26021da7f2",
      "4ae25aea11b6403ea7ef5ef3e6e3cd49",
      "709dc533cd044e73a874a045e59091a2",
      "4e05fd3556bf4d369d374cd7e343b564",
      "408a8fabb5f842bd99195fca40215b06",
      "b626d2f7eebb4d87bd5906663f6a5a38"
     ]
    },
    "id": "RrZYP1M1SL2L",
    "outputId": "29957e30-30a7-42d3-9157-35ca59d9d5d7",
    "pycharm": {
     "name": "#%%\n"
    }
   },
   "outputs": [
    {
     "data": {
      "application/vnd.jupyter.widget-view+json": {
       "model_id": "daf519bef90f443c8eae1c9d04205151",
       "version_major": 2,
       "version_minor": 0
      },
      "text/plain": [
       "Downloading:   0%|          | 0.00/232k [00:00<?, ?B/s]"
      ]
     },
     "metadata": {},
     "output_type": "display_data"
    },
    {
     "data": {
      "application/vnd.jupyter.widget-view+json": {
       "model_id": "fe942bb03861464fa8853f5498e38ce6",
       "version_major": 2,
       "version_minor": 0
      },
      "text/plain": [
       "Downloading:   0%|          | 0.00/285 [00:00<?, ?B/s]"
      ]
     },
     "metadata": {},
     "output_type": "display_data"
    }
   ],
   "source": [
    "from transformers import BertTokenizer\n",
    "# load bert tokenizer\n",
    "tokenizer = BertTokenizer.from_pretrained('prajjwal1/bert-tiny', do_lower_case=True)\n",
    "\n",
    "encodings = tokenizer(reviews_split, truncation=True, padding='max_length', return_tensors='pt',\n",
    "                      max_length=128)\n",
    "input_ids = encodings['input_ids']\n",
    "attention_masks = encodings['attention_mask']\n"
   ]
  },
  {
   "cell_type": "markdown",
   "metadata": {
    "id": "8w0xw1evSOMJ",
    "pycharm": {
     "name": "#%% md\n"
    }
   },
   "source": [
    "## Make the datasets "
   ]
  },
  {
   "cell_type": "code",
   "execution_count": null,
   "metadata": {
    "colab": {
     "background_save": true
    },
    "id": "e_v_sF98SQDp",
    "outputId": "3d89fec6-30ba-4d47-adfe-7b89d7ff6a02",
    "pycharm": {
     "name": "#%%\n"
    }
   },
   "outputs": [
    {
     "name": "stdout",
     "output_type": "stream",
     "text": [
      "25001\n"
     ]
    }
   ],
   "source": [
    "from torch.utils.data import TensorDataset, random_split, DataLoader\n",
    "# splitting traing and validation dataset\n",
    "print(len(input_ids))\n",
    "dataset = TensorDataset(input_ids, attention_masks, torch.tensor(labels))\n",
    "\n",
    "train_size = int(len(input_ids) * 0.8)\n",
    "val_size = len(reviews_split)  - train_size\n",
    "\n",
    "train_dataset, val_dataset = random_split(dataset, [train_size, val_size])\n",
    "# load datasets into dataloaders\n",
    "train_dataloader = DataLoader(train_dataset, shuffle=True, batch_size=16)\n",
    "eval_dataloader = DataLoader(val_dataset, batch_size=16)"
   ]
  },
  {
   "cell_type": "markdown",
   "metadata": {
    "id": "yz6TBpmm3-2w",
    "pycharm": {
     "name": "#%% md\n"
    }
   },
   "source": [
    "## Make BertForSequenceClassification "
   ]
  },
  {
   "cell_type": "code",
   "execution_count": null,
   "metadata": {
    "colab": {
     "background_save": true
    },
    "id": "8KdqN7rE4CgT",
    "pycharm": {
     "name": "#%%\n"
    }
   },
   "outputs": [],
   "source": [
    "import torch.nn as nn\n",
    "import transformers \n",
    "\n",
    "class BertForSequenceClassification(nn.Module):\n",
    "    def __init__(self):\n",
    "        super().__init__()\n",
    "        self.bert_model = transformers.BertModel.from_pretrained('prajjwal1/bert-tiny')\n",
    "        self.dropout = nn.Dropout(0.25)\n",
    "        self.classifier = nn.Linear(128, 1)\n",
    "        \n",
    "    def forward(self,ids,attention_mask, token_type_ids=None):\n",
    "\n",
    "        _,o2= self.bert_model(ids, attention_mask=attention_mask,token_type_ids=token_type_ids, return_dict=False)\n",
    "        \n",
    "\n",
    "        out= self.classifier(self.dropout(o2))\n",
    "        \n",
    "        return out"
   ]
  },
  {
   "cell_type": "markdown",
   "metadata": {
    "id": "8RasY6vE4IDG",
    "pycharm": {
     "name": "#%% md\n"
    }
   },
   "source": [
    "## Train BERT Classifier "
   ]
  },
  {
   "cell_type": "code",
   "execution_count": null,
   "metadata": {
    "colab": {
     "background_save": true,
     "referenced_widgets": [
      "e140a92bdaf94d699a159ecc1ef84a4d",
      "ebc66345889e4213977fdfa5bca0d41f"
     ]
    },
    "id": "XCg5FUyo4CsN",
    "outputId": "c7d29aba-5e22-43c2-e061-7ed60ea94776",
    "pycharm": {
     "name": "#%%\n"
    }
   },
   "outputs": [
    {
     "data": {
      "application/vnd.jupyter.widget-view+json": {
       "model_id": "e140a92bdaf94d699a159ecc1ef84a4d",
       "version_major": 2,
       "version_minor": 0
      },
      "text/plain": [
       "Downloading:   0%|          | 0.00/17.8M [00:00<?, ?B/s]"
      ]
     },
     "metadata": {},
     "output_type": "display_data"
    },
    {
     "name": "stderr",
     "output_type": "stream",
     "text": [
      "Some weights of the model checkpoint at prajjwal1/bert-tiny were not used when initializing BertModel: ['cls.predictions.decoder.bias', 'cls.predictions.bias', 'cls.predictions.transform.dense.weight', 'cls.seq_relationship.weight', 'cls.predictions.transform.LayerNorm.weight', 'cls.predictions.transform.LayerNorm.bias', 'cls.predictions.transform.dense.bias', 'cls.predictions.decoder.weight', 'cls.seq_relationship.bias']\n",
      "- This IS expected if you are initializing BertModel from the checkpoint of a model trained on another task or with another architecture (e.g. initializing a BertForSequenceClassification model from a BertForPreTraining model).\n",
      "- This IS NOT expected if you are initializing BertModel from the checkpoint of a model that you expect to be exactly identical (initializing a BertForSequenceClassification model from a BertForSequenceClassification model).\n",
      "/usr/local/lib/python3.7/dist-packages/transformers/optimization.py:310: FutureWarning: This implementation of AdamW is deprecated and will be removed in a future version. Use the PyTorch implementation torch.optim.AdamW instead, or set `no_deprecation_warning=True` to disable this warning\n",
      "  FutureWarning,\n"
     ]
    },
    {
     "data": {
      "application/vnd.jupyter.widget-view+json": {
       "model_id": "ebc66345889e4213977fdfa5bca0d41f",
       "version_major": 2,
       "version_minor": 0
      },
      "text/plain": [
       "  0%|          | 0/5000 [00:00<?, ?it/s]"
      ]
     },
     "metadata": {},
     "output_type": "display_data"
    }
   ],
   "source": [
    "from transformers import  AdamW, get_scheduler\n",
    "from tqdm.auto import tqdm\n",
    "\n",
    "\n",
    "model = BertForSequenceClassification()\n",
    "\n",
    "device = 'cuda'\n",
    "\n",
    "loss_fn = nn.BCEWithLogitsLoss()\n",
    "\n",
    "num_epochs = 4\n",
    "\n",
    "optimizer = AdamW(model.parameters(), lr=5e-5)\n",
    "num_training_steps = num_epochs * len(train_dataloader)\n",
    "lr_scheduler = get_scheduler(\n",
    "    \"linear\",\n",
    "    optimizer=optimizer,\n",
    "    num_warmup_steps=0,\n",
    "    num_training_steps=num_training_steps\n",
    ")\n",
    "model.train()\n",
    "model.to(device)\n",
    "progress_bar = tqdm(range(num_training_steps))\n",
    "for epoch in range(num_epochs):\n",
    "    for batch in train_dataloader:\n",
    "  \n",
    "        b_input_ids = batch[0].to(device)\n",
    "        b_input_mask = batch[1].to(device)\n",
    "        b_labels = batch[2].to(device)[:,None]\n",
    "        b_labels = b_labels.type(torch.float32)\n",
    "        outputs = model(b_input_ids,attention_mask=b_input_mask) \n",
    "                           \n",
    "        loss = loss_fn(outputs, b_labels)\n",
    "        loss.backward()\n",
    "        optimizer.step()\n",
    "        lr_scheduler.step()\n",
    "        optimizer.zero_grad()\n",
    "        progress_bar.update(1)"
   ]
  },
  {
   "cell_type": "markdown",
   "metadata": {
    "id": "LAjF_IGa4PdA",
    "pycharm": {
     "name": "#%% md\n"
    }
   },
   "source": [
    "## Evaluate BERT Classifier "
   ]
  },
  {
   "cell_type": "code",
   "execution_count": null,
   "metadata": {
    "colab": {
     "background_save": true
    },
    "id": "tIlQCM4u4SM3",
    "outputId": "2d9f0d58-4e28-47e3-96c0-d54e4cc7d259",
    "pycharm": {
     "name": "#%%\n"
    }
   },
   "outputs": [
    {
     "name": "stdout",
     "output_type": "stream",
     "text": [
      "Accuracy: 0.8394321135772845\n"
     ]
    }
   ],
   "source": [
    "from sklearn.metrics import accuracy_score\n",
    "y_pred = []\n",
    "y_true = []\n",
    "model.eval()\n",
    "for batch in eval_dataloader:\n",
    "    b_input_ids = batch[0].to(device)\n",
    "    b_input_mask = batch[1].to(device)\n",
    "    b_labels = batch[2].to(device)\n",
    "    # set gradient to zero at the start of every batch\n",
    "    with torch.no_grad():\n",
    "        output = model(b_input_ids,attention_mask=b_input_mask) \n",
    "\n",
    "    pred = torch.where(output >= 0, 1, 0)\n",
    "  \n",
    "    y_pred.extend(pred.tolist())\n",
    "    y_true.extend(b_labels.tolist())\n",
    "print(f'Accuracy: {accuracy_score(y_pred, y_true)}')"
   ]
  }
 ],
 "metadata": {
  "accelerator": "GPU",
  "colab": {
   "collapsed_sections": [],
   "provenance": []
  },
  "gpuClass": "premium",
  "kernelspec": {
   "display_name": "Python 3",
   "name": "python3"
  },
  "language_info": {
   "name": "python"
  },
  "widgets": {
   "application/vnd.jupyter.widget-state+json": {
    "08d8d9d9188e46948b5cdf6e164a9a16": {
     "model_module": "@jupyter-widgets/controls",
     "model_module_version": "1.5.0",
     "model_name": "HTMLModel",
     "state": {
      "_dom_classes": [],
      "_model_module": "@jupyter-widgets/controls",
      "_model_module_version": "1.5.0",
      "_model_name": "HTMLModel",
      "_view_count": null,
      "_view_module": "@jupyter-widgets/controls",
      "_view_module_version": "1.5.0",
      "_view_name": "HTMLView",
      "description": "",
      "description_tooltip": null,
      "layout": "IPY_MODEL_408a8fabb5f842bd99195fca40215b06",
      "placeholder": "​",
      "style": "IPY_MODEL_b626d2f7eebb4d87bd5906663f6a5a38",
      "value": " 285/285 [00:00&lt;00:00, 11.7kB/s]"
     }
    },
    "0f451c858bc9493a9b9e51607a04b3f3": {
     "model_module": "@jupyter-widgets/base",
     "model_module_version": "1.2.0",
     "model_name": "LayoutModel",
     "state": {
      "_model_module": "@jupyter-widgets/base",
      "_model_module_version": "1.2.0",
      "_model_name": "LayoutModel",
      "_view_count": null,
      "_view_module": "@jupyter-widgets/base",
      "_view_module_version": "1.2.0",
      "_view_name": "LayoutView",
      "align_content": null,
      "align_items": null,
      "align_self": null,
      "border": null,
      "bottom": null,
      "display": null,
      "flex": null,
      "flex_flow": null,
      "grid_area": null,
      "grid_auto_columns": null,
      "grid_auto_flow": null,
      "grid_auto_rows": null,
      "grid_column": null,
      "grid_gap": null,
      "grid_row": null,
      "grid_template_areas": null,
      "grid_template_columns": null,
      "grid_template_rows": null,
      "height": null,
      "justify_content": null,
      "justify_items": null,
      "left": null,
      "margin": null,
      "max_height": null,
      "max_width": null,
      "min_height": null,
      "min_width": null,
      "object_fit": null,
      "object_position": null,
      "order": null,
      "overflow": null,
      "overflow_x": null,
      "overflow_y": null,
      "padding": null,
      "right": null,
      "top": null,
      "visibility": null,
      "width": null
     }
    },
    "3693e6a3babc48b0ab86554b7b3e489f": {
     "model_module": "@jupyter-widgets/controls",
     "model_module_version": "1.5.0",
     "model_name": "HTMLModel",
     "state": {
      "_dom_classes": [],
      "_model_module": "@jupyter-widgets/controls",
      "_model_module_version": "1.5.0",
      "_model_name": "HTMLModel",
      "_view_count": null,
      "_view_module": "@jupyter-widgets/controls",
      "_view_module_version": "1.5.0",
      "_view_name": "HTMLView",
      "description": "",
      "description_tooltip": null,
      "layout": "IPY_MODEL_a988ea36308944c1b4d4d0229447e4a3",
      "placeholder": "​",
      "style": "IPY_MODEL_e371f4e0cf9b453ea3a6938862d1806d",
      "value": "Downloading: 100%"
     }
    },
    "408a8fabb5f842bd99195fca40215b06": {
     "model_module": "@jupyter-widgets/base",
     "model_module_version": "1.2.0",
     "model_name": "LayoutModel",
     "state": {
      "_model_module": "@jupyter-widgets/base",
      "_model_module_version": "1.2.0",
      "_model_name": "LayoutModel",
      "_view_count": null,
      "_view_module": "@jupyter-widgets/base",
      "_view_module_version": "1.2.0",
      "_view_name": "LayoutView",
      "align_content": null,
      "align_items": null,
      "align_self": null,
      "border": null,
      "bottom": null,
      "display": null,
      "flex": null,
      "flex_flow": null,
      "grid_area": null,
      "grid_auto_columns": null,
      "grid_auto_flow": null,
      "grid_auto_rows": null,
      "grid_column": null,
      "grid_gap": null,
      "grid_row": null,
      "grid_template_areas": null,
      "grid_template_columns": null,
      "grid_template_rows": null,
      "height": null,
      "justify_content": null,
      "justify_items": null,
      "left": null,
      "margin": null,
      "max_height": null,
      "max_width": null,
      "min_height": null,
      "min_width": null,
      "object_fit": null,
      "object_position": null,
      "order": null,
      "overflow": null,
      "overflow_x": null,
      "overflow_y": null,
      "padding": null,
      "right": null,
      "top": null,
      "visibility": null,
      "width": null
     }
    },
    "4ae25aea11b6403ea7ef5ef3e6e3cd49": {
     "model_module": "@jupyter-widgets/controls",
     "model_module_version": "1.5.0",
     "model_name": "DescriptionStyleModel",
     "state": {
      "_model_module": "@jupyter-widgets/controls",
      "_model_module_version": "1.5.0",
      "_model_name": "DescriptionStyleModel",
      "_view_count": null,
      "_view_module": "@jupyter-widgets/base",
      "_view_module_version": "1.2.0",
      "_view_name": "StyleView",
      "description_width": ""
     }
    },
    "4e05fd3556bf4d369d374cd7e343b564": {
     "model_module": "@jupyter-widgets/controls",
     "model_module_version": "1.5.0",
     "model_name": "ProgressStyleModel",
     "state": {
      "_model_module": "@jupyter-widgets/controls",
      "_model_module_version": "1.5.0",
      "_model_name": "ProgressStyleModel",
      "_view_count": null,
      "_view_module": "@jupyter-widgets/base",
      "_view_module_version": "1.2.0",
      "_view_name": "StyleView",
      "bar_color": null,
      "description_width": ""
     }
    },
    "51ad89cd54684c0f97bf5491e5e7c50f": {
     "model_module": "@jupyter-widgets/base",
     "model_module_version": "1.2.0",
     "model_name": "LayoutModel",
     "state": {
      "_model_module": "@jupyter-widgets/base",
      "_model_module_version": "1.2.0",
      "_model_name": "LayoutModel",
      "_view_count": null,
      "_view_module": "@jupyter-widgets/base",
      "_view_module_version": "1.2.0",
      "_view_name": "LayoutView",
      "align_content": null,
      "align_items": null,
      "align_self": null,
      "border": null,
      "bottom": null,
      "display": null,
      "flex": null,
      "flex_flow": null,
      "grid_area": null,
      "grid_auto_columns": null,
      "grid_auto_flow": null,
      "grid_auto_rows": null,
      "grid_column": null,
      "grid_gap": null,
      "grid_row": null,
      "grid_template_areas": null,
      "grid_template_columns": null,
      "grid_template_rows": null,
      "height": null,
      "justify_content": null,
      "justify_items": null,
      "left": null,
      "margin": null,
      "max_height": null,
      "max_width": null,
      "min_height": null,
      "min_width": null,
      "object_fit": null,
      "object_position": null,
      "order": null,
      "overflow": null,
      "overflow_x": null,
      "overflow_y": null,
      "padding": null,
      "right": null,
      "top": null,
      "visibility": null,
      "width": null
     }
    },
    "6165a3e661ce4761818f4e26021da7f2": {
     "model_module": "@jupyter-widgets/base",
     "model_module_version": "1.2.0",
     "model_name": "LayoutModel",
     "state": {
      "_model_module": "@jupyter-widgets/base",
      "_model_module_version": "1.2.0",
      "_model_name": "LayoutModel",
      "_view_count": null,
      "_view_module": "@jupyter-widgets/base",
      "_view_module_version": "1.2.0",
      "_view_name": "LayoutView",
      "align_content": null,
      "align_items": null,
      "align_self": null,
      "border": null,
      "bottom": null,
      "display": null,
      "flex": null,
      "flex_flow": null,
      "grid_area": null,
      "grid_auto_columns": null,
      "grid_auto_flow": null,
      "grid_auto_rows": null,
      "grid_column": null,
      "grid_gap": null,
      "grid_row": null,
      "grid_template_areas": null,
      "grid_template_columns": null,
      "grid_template_rows": null,
      "height": null,
      "justify_content": null,
      "justify_items": null,
      "left": null,
      "margin": null,
      "max_height": null,
      "max_width": null,
      "min_height": null,
      "min_width": null,
      "object_fit": null,
      "object_position": null,
      "order": null,
      "overflow": null,
      "overflow_x": null,
      "overflow_y": null,
      "padding": null,
      "right": null,
      "top": null,
      "visibility": null,
      "width": null
     }
    },
    "6b2759d6ab4644d68e17a4a69daa8d7f": {
     "model_module": "@jupyter-widgets/base",
     "model_module_version": "1.2.0",
     "model_name": "LayoutModel",
     "state": {
      "_model_module": "@jupyter-widgets/base",
      "_model_module_version": "1.2.0",
      "_model_name": "LayoutModel",
      "_view_count": null,
      "_view_module": "@jupyter-widgets/base",
      "_view_module_version": "1.2.0",
      "_view_name": "LayoutView",
      "align_content": null,
      "align_items": null,
      "align_self": null,
      "border": null,
      "bottom": null,
      "display": null,
      "flex": null,
      "flex_flow": null,
      "grid_area": null,
      "grid_auto_columns": null,
      "grid_auto_flow": null,
      "grid_auto_rows": null,
      "grid_column": null,
      "grid_gap": null,
      "grid_row": null,
      "grid_template_areas": null,
      "grid_template_columns": null,
      "grid_template_rows": null,
      "height": null,
      "justify_content": null,
      "justify_items": null,
      "left": null,
      "margin": null,
      "max_height": null,
      "max_width": null,
      "min_height": null,
      "min_width": null,
      "object_fit": null,
      "object_position": null,
      "order": null,
      "overflow": null,
      "overflow_x": null,
      "overflow_y": null,
      "padding": null,
      "right": null,
      "top": null,
      "visibility": null,
      "width": null
     }
    },
    "6c4da8a5059d4478ac44300fd2539db8": {
     "model_module": "@jupyter-widgets/controls",
     "model_module_version": "1.5.0",
     "model_name": "FloatProgressModel",
     "state": {
      "_dom_classes": [],
      "_model_module": "@jupyter-widgets/controls",
      "_model_module_version": "1.5.0",
      "_model_name": "FloatProgressModel",
      "_view_count": null,
      "_view_module": "@jupyter-widgets/controls",
      "_view_module_version": "1.5.0",
      "_view_name": "ProgressView",
      "bar_style": "success",
      "description": "",
      "description_tooltip": null,
      "layout": "IPY_MODEL_0f451c858bc9493a9b9e51607a04b3f3",
      "max": 231508,
      "min": 0,
      "orientation": "horizontal",
      "style": "IPY_MODEL_dd67443b97e64a4b8c307e15bd4464f8",
      "value": 231508
     }
    },
    "709dc533cd044e73a874a045e59091a2": {
     "model_module": "@jupyter-widgets/base",
     "model_module_version": "1.2.0",
     "model_name": "LayoutModel",
     "state": {
      "_model_module": "@jupyter-widgets/base",
      "_model_module_version": "1.2.0",
      "_model_name": "LayoutModel",
      "_view_count": null,
      "_view_module": "@jupyter-widgets/base",
      "_view_module_version": "1.2.0",
      "_view_name": "LayoutView",
      "align_content": null,
      "align_items": null,
      "align_self": null,
      "border": null,
      "bottom": null,
      "display": null,
      "flex": null,
      "flex_flow": null,
      "grid_area": null,
      "grid_auto_columns": null,
      "grid_auto_flow": null,
      "grid_auto_rows": null,
      "grid_column": null,
      "grid_gap": null,
      "grid_row": null,
      "grid_template_areas": null,
      "grid_template_columns": null,
      "grid_template_rows": null,
      "height": null,
      "justify_content": null,
      "justify_items": null,
      "left": null,
      "margin": null,
      "max_height": null,
      "max_width": null,
      "min_height": null,
      "min_width": null,
      "object_fit": null,
      "object_position": null,
      "order": null,
      "overflow": null,
      "overflow_x": null,
      "overflow_y": null,
      "padding": null,
      "right": null,
      "top": null,
      "visibility": null,
      "width": null
     }
    },
    "8053280f96614d76b910faeadfb4a3bd": {
     "model_module": "@jupyter-widgets/controls",
     "model_module_version": "1.5.0",
     "model_name": "HTMLModel",
     "state": {
      "_dom_classes": [],
      "_model_module": "@jupyter-widgets/controls",
      "_model_module_version": "1.5.0",
      "_model_name": "HTMLModel",
      "_view_count": null,
      "_view_module": "@jupyter-widgets/controls",
      "_view_module_version": "1.5.0",
      "_view_name": "HTMLView",
      "description": "",
      "description_tooltip": null,
      "layout": "IPY_MODEL_6165a3e661ce4761818f4e26021da7f2",
      "placeholder": "​",
      "style": "IPY_MODEL_4ae25aea11b6403ea7ef5ef3e6e3cd49",
      "value": "Downloading: 100%"
     }
    },
    "8a6bbac3f0784d6ab85784fdd67148c3": {
     "model_module": "@jupyter-widgets/base",
     "model_module_version": "1.2.0",
     "model_name": "LayoutModel",
     "state": {
      "_model_module": "@jupyter-widgets/base",
      "_model_module_version": "1.2.0",
      "_model_name": "LayoutModel",
      "_view_count": null,
      "_view_module": "@jupyter-widgets/base",
      "_view_module_version": "1.2.0",
      "_view_name": "LayoutView",
      "align_content": null,
      "align_items": null,
      "align_self": null,
      "border": null,
      "bottom": null,
      "display": null,
      "flex": null,
      "flex_flow": null,
      "grid_area": null,
      "grid_auto_columns": null,
      "grid_auto_flow": null,
      "grid_auto_rows": null,
      "grid_column": null,
      "grid_gap": null,
      "grid_row": null,
      "grid_template_areas": null,
      "grid_template_columns": null,
      "grid_template_rows": null,
      "height": null,
      "justify_content": null,
      "justify_items": null,
      "left": null,
      "margin": null,
      "max_height": null,
      "max_width": null,
      "min_height": null,
      "min_width": null,
      "object_fit": null,
      "object_position": null,
      "order": null,
      "overflow": null,
      "overflow_x": null,
      "overflow_y": null,
      "padding": null,
      "right": null,
      "top": null,
      "visibility": null,
      "width": null
     }
    },
    "9b092a538a444923878f8c2b60a02bb5": {
     "model_module": "@jupyter-widgets/controls",
     "model_module_version": "1.5.0",
     "model_name": "FloatProgressModel",
     "state": {
      "_dom_classes": [],
      "_model_module": "@jupyter-widgets/controls",
      "_model_module_version": "1.5.0",
      "_model_name": "FloatProgressModel",
      "_view_count": null,
      "_view_module": "@jupyter-widgets/controls",
      "_view_module_version": "1.5.0",
      "_view_name": "ProgressView",
      "bar_style": "success",
      "description": "",
      "description_tooltip": null,
      "layout": "IPY_MODEL_709dc533cd044e73a874a045e59091a2",
      "max": 285,
      "min": 0,
      "orientation": "horizontal",
      "style": "IPY_MODEL_4e05fd3556bf4d369d374cd7e343b564",
      "value": 285
     }
    },
    "a399919b677a41d6865b667d3633897a": {
     "model_module": "@jupyter-widgets/controls",
     "model_module_version": "1.5.0",
     "model_name": "HTMLModel",
     "state": {
      "_dom_classes": [],
      "_model_module": "@jupyter-widgets/controls",
      "_model_module_version": "1.5.0",
      "_model_name": "HTMLModel",
      "_view_count": null,
      "_view_module": "@jupyter-widgets/controls",
      "_view_module_version": "1.5.0",
      "_view_name": "HTMLView",
      "description": "",
      "description_tooltip": null,
      "layout": "IPY_MODEL_51ad89cd54684c0f97bf5491e5e7c50f",
      "placeholder": "​",
      "style": "IPY_MODEL_a48052b4d9e54539bc224b15ae97db3d",
      "value": " 232k/232k [00:00&lt;00:00, 641kB/s]"
     }
    },
    "a48052b4d9e54539bc224b15ae97db3d": {
     "model_module": "@jupyter-widgets/controls",
     "model_module_version": "1.5.0",
     "model_name": "DescriptionStyleModel",
     "state": {
      "_model_module": "@jupyter-widgets/controls",
      "_model_module_version": "1.5.0",
      "_model_name": "DescriptionStyleModel",
      "_view_count": null,
      "_view_module": "@jupyter-widgets/base",
      "_view_module_version": "1.2.0",
      "_view_name": "StyleView",
      "description_width": ""
     }
    },
    "a988ea36308944c1b4d4d0229447e4a3": {
     "model_module": "@jupyter-widgets/base",
     "model_module_version": "1.2.0",
     "model_name": "LayoutModel",
     "state": {
      "_model_module": "@jupyter-widgets/base",
      "_model_module_version": "1.2.0",
      "_model_name": "LayoutModel",
      "_view_count": null,
      "_view_module": "@jupyter-widgets/base",
      "_view_module_version": "1.2.0",
      "_view_name": "LayoutView",
      "align_content": null,
      "align_items": null,
      "align_self": null,
      "border": null,
      "bottom": null,
      "display": null,
      "flex": null,
      "flex_flow": null,
      "grid_area": null,
      "grid_auto_columns": null,
      "grid_auto_flow": null,
      "grid_auto_rows": null,
      "grid_column": null,
      "grid_gap": null,
      "grid_row": null,
      "grid_template_areas": null,
      "grid_template_columns": null,
      "grid_template_rows": null,
      "height": null,
      "justify_content": null,
      "justify_items": null,
      "left": null,
      "margin": null,
      "max_height": null,
      "max_width": null,
      "min_height": null,
      "min_width": null,
      "object_fit": null,
      "object_position": null,
      "order": null,
      "overflow": null,
      "overflow_x": null,
      "overflow_y": null,
      "padding": null,
      "right": null,
      "top": null,
      "visibility": null,
      "width": null
     }
    },
    "b626d2f7eebb4d87bd5906663f6a5a38": {
     "model_module": "@jupyter-widgets/controls",
     "model_module_version": "1.5.0",
     "model_name": "DescriptionStyleModel",
     "state": {
      "_model_module": "@jupyter-widgets/controls",
      "_model_module_version": "1.5.0",
      "_model_name": "DescriptionStyleModel",
      "_view_count": null,
      "_view_module": "@jupyter-widgets/base",
      "_view_module_version": "1.2.0",
      "_view_name": "StyleView",
      "description_width": ""
     }
    },
    "daf519bef90f443c8eae1c9d04205151": {
     "model_module": "@jupyter-widgets/controls",
     "model_module_version": "1.5.0",
     "model_name": "HBoxModel",
     "state": {
      "_dom_classes": [],
      "_model_module": "@jupyter-widgets/controls",
      "_model_module_version": "1.5.0",
      "_model_name": "HBoxModel",
      "_view_count": null,
      "_view_module": "@jupyter-widgets/controls",
      "_view_module_version": "1.5.0",
      "_view_name": "HBoxView",
      "box_style": "",
      "children": [
       "IPY_MODEL_3693e6a3babc48b0ab86554b7b3e489f",
       "IPY_MODEL_6c4da8a5059d4478ac44300fd2539db8",
       "IPY_MODEL_a399919b677a41d6865b667d3633897a"
      ],
      "layout": "IPY_MODEL_8a6bbac3f0784d6ab85784fdd67148c3"
     }
    },
    "dd67443b97e64a4b8c307e15bd4464f8": {
     "model_module": "@jupyter-widgets/controls",
     "model_module_version": "1.5.0",
     "model_name": "ProgressStyleModel",
     "state": {
      "_model_module": "@jupyter-widgets/controls",
      "_model_module_version": "1.5.0",
      "_model_name": "ProgressStyleModel",
      "_view_count": null,
      "_view_module": "@jupyter-widgets/base",
      "_view_module_version": "1.2.0",
      "_view_name": "StyleView",
      "bar_color": null,
      "description_width": ""
     }
    },
    "e371f4e0cf9b453ea3a6938862d1806d": {
     "model_module": "@jupyter-widgets/controls",
     "model_module_version": "1.5.0",
     "model_name": "DescriptionStyleModel",
     "state": {
      "_model_module": "@jupyter-widgets/controls",
      "_model_module_version": "1.5.0",
      "_model_name": "DescriptionStyleModel",
      "_view_count": null,
      "_view_module": "@jupyter-widgets/base",
      "_view_module_version": "1.2.0",
      "_view_name": "StyleView",
      "description_width": ""
     }
    },
    "fe942bb03861464fa8853f5498e38ce6": {
     "model_module": "@jupyter-widgets/controls",
     "model_module_version": "1.5.0",
     "model_name": "HBoxModel",
     "state": {
      "_dom_classes": [],
      "_model_module": "@jupyter-widgets/controls",
      "_model_module_version": "1.5.0",
      "_model_name": "HBoxModel",
      "_view_count": null,
      "_view_module": "@jupyter-widgets/controls",
      "_view_module_version": "1.5.0",
      "_view_name": "HBoxView",
      "box_style": "",
      "children": [
       "IPY_MODEL_8053280f96614d76b910faeadfb4a3bd",
       "IPY_MODEL_9b092a538a444923878f8c2b60a02bb5",
       "IPY_MODEL_08d8d9d9188e46948b5cdf6e164a9a16"
      ],
      "layout": "IPY_MODEL_6b2759d6ab4644d68e17a4a69daa8d7f"
     }
    }
   }
  }
 },
 "nbformat": 4,
 "nbformat_minor": 0
}