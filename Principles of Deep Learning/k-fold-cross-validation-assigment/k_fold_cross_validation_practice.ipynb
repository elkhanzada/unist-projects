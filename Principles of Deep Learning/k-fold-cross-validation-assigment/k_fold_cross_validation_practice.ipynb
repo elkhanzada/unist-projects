{
  "nbformat": 4,
  "nbformat_minor": 0,
  "metadata": {
    "colab": {
      "provenance": [],
      "collapsed_sections": []
    },
    "kernelspec": {
      "name": "python3",
      "display_name": "Python 3"
    },
    "language_info": {
      "name": "python"
    },
    "accelerator": "GPU",
    "gpuClass": "standard"
  },
  "cells": [
    {
      "cell_type": "markdown",
      "source": [
        "# Cousre : IE408_AI502_IE511\n",
        "### 2022.09.16\n",
        "\n"
      ],
      "metadata": {
        "id": "8PgZx_Sf_cur"
      }
    },
    {
      "cell_type": "markdown",
      "source": [
        "# Model selection via K-fold cross validation\n",
        "\n",
        "## Table of Contents\n",
        "---\n",
        "- Custom dataset <br>\n",
        "- $K$-fold cross validation (Assigment)<br>\n",
        "- Custom activation function (Assigment)<br>\n",
        "- MLP construction<br>\n",
        "- Hyperparameter tuning<br>\n",
        "\n",
        "<br>\n",
        "\n",
        "**`Assigment`** : Complete the two cell marked with (Assignment)\n",
        "- (Assignment) $K$-fold cross validation\n",
        "- (Assignment) Activation function with implementing forward and backward step\n",
        "- 🚨 Please **do not modify** code that is not an Assigment cell\n",
        "- 🚨 Please **do not add** any cells\n",
        "\n",
        "\n"
      ],
      "metadata": {
        "id": "QGq5wOIZAQTY"
      }
    },
    {
      "cell_type": "markdown",
      "source": [
        "# import library"
      ],
      "metadata": {
        "id": "C9DDDg4PdeRB"
      }
    },
    {
      "cell_type": "code",
      "execution_count": null,
      "metadata": {
        "id": "PymY1HXxJV90"
      },
      "outputs": [],
      "source": [
        "import torch\n",
        "import torch.nn as nn\n",
        "import torch.nn.functional as F\n",
        "from torch.utils.data import Dataset, DataLoader, Subset\n",
        "\n",
        "from torch.autograd import Function  # to create custom activation function\n",
        "\n",
        "import pandas as pd\n",
        "import numpy as np"
      ]
    },
    {
      "cell_type": "markdown",
      "source": [
        "# Boston house prices dataset specification\n",
        "\n",
        "<img src = https://user-images.githubusercontent.com/43310063/188207759-db4dad3f-31e2-4fd2-9f71-7eaaf3f88329.png>\n",
        "\n",
        "### Data examples\n",
        "<img src = https://user-images.githubusercontent.com/43310063/188208483-f6dc9c50-3399-4607-af6b-cc3a444895e8.png>"
      ],
      "metadata": {
        "id": "su3fHNn4QjxS"
      }
    },
    {
      "cell_type": "markdown",
      "source": [
        "# Custom dataset in PyTorch\n",
        "### If you make *custom dataset*, you can use dataloader in pytorch\n",
        "<br>\n",
        "\n",
        "PyTorch `DATASETS` & `DATALOADERS` : <br>\n",
        "\n",
        "- `torch.utils.data.DataLoader` and `torch.utils.data.Dataset` that allow you to use pre-loaded datasets as well as your own data. <br>\n",
        "- `Dataset` stores the samples and their corresponding labels.\n",
        "- `DataLoader` wraps an iterable around the Dataset to enable easy access to the samples.\n",
        "<br><br>\n",
        "\n",
        "- Creating a Custom Dataset for your files<br>\n",
        "    - A custom Dataset class must implement three functions: `__init__`, `__len__,` and `__getitem__`.\n",
        "    - The `__init__` function is run once when instantiating the Dataset object. We initialize the directory containing the images, the annotations file, and both transforms (covered in more detail in the next section).\n",
        "    - The `__len__` function returns the number of samples in our dataset.\n",
        "    - The `__getitem__` function loads and returns a sample from the dataset at the given index `idx`\n"
      ],
      "metadata": {
        "id": "9p21KQBwdo_g"
      }
    },
    {
      "cell_type": "code",
      "source": [
        "\n",
        "class BostonDataset(Dataset):  # from torch.utils.data import Dataset\n",
        "    def __init__(self, features, targets, train_mean=None, train_std=None):\n",
        "        self.features = torch.Tensor(features)\n",
        "        self.targets = torch.Tensor(targets).reshape(-1, 1)\n",
        "\n",
        "        # Standard Scaler using train_data's mean and train_data's std\n",
        "        if (train_mean is not None) and (train_std is not None):\n",
        "            self.features = (self.features - train_mean) / train_std\n",
        "\n",
        "    def __len__(self):  # return length of dataset\n",
        "        return len(self.targets)\n",
        "\n",
        "    def __getitem__(self, idx):  # return data with index(idx)\n",
        "        X = self.features[idx, :] \n",
        "        y = self.targets[idx]\n",
        "        \n",
        "        return X, y"
      ],
      "metadata": {
        "id": "UWgFc7HlwvTq"
      },
      "execution_count": null,
      "outputs": []
    },
    {
      "cell_type": "markdown",
      "source": [
        "# $K$-fold cross validation\n",
        "\n",
        "- Lecture note has details (Week2-MLP)<br>\n",
        "\n",
        "- $K$-fold cross validation procedure\n",
        "    1. Divide the training dataset into k-parts\n",
        "    2. Use k-1 parts as training set and 1 part as validation set\n",
        "    3. Repeat the procedure K times, rotating the validation set\n",
        "    4. Average validation errors(scores)\n"
      ],
      "metadata": {
        "id": "WyyO6erTDtD6"
      }
    },
    {
      "cell_type": "markdown",
      "source": [
        "# (Assignment) $K$-fold cross validation\n",
        "\n",
        "- Write your code in loops \n",
        "- Do not use any external library\n",
        "\n",
        "<br>\n",
        "\n",
        "return `rets` that is list <br> <br>\n",
        "`rets` form : \\\\\n",
        "　　　　[[train_index_list_1, validation_index_list_1], \\\\\n",
        "　　　　[train_index_list_2, validation_index_list_2], \\\\\n",
        "　　　　... \\\\\n",
        "　　　　[train_index_list_k, validation_index_list_k]] \\\\\n",
        "<br>\n",
        "len(`rets`) : k \\\\\n",
        "`rets`[0] : [train_index_list, validation_index_list]"
      ],
      "metadata": {
        "id": "nzW6JscQaZpJ"
      }
    },
    {
      "cell_type": "code",
      "source": [
        "def k_fold_data(dataset, k):\n",
        "    rets = [] # list will have k-fold data, example rets[[train_index_list_1, validation_index_list_1], ... [train_index_list_k, validation_index_list_k]]\n",
        "    fold_size = len(dataset) // k\n",
        "    for i in range(k):\n",
        "        #### TODO : WRITE YOUR CODE IN THIS LOOP & COMPLETE k-fold ####\n",
        "\n",
        "        \n",
        "        rets.append([train_idx, validation_idx])\n",
        "        # form of return variable :\n",
        "        # len(rets) : k \n",
        "        # rets[0] : [train_index_list, validation_index_list]\n",
        "        # example : \n",
        "        #   rets : [[[fold_size, ... len of dataset], [0, 1, .. fold_size-1],\n",
        "        #           [train_index_list_2, validation_index_list_2],\n",
        "        #           ...\n",
        "        #           [train_index_list_k, validation_index_list_k]]\n",
        "        #######################################################\n",
        "\n",
        "    return rets"
      ],
      "metadata": {
        "id": "ZjeuxS0_JWYz"
      },
      "execution_count": null,
      "outputs": []
    },
    {
      "cell_type": "markdown",
      "source": [
        "# Load dataset & Split dataset"
      ],
      "metadata": {
        "id": "bZw4iuUiaGWv"
      }
    },
    {
      "cell_type": "code",
      "source": [
        "# Load Boston house prices dataset\n",
        "data_url = \"http://lib.stat.cmu.edu/datasets/boston\"\n",
        "raw_df = pd.read_csv(data_url, sep=\"\\s+\", skiprows=22, header=None)\n",
        "\n",
        "X_data = np.hstack([raw_df.values[::2, :], raw_df.values[1::2, :2]])\n",
        "y_data = raw_df.values[1::2, 2]\n",
        "\n",
        "X_data = X_data.astype(np.float32)\n",
        "y_data = y_data.astype(np.float32)\n",
        "\n",
        "# Split the dataset into a training dataset and a test dataset\n",
        "test_size = 0.2\n",
        "train_len = int(X_data.shape[0] * (1-test_size))\n",
        "\n",
        "X_train, X_test = X_data[: train_len, :], X_data[train_len:, :]\n",
        "y_train, y_test = y_data[: train_len], y_data[train_len:]\n",
        "print(X_train.shape, X_test.shape, y_train.shape, y_test.shape)"
      ],
      "metadata": {
        "id": "BEelKv0wRwD1",
        "colab": {
          "base_uri": "https://localhost:8080/"
        },
        "outputId": "d79c2a41-69e7-4e83-be20-db44ba1c627b"
      },
      "execution_count": null,
      "outputs": [
        {
          "output_type": "stream",
          "name": "stdout",
          "text": [
            "(404, 13) (102, 13) (404,) (102,)\n"
          ]
        }
      ]
    },
    {
      "cell_type": "markdown",
      "source": [
        "# Custom activation function"
      ],
      "metadata": {
        "id": "fFXDJCke1OOh"
      }
    },
    {
      "cell_type": "markdown",
      "source": [
        "## Activation function without trainable parameter\n",
        "- sigmoid activation function\n",
        "### $\\text{Sigmoid}(x) = \\sigma(x) = \\frac{1}{1+\\text{exp}(-x)}$"
      ],
      "metadata": {
        "id": "3IfbCvDU1SVa"
      }
    },
    {
      "cell_type": "code",
      "source": [
        "def sigmoid_(x):\n",
        "    # return sigmoid result\n",
        "    return \n",
        "\n",
        "class sigmoid(nn.Module):\n",
        "    def __init__(self):\n",
        "        super().__init__()\n",
        "        \n",
        "    def forward(self, x):\n",
        "        return sigmoid_(x)"
      ],
      "metadata": {
        "id": "lTSS2Sdr1iF3"
      },
      "execution_count": null,
      "outputs": []
    },
    {
      "cell_type": "markdown",
      "source": [
        "## Activation function with implementing forward and backward step\n",
        "- tanh activation function\n",
        "### $\\text{tanh} = \\frac{\\text{exp}(x) - \\text{exp}(-x)}{\\text{exp}(x) + \\text{exp}(-x)}$\n",
        "\n"
      ],
      "metadata": {
        "id": "CvNdaCfW1SPp"
      }
    },
    {
      "cell_type": "code",
      "source": [
        "def tanh_(x):\n",
        "    # return tanh result\n",
        "    return \n",
        "\n",
        "class tanh(Function):  # from torch.autograd import Function\n",
        "    \n",
        "    @staticmethod  # python decorator\n",
        "    def forward(ctx, x):\n",
        "        ctx.save_for_backward(x)\n",
        "        \n",
        "        output = tanh_(x)\n",
        "        \n",
        "        return output\n",
        "\n",
        "    @staticmethod\n",
        "    def backward(ctx, grad_output):\n",
        "        # At the top of backward unpack saved_tensors and initialize all gradients w.r.t. inputs to None.\n",
        "\n",
        "        x, = ctx.saved_tensors\n",
        "\n",
        "        if ctx.needs_input_grad[0]:\n",
        "            grad_input = #  derivative of tanh(x) : 1 - tanh^2(x)\n",
        "\n",
        "        return  # initialize all gradients w.r.t. inputs to None"
      ],
      "metadata": {
        "id": "4gyujK6r1it7"
      },
      "execution_count": null,
      "outputs": []
    },
    {
      "cell_type": "markdown",
      "source": [
        "# (Assignment) Activation function with implementing forward and backward step\n",
        "\n",
        "- Write activation function, forward and backward step\n",
        "- Swish (paper : https://arxiv.org/abs/1710.05941)\n",
        "### $\\text{swish}(x) = x * \\text{Sigmoid}(\\beta x)$\n",
        "- $\\beta$ is a constant or trainable parameter\n",
        "- In this practice, $\\beta$ is fixed to 1"
      ],
      "metadata": {
        "id": "QPsOJexs1jRk"
      }
    },
    {
      "cell_type": "code",
      "source": [
        "class swish(Function):\n",
        "    \n",
        "    @staticmethod  # python decorator\n",
        "    def forward(ctx, x):\n",
        "        #### TODO : WRITE YOUR CODE ####\n",
        "\n",
        "        \n",
        "        return\n",
        "        ################################\n",
        "\n",
        "    @staticmethod\n",
        "    def backward(ctx, grad_output):\n",
        "        # At the top of backward unpack saved_tensors and initialize all gradients w.r.t. inputs to None\n",
        "        #### TODO : WRITE YOUR CODE ####\n",
        "\n",
        "        \n",
        "        return  # initialize all gradients w.r.t. inputs to None\n",
        "        ################################"
      ],
      "metadata": {
        "id": "RjSJ5bOx1nKQ"
      },
      "execution_count": null,
      "outputs": []
    },
    {
      "cell_type": "markdown",
      "source": [
        "# Neural Network model class"
      ],
      "metadata": {
        "id": "MuDwc0ZOdxJt"
      }
    },
    {
      "cell_type": "code",
      "source": [
        "class MLP(nn.Module):\n",
        "    def __init__(self, n_feature, n_hidden, n_output, dropout_rate=0.2):\n",
        "        super(MLP, self).__init__()\n",
        "\n",
        "        self.fc1 = nn.Linear(n_feature, n_hidden)\n",
        "        self.a1 = tanh.apply  # activation function we implemented\n",
        "        \n",
        "        self.fc2 = nn.Linear(n_hidden, n_hidden)\n",
        "        self.a2 = tanh.apply\n",
        "\n",
        "        self.fc3 = nn.Linear(n_hidden, n_output)\n",
        "\n",
        "        self.dropout = nn.Dropout(dropout_rate) # dropout with dropout_rate\n",
        "        \n",
        "    def forward(self, x):\n",
        "        x = self.a1(self.fc1(x))\n",
        "        x = self.dropout(x)\n",
        "\n",
        "        x = self.a2(self.fc2(x))\n",
        "        x = self.dropout(x)\n",
        "\n",
        "        x = self.fc3(x)\n",
        "\n",
        "        return x\n"
      ],
      "metadata": {
        "id": "n-onkZDOLdCQ"
      },
      "execution_count": null,
      "outputs": []
    },
    {
      "cell_type": "markdown",
      "source": [
        "# Training \n",
        "- Training with $K$-fold\n",
        "- Hyperparameter optimization (HPO)"
      ],
      "metadata": {
        "id": "LuDS5iU4fby2"
      }
    },
    {
      "cell_type": "code",
      "source": [
        "from itertools import product\n",
        "\n",
        "# training hyperparameters used to HPO\n",
        "hpo_vals = {  # our search space for HPO\n",
        "    'learning_rate': [0.001, 0.005, 0.01],\n",
        "    'weight_decay' : [0.7, 0.8, 0.9],\n",
        "    'dropout_rate' : [0.1, 0.2, 0.3],\n",
        "}\n",
        "hp_candidates = []\n",
        "\n",
        "items = sorted(hpo_vals.items())\n",
        "keys, vals = zip(*items)\n",
        "\n",
        "# product do cartesian product, so it creates all combinations\n",
        "for v in product(*vals):  \n",
        "    hp_candidates.append(dict(zip(keys, v)))\n",
        "\n",
        "print(\"Length of hyperparameter candidates :\", len(hp_candidates))\n",
        "print(hp_candidates)"
      ],
      "metadata": {
        "colab": {
          "base_uri": "https://localhost:8080/"
        },
        "id": "5u0OCtce1s3V",
        "outputId": "34dc3a4c-c209-4a7f-8c41-90e80cfca4da"
      },
      "execution_count": null,
      "outputs": [
        {
          "output_type": "stream",
          "name": "stdout",
          "text": [
            "Length of hyperparameter candidates : 27\n",
            "[{'dropout_rate': 0.1, 'learning_rate': 0.001, 'weight_decay': 0.7}, {'dropout_rate': 0.1, 'learning_rate': 0.001, 'weight_decay': 0.8}, {'dropout_rate': 0.1, 'learning_rate': 0.001, 'weight_decay': 0.9}, {'dropout_rate': 0.1, 'learning_rate': 0.005, 'weight_decay': 0.7}, {'dropout_rate': 0.1, 'learning_rate': 0.005, 'weight_decay': 0.8}, {'dropout_rate': 0.1, 'learning_rate': 0.005, 'weight_decay': 0.9}, {'dropout_rate': 0.1, 'learning_rate': 0.01, 'weight_decay': 0.7}, {'dropout_rate': 0.1, 'learning_rate': 0.01, 'weight_decay': 0.8}, {'dropout_rate': 0.1, 'learning_rate': 0.01, 'weight_decay': 0.9}, {'dropout_rate': 0.2, 'learning_rate': 0.001, 'weight_decay': 0.7}, {'dropout_rate': 0.2, 'learning_rate': 0.001, 'weight_decay': 0.8}, {'dropout_rate': 0.2, 'learning_rate': 0.001, 'weight_decay': 0.9}, {'dropout_rate': 0.2, 'learning_rate': 0.005, 'weight_decay': 0.7}, {'dropout_rate': 0.2, 'learning_rate': 0.005, 'weight_decay': 0.8}, {'dropout_rate': 0.2, 'learning_rate': 0.005, 'weight_decay': 0.9}, {'dropout_rate': 0.2, 'learning_rate': 0.01, 'weight_decay': 0.7}, {'dropout_rate': 0.2, 'learning_rate': 0.01, 'weight_decay': 0.8}, {'dropout_rate': 0.2, 'learning_rate': 0.01, 'weight_decay': 0.9}, {'dropout_rate': 0.3, 'learning_rate': 0.001, 'weight_decay': 0.7}, {'dropout_rate': 0.3, 'learning_rate': 0.001, 'weight_decay': 0.8}, {'dropout_rate': 0.3, 'learning_rate': 0.001, 'weight_decay': 0.9}, {'dropout_rate': 0.3, 'learning_rate': 0.005, 'weight_decay': 0.7}, {'dropout_rate': 0.3, 'learning_rate': 0.005, 'weight_decay': 0.8}, {'dropout_rate': 0.3, 'learning_rate': 0.005, 'weight_decay': 0.9}, {'dropout_rate': 0.3, 'learning_rate': 0.01, 'weight_decay': 0.7}, {'dropout_rate': 0.3, 'learning_rate': 0.01, 'weight_decay': 0.8}, {'dropout_rate': 0.3, 'learning_rate': 0.01, 'weight_decay': 0.9}]\n"
          ]
        }
      ]
    },
    {
      "cell_type": "code",
      "source": [
        "from sklearn.model_selection import KFold\n",
        "\n",
        "device = torch.device('cuda:0' if torch.cuda.is_available() else 'cpu')\n",
        "\n",
        "# model hyperparameters\n",
        "n_features = X_train.shape[1] # the number of features in input\n",
        "n_hidden = 256\n",
        "n_output = 1\n",
        "\n",
        "# training hyperparameters\n",
        "batch_size = 32\n",
        "num_epochs = 20\n",
        "k_folds = 5\n",
        "\n",
        "hpo_results = []\n",
        "\n",
        "# for standard scaler\n",
        "train_mean = X_train.mean(axis=0)  # mean for each features\n",
        "train_std = X_train.std(axis=0)  # stdandard deviation for each features\n",
        "\n",
        "train_dataset = BostonDataset(X_train, y_train, train_mean, train_std)\n",
        "test_dataset = BostonDataset(X_test, y_test, train_mean, train_std)\n",
        "\n",
        "# Loops for each hyper-parameter combination\n",
        "# Train model using k-fold with a hyper-parameter combination\n",
        "for hp in hp_candidates:\n",
        "\n",
        "    # Load hyper-parameters for training\n",
        "    learning_rate = hp[\"learning_rate\"]\n",
        "    weight_decay = hp[\"weight_decay\"]\n",
        "    dropout_rate = hp[\"dropout_rate\"]\n",
        "\n",
        "    validation_logs = [[] for _ in range(k_folds)]\n",
        "\n",
        "    # Loops for each fold\n",
        "    kfold = KFold(n_splits=5) \n",
        "    for fold_idx, data_idx in enumerate(kfold.split(train_dataset)):\n",
        "        model = MLP(n_features, n_hidden, n_output, dropout_rate).to(device) # new MLP model for each fold\n",
        "        optimizer = torch.optim.Adam(model.parameters(), lr=learning_rate, weight_decay=weight_decay) # use weight decay to prevent overfitting\n",
        "        criterion = nn.MSELoss() # use Mean Squared Error, because it is a regression problem that predicts house prices\n",
        "\n",
        "        train_idx, validation_idx = data_idx  # results of k_fold_data function\n",
        "\n",
        "        # divide train_dataset into train_subtset and validation_subset using the indexes that are results of k_fold_data function\n",
        "        train_subset = Subset(train_dataset, train_idx)\n",
        "        validation_subset = Subset(train_dataset, validation_idx)\n",
        "\n",
        "        train_dataloader = DataLoader(train_subset, batch_size=batch_size, shuffle=True)\n",
        "        validation_dataloader = DataLoader(validation_subset, batch_size=batch_size, shuffle=False)\n",
        "\n",
        "        validation_losses = []\n",
        "\n",
        "        model.train()\n",
        "        for epoch in range(num_epochs):\n",
        "            train_loss = 0.\n",
        "            for i, (inputs, targets) in enumerate(train_dataloader):\n",
        "                inputs, targets = inputs.to(device), targets.to(device)\n",
        "\n",
        "                optimizer.zero_grad() \n",
        "                # sets the gradients of all optimized torch.Tensors to zero before starting to do backpropagation\n",
        "                # By default, PyTorch accumulates the gradients. Accumulating process is convinient while training RNN\n",
        "\n",
        "                y_pred = model(inputs)\n",
        "\n",
        "                loss = criterion(y_pred, targets)\n",
        "                loss.backward()  # Computes the gradient of current tensor\n",
        "                optimizer.step()  # Performs a single optimization step (parameter update)\n",
        "\n",
        "                train_loss += loss.item() * inputs.shape[0]\n",
        "\n",
        "            model.eval()\n",
        "            with torch.no_grad():\n",
        "                validation_loss = 0.\n",
        "                for i, (inputs, targets) in enumerate(validation_dataloader):\n",
        "                    inputs, targets = inputs.to(device), targets.to(device)\n",
        "\n",
        "                    y_pred = model(inputs)\n",
        "\n",
        "                    validation_loss += criterion(y_pred, targets).item() * inputs.shape[0]\n",
        "\n",
        "                validation_logs[fold_idx].append(validation_loss / len(validation_subset))\n",
        "\n",
        "    # Validation score is calculated by averaging the results of each folds\n",
        "    validation_score = np.mean(validation_logs)\n",
        "\n",
        "    hpo_results.append([*hp.values(), validation_score])\n"
      ],
      "metadata": {
        "id": "2NpiPTvK11KX"
      },
      "execution_count": null,
      "outputs": []
    },
    {
      "cell_type": "markdown",
      "source": [
        "### Hyperparameter tuning results\n",
        "\n",
        "- Low validation score is better in our practice, because we use the Mean Squared Error"
      ],
      "metadata": {
        "id": "vEOruxMVggkN"
      }
    },
    {
      "cell_type": "code",
      "source": [
        "cols = [*keys, \"validation_score\"]\n",
        "hpo_df = pd.DataFrame(hpo_results, columns=cols)\n",
        "hpo_sorted_df = hpo_df.sort_values(by=\"validation_score\")  # sort validation socre in ascending order because we used mean squared error\n",
        "hpo_sorted_df\n",
        "\n",
        "# Lower validation score is better\n",
        "# In our search space, the top row of dataframe is the best hyperparameter combination"
      ],
      "metadata": {
        "id": "3UIEHVOWFY_t",
        "colab": {
          "base_uri": "https://localhost:8080/",
          "height": 896
        },
        "outputId": "f1c7eeb8-b3f8-44d7-ddb7-7f265682b934"
      },
      "execution_count": null,
      "outputs": [
        {
          "output_type": "execute_result",
          "data": {
            "text/plain": [
              "    dropout_rate  learning_rate  weight_decay  validation_score\n",
              "17           0.2          0.010           0.9        127.792146\n",
              "8            0.1          0.010           0.9        130.572820\n",
              "14           0.2          0.005           0.9        131.021061\n",
              "26           0.3          0.010           0.9        131.717669\n",
              "24           0.3          0.010           0.7        137.855039\n",
              "7            0.1          0.010           0.8        142.058728\n",
              "23           0.3          0.005           0.9        143.131495\n",
              "22           0.3          0.005           0.8        145.755742\n",
              "16           0.2          0.010           0.8        148.655389\n",
              "5            0.1          0.005           0.9        148.688486\n",
              "6            0.1          0.010           0.7        149.189000\n",
              "3            0.1          0.005           0.7        149.645337\n",
              "25           0.3          0.010           0.8        150.517668\n",
              "12           0.2          0.005           0.7        159.339622\n",
              "21           0.3          0.005           0.7        160.081124\n",
              "15           0.2          0.010           0.7        160.973311\n",
              "13           0.2          0.005           0.8        162.161231\n",
              "4            0.1          0.005           0.8        162.739208\n",
              "11           0.2          0.001           0.9        252.718609\n",
              "0            0.1          0.001           0.7        257.254648\n",
              "10           0.2          0.001           0.8        263.316552\n",
              "19           0.3          0.001           0.8        266.524056\n",
              "1            0.1          0.001           0.8        270.455304\n",
              "9            0.2          0.001           0.7        270.950985\n",
              "2            0.1          0.001           0.9        278.558273\n",
              "18           0.3          0.001           0.7        279.031286\n",
              "20           0.3          0.001           0.9        290.292958"
            ],
            "text/html": [
              "\n",
              "  <div id=\"df-61bd38f8-d623-4c74-9efd-cf03f66d2b17\">\n",
              "    <div class=\"colab-df-container\">\n",
              "      <div>\n",
              "<style scoped>\n",
              "    .dataframe tbody tr th:only-of-type {\n",
              "        vertical-align: middle;\n",
              "    }\n",
              "\n",
              "    .dataframe tbody tr th {\n",
              "        vertical-align: top;\n",
              "    }\n",
              "\n",
              "    .dataframe thead th {\n",
              "        text-align: right;\n",
              "    }\n",
              "</style>\n",
              "<table border=\"1\" class=\"dataframe\">\n",
              "  <thead>\n",
              "    <tr style=\"text-align: right;\">\n",
              "      <th></th>\n",
              "      <th>dropout_rate</th>\n",
              "      <th>learning_rate</th>\n",
              "      <th>weight_decay</th>\n",
              "      <th>validation_score</th>\n",
              "    </tr>\n",
              "  </thead>\n",
              "  <tbody>\n",
              "    <tr>\n",
              "      <th>17</th>\n",
              "      <td>0.2</td>\n",
              "      <td>0.010</td>\n",
              "      <td>0.9</td>\n",
              "      <td>127.792146</td>\n",
              "    </tr>\n",
              "    <tr>\n",
              "      <th>8</th>\n",
              "      <td>0.1</td>\n",
              "      <td>0.010</td>\n",
              "      <td>0.9</td>\n",
              "      <td>130.572820</td>\n",
              "    </tr>\n",
              "    <tr>\n",
              "      <th>14</th>\n",
              "      <td>0.2</td>\n",
              "      <td>0.005</td>\n",
              "      <td>0.9</td>\n",
              "      <td>131.021061</td>\n",
              "    </tr>\n",
              "    <tr>\n",
              "      <th>26</th>\n",
              "      <td>0.3</td>\n",
              "      <td>0.010</td>\n",
              "      <td>0.9</td>\n",
              "      <td>131.717669</td>\n",
              "    </tr>\n",
              "    <tr>\n",
              "      <th>24</th>\n",
              "      <td>0.3</td>\n",
              "      <td>0.010</td>\n",
              "      <td>0.7</td>\n",
              "      <td>137.855039</td>\n",
              "    </tr>\n",
              "    <tr>\n",
              "      <th>7</th>\n",
              "      <td>0.1</td>\n",
              "      <td>0.010</td>\n",
              "      <td>0.8</td>\n",
              "      <td>142.058728</td>\n",
              "    </tr>\n",
              "    <tr>\n",
              "      <th>23</th>\n",
              "      <td>0.3</td>\n",
              "      <td>0.005</td>\n",
              "      <td>0.9</td>\n",
              "      <td>143.131495</td>\n",
              "    </tr>\n",
              "    <tr>\n",
              "      <th>22</th>\n",
              "      <td>0.3</td>\n",
              "      <td>0.005</td>\n",
              "      <td>0.8</td>\n",
              "      <td>145.755742</td>\n",
              "    </tr>\n",
              "    <tr>\n",
              "      <th>16</th>\n",
              "      <td>0.2</td>\n",
              "      <td>0.010</td>\n",
              "      <td>0.8</td>\n",
              "      <td>148.655389</td>\n",
              "    </tr>\n",
              "    <tr>\n",
              "      <th>5</th>\n",
              "      <td>0.1</td>\n",
              "      <td>0.005</td>\n",
              "      <td>0.9</td>\n",
              "      <td>148.688486</td>\n",
              "    </tr>\n",
              "    <tr>\n",
              "      <th>6</th>\n",
              "      <td>0.1</td>\n",
              "      <td>0.010</td>\n",
              "      <td>0.7</td>\n",
              "      <td>149.189000</td>\n",
              "    </tr>\n",
              "    <tr>\n",
              "      <th>3</th>\n",
              "      <td>0.1</td>\n",
              "      <td>0.005</td>\n",
              "      <td>0.7</td>\n",
              "      <td>149.645337</td>\n",
              "    </tr>\n",
              "    <tr>\n",
              "      <th>25</th>\n",
              "      <td>0.3</td>\n",
              "      <td>0.010</td>\n",
              "      <td>0.8</td>\n",
              "      <td>150.517668</td>\n",
              "    </tr>\n",
              "    <tr>\n",
              "      <th>12</th>\n",
              "      <td>0.2</td>\n",
              "      <td>0.005</td>\n",
              "      <td>0.7</td>\n",
              "      <td>159.339622</td>\n",
              "    </tr>\n",
              "    <tr>\n",
              "      <th>21</th>\n",
              "      <td>0.3</td>\n",
              "      <td>0.005</td>\n",
              "      <td>0.7</td>\n",
              "      <td>160.081124</td>\n",
              "    </tr>\n",
              "    <tr>\n",
              "      <th>15</th>\n",
              "      <td>0.2</td>\n",
              "      <td>0.010</td>\n",
              "      <td>0.7</td>\n",
              "      <td>160.973311</td>\n",
              "    </tr>\n",
              "    <tr>\n",
              "      <th>13</th>\n",
              "      <td>0.2</td>\n",
              "      <td>0.005</td>\n",
              "      <td>0.8</td>\n",
              "      <td>162.161231</td>\n",
              "    </tr>\n",
              "    <tr>\n",
              "      <th>4</th>\n",
              "      <td>0.1</td>\n",
              "      <td>0.005</td>\n",
              "      <td>0.8</td>\n",
              "      <td>162.739208</td>\n",
              "    </tr>\n",
              "    <tr>\n",
              "      <th>11</th>\n",
              "      <td>0.2</td>\n",
              "      <td>0.001</td>\n",
              "      <td>0.9</td>\n",
              "      <td>252.718609</td>\n",
              "    </tr>\n",
              "    <tr>\n",
              "      <th>0</th>\n",
              "      <td>0.1</td>\n",
              "      <td>0.001</td>\n",
              "      <td>0.7</td>\n",
              "      <td>257.254648</td>\n",
              "    </tr>\n",
              "    <tr>\n",
              "      <th>10</th>\n",
              "      <td>0.2</td>\n",
              "      <td>0.001</td>\n",
              "      <td>0.8</td>\n",
              "      <td>263.316552</td>\n",
              "    </tr>\n",
              "    <tr>\n",
              "      <th>19</th>\n",
              "      <td>0.3</td>\n",
              "      <td>0.001</td>\n",
              "      <td>0.8</td>\n",
              "      <td>266.524056</td>\n",
              "    </tr>\n",
              "    <tr>\n",
              "      <th>1</th>\n",
              "      <td>0.1</td>\n",
              "      <td>0.001</td>\n",
              "      <td>0.8</td>\n",
              "      <td>270.455304</td>\n",
              "    </tr>\n",
              "    <tr>\n",
              "      <th>9</th>\n",
              "      <td>0.2</td>\n",
              "      <td>0.001</td>\n",
              "      <td>0.7</td>\n",
              "      <td>270.950985</td>\n",
              "    </tr>\n",
              "    <tr>\n",
              "      <th>2</th>\n",
              "      <td>0.1</td>\n",
              "      <td>0.001</td>\n",
              "      <td>0.9</td>\n",
              "      <td>278.558273</td>\n",
              "    </tr>\n",
              "    <tr>\n",
              "      <th>18</th>\n",
              "      <td>0.3</td>\n",
              "      <td>0.001</td>\n",
              "      <td>0.7</td>\n",
              "      <td>279.031286</td>\n",
              "    </tr>\n",
              "    <tr>\n",
              "      <th>20</th>\n",
              "      <td>0.3</td>\n",
              "      <td>0.001</td>\n",
              "      <td>0.9</td>\n",
              "      <td>290.292958</td>\n",
              "    </tr>\n",
              "  </tbody>\n",
              "</table>\n",
              "</div>\n",
              "      <button class=\"colab-df-convert\" onclick=\"convertToInteractive('df-61bd38f8-d623-4c74-9efd-cf03f66d2b17')\"\n",
              "              title=\"Convert this dataframe to an interactive table.\"\n",
              "              style=\"display:none;\">\n",
              "        \n",
              "  <svg xmlns=\"http://www.w3.org/2000/svg\" height=\"24px\"viewBox=\"0 0 24 24\"\n",
              "       width=\"24px\">\n",
              "    <path d=\"M0 0h24v24H0V0z\" fill=\"none\"/>\n",
              "    <path d=\"M18.56 5.44l.94 2.06.94-2.06 2.06-.94-2.06-.94-.94-2.06-.94 2.06-2.06.94zm-11 1L8.5 8.5l.94-2.06 2.06-.94-2.06-.94L8.5 2.5l-.94 2.06-2.06.94zm10 10l.94 2.06.94-2.06 2.06-.94-2.06-.94-.94-2.06-.94 2.06-2.06.94z\"/><path d=\"M17.41 7.96l-1.37-1.37c-.4-.4-.92-.59-1.43-.59-.52 0-1.04.2-1.43.59L10.3 9.45l-7.72 7.72c-.78.78-.78 2.05 0 2.83L4 21.41c.39.39.9.59 1.41.59.51 0 1.02-.2 1.41-.59l7.78-7.78 2.81-2.81c.8-.78.8-2.07 0-2.86zM5.41 20L4 18.59l7.72-7.72 1.47 1.35L5.41 20z\"/>\n",
              "  </svg>\n",
              "      </button>\n",
              "      \n",
              "  <style>\n",
              "    .colab-df-container {\n",
              "      display:flex;\n",
              "      flex-wrap:wrap;\n",
              "      gap: 12px;\n",
              "    }\n",
              "\n",
              "    .colab-df-convert {\n",
              "      background-color: #E8F0FE;\n",
              "      border: none;\n",
              "      border-radius: 50%;\n",
              "      cursor: pointer;\n",
              "      display: none;\n",
              "      fill: #1967D2;\n",
              "      height: 32px;\n",
              "      padding: 0 0 0 0;\n",
              "      width: 32px;\n",
              "    }\n",
              "\n",
              "    .colab-df-convert:hover {\n",
              "      background-color: #E2EBFA;\n",
              "      box-shadow: 0px 1px 2px rgba(60, 64, 67, 0.3), 0px 1px 3px 1px rgba(60, 64, 67, 0.15);\n",
              "      fill: #174EA6;\n",
              "    }\n",
              "\n",
              "    [theme=dark] .colab-df-convert {\n",
              "      background-color: #3B4455;\n",
              "      fill: #D2E3FC;\n",
              "    }\n",
              "\n",
              "    [theme=dark] .colab-df-convert:hover {\n",
              "      background-color: #434B5C;\n",
              "      box-shadow: 0px 1px 3px 1px rgba(0, 0, 0, 0.15);\n",
              "      filter: drop-shadow(0px 1px 2px rgba(0, 0, 0, 0.3));\n",
              "      fill: #FFFFFF;\n",
              "    }\n",
              "  </style>\n",
              "\n",
              "      <script>\n",
              "        const buttonEl =\n",
              "          document.querySelector('#df-61bd38f8-d623-4c74-9efd-cf03f66d2b17 button.colab-df-convert');\n",
              "        buttonEl.style.display =\n",
              "          google.colab.kernel.accessAllowed ? 'block' : 'none';\n",
              "\n",
              "        async function convertToInteractive(key) {\n",
              "          const element = document.querySelector('#df-61bd38f8-d623-4c74-9efd-cf03f66d2b17');\n",
              "          const dataTable =\n",
              "            await google.colab.kernel.invokeFunction('convertToInteractive',\n",
              "                                                     [key], {});\n",
              "          if (!dataTable) return;\n",
              "\n",
              "          const docLinkHtml = 'Like what you see? Visit the ' +\n",
              "            '<a target=\"_blank\" href=https://colab.research.google.com/notebooks/data_table.ipynb>data table notebook</a>'\n",
              "            + ' to learn more about interactive tables.';\n",
              "          element.innerHTML = '';\n",
              "          dataTable['output_type'] = 'display_data';\n",
              "          await google.colab.output.renderOutput(dataTable, element);\n",
              "          const docLink = document.createElement('div');\n",
              "          docLink.innerHTML = docLinkHtml;\n",
              "          element.appendChild(docLink);\n",
              "        }\n",
              "      </script>\n",
              "    </div>\n",
              "  </div>\n",
              "  "
            ]
          },
          "metadata": {},
          "execution_count": 23
        }
      ]
    },
    {
      "cell_type": "markdown",
      "source": [
        "# Train and Test model with best hyperparameter setting"
      ],
      "metadata": {
        "id": "b--FifHX2CLh"
      }
    },
    {
      "cell_type": "markdown",
      "source": [
        "## Train model with best hyperparameter using full training dataset without $K$-fold"
      ],
      "metadata": {
        "id": "7GoO0rvY2Gqv"
      }
    },
    {
      "cell_type": "code",
      "source": [
        "import matplotlib.pyplot as plt\n",
        "%matplotlib inline\n",
        "\n",
        "from IPython.display import clear_output"
      ],
      "metadata": {
        "id": "Em7sd0NGg7-k"
      },
      "execution_count": null,
      "outputs": []
    },
    {
      "cell_type": "code",
      "source": [
        "# function for plotting loss\n",
        "def plot_loss(loss_list):\n",
        "    clear_output(True) # clear output in executing cell\n",
        "    plt.figure(figsize=(5, 5))\n",
        "    plt.ylabel(\"Train Loss\")\n",
        "    plt.xlabel(\"Epochs\")\n",
        "    plt.plot(loss_list)\n",
        "    plt.show()"
      ],
      "metadata": {
        "id": "fTwA5nl3fQ9r"
      },
      "execution_count": null,
      "outputs": []
    },
    {
      "cell_type": "code",
      "source": [
        "# training hyperparameters\n",
        "batch_size = 32\n",
        "num_epochs = 100\n",
        "\n",
        "# Use best hyperparameter setting, The top row of dataframe is the best hyperparameter\n",
        "learning_rate = hpo_sorted_df.iloc[0].learning_rate\n",
        "weight_decay = hpo_sorted_df.iloc[0].weight_decay\n",
        "dropout_rate = hpo_sorted_df.iloc[0].dropout_rate\n",
        "\n",
        "model_with_hpo = # MLP().to(device)\n",
        "# class MLP(nn.Module):\n",
        "#    def __init__(self, n_feature, n_hidden, n_output, dropout_rate=0.2):\n",
        "\n",
        "optimizer = \n",
        "# torch.optim.Adam(params, lr=, weight_decay=, )\n",
        "\n",
        "criterion = nn.MSELoss() # using Mean Squared Error\n",
        "\n",
        "# use full training dataset without K-fold\n",
        "train_dataloader = DataLoader(train_dataset, batch_size=batch_size, shuffle=True)\n",
        "\n",
        "train_logs = []\n",
        "\n",
        "model_with_hpo.train()\n",
        "for epoch in range(num_epochs):\n",
        "    train_loss = 0.\n",
        "    for i, (inputs, targets) in enumerate(train_dataloader):\n",
        "        inputs, targets = inputs.to(device), targets.to(device)\n",
        "\n",
        "        optimizer.zero_grad()\n",
        "\n",
        "        y_pred = model_with_hpo(inputs)\n",
        "\n",
        "        loss = criterion(y_pred, targets)\n",
        "        loss.backward()\n",
        "        optimizer.step()\n",
        "\n",
        "        train_loss += loss.item() * inputs.shape[0]\n",
        "\n",
        "    train_logs.append(train_loss / len(train_dataset))\n",
        "    \n",
        "    if epoch % 10 == 0:\n",
        "        plot_loss(train_logs)\n",
        "        "
      ],
      "metadata": {
        "id": "ZuTeMpkq2K-L",
        "colab": {
          "base_uri": "https://localhost:8080/",
          "height": 334
        },
        "outputId": "e7c0090a-330f-44ee-e611-609bdc08e344"
      },
      "execution_count": null,
      "outputs": [
        {
          "output_type": "display_data",
          "data": {
            "text/plain": [
              "<Figure size 360x360 with 1 Axes>"
            ],
            "image/png": "[encoded data removed]"
          },
          "metadata": {
            "needs_background": "light"
          }
        }
      ]
    },
    {
      "cell_type": "code",
      "source": [
        "train_logs[-1], np.array(train_logs).min()"
      ],
      "metadata": {
        "id": "Q3MpdrsAXtLl",
        "colab": {
          "base_uri": "https://localhost:8080/"
        },
        "outputId": "0368de1c-a8c8-41b0-96ca-409e6edc4a1d"
      },
      "execution_count": null,
      "outputs": [
        {
          "output_type": "execute_result",
          "data": {
            "text/plain": [
              "(24.091272901780535, 20.949241392683273)"
            ]
          },
          "metadata": {},
          "execution_count": 31
        }
      ]
    },
    {
      "cell_type": "markdown",
      "source": [
        "## Test model with best hyperparameter"
      ],
      "metadata": {
        "id": "n1iSnBou2Gnf"
      }
    },
    {
      "cell_type": "code",
      "source": [
        "test_logs = []\n",
        "test_dataloader = DataLoader(test_dataset, batch_size=batch_size, shuffle=False)\n",
        "\n",
        "criterion = nn.MSELoss(reduction='sum') # sum loss using Mean Squared Error\n",
        "\n",
        "model_with_hpo.eval()\n",
        "with torch.no_grad():\n",
        "    for i, (inputs, targets) in enumerate(test_dataloader):\n",
        "        inputs, targets = inputs.to(device), targets.to(device)\n",
        "        y_pred = model_with_hpo(inputs)\n",
        "        test_logs.append(criterion(y_pred, targets).item())\n",
        "\n",
        "print(f'average test log mse = {sum(test_logs)/ len(test_dataset)}')"
      ],
      "metadata": {
        "id": "icmjnbgF2Lfm",
        "colab": {
          "base_uri": "https://localhost:8080/"
        },
        "outputId": "5471ee76-6d13-42c2-f1a0-c6274dbbc393"
      },
      "execution_count": null,
      "outputs": [
        {
          "output_type": "stream",
          "name": "stdout",
          "text": [
            "average test log mse = 37.895892124550016\n"
          ]
        }
      ]
    },
    {
      "cell_type": "markdown",
      "source": [
        "# References\n",
        "- https://scikit-learn.org/stable/modules/generated/sklearn.datasets.load_boston.html\n",
        "- https://pytorch.org/tutorials/beginner/basics/data_tutorial.html\n",
        "- https://pytorch.org/tutorials/beginner/data_loading_tutorial.html\n",
        "- https://github.com/scikit-learn/scikit-learn/blob/36958fb24/sklearn/model_selection/_search.py#L1021\n",
        "- https://towardsdatascience.com/extending-pytorch-with-custom-activation-functions-2d8b065ef2fa\n",
        "- https://pytorch.org/docs/stable/notes/extending.html"
      ],
      "metadata": {
        "id": "GL-DlCXu6gnC"
      }
    },
    {
      "cell_type": "markdown",
      "source": [
        "# Test part\n",
        "***Do not change*** this part and ***Do not add*** cell below this part<br>\n",
        "- This part is not for students\n",
        "- Do not use & add below cell"
      ],
      "metadata": {
        "id": "d1nALDNewqHW"
      }
    },
    {
      "cell_type": "code",
      "source": [
        "from torch.autograd import gradcheck\n",
        "\n",
        "input = (torch.rand(32, 13, dtype=torch.float, requires_grad=True)).to(device)\n",
        "\n",
        "test = gradcheck(model_with_hpo, input, eps=1e-3, atol=1e-2)"
      ],
      "metadata": {
        "id": "cOc667_fvKt2"
      },
      "execution_count": null,
      "outputs": []
    },
    {
      "cell_type": "code",
      "source": [
        "print(test)"
      ],
      "metadata": {
        "id": "UVphOEKQwb1U"
      },
      "execution_count": null,
      "outputs": []
    },
    {
      "cell_type": "code",
      "source": [
        "print(sum(test_logs)/ len(test_dataset))"
      ],
      "metadata": {
        "id": "4tbP_QJEw32O"
      },
      "execution_count": null,
      "outputs": []
    },
    {
      "cell_type": "code",
      "source": [
        "k_test = 5\n",
        "k_fold_test = k_fold_data(input, k_test)\n",
        "\n",
        "check = True\n",
        "\n",
        "if len(k_fold_test) != k_test:    \n",
        "    check = False\n",
        "else:\n",
        "    for fold in k_fold_test:\n",
        "        if len(fold[1]) != (input.shape[0] // k_test):\n",
        "            check = False\n",
        "            break\n",
        "\n",
        "print(check)"
      ],
      "metadata": {
        "id": "dBFs_cHUa-_Y"
      },
      "execution_count": null,
      "outputs": []
    }
  ]
}