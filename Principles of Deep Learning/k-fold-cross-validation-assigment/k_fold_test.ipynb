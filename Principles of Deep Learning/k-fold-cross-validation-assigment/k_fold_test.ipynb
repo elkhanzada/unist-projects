{
  "cells": [
    {
      "cell_type": "markdown",
      "metadata": {
        "id": "8PgZx_Sf_cur"
      },
      "source": [
        "# Cousre : IE408_AI502_IE511\n",
        "### 2022.09.16\n",
        "\n"
      ]
    },
    {
      "cell_type": "markdown",
      "metadata": {
        "id": "QGq5wOIZAQTY"
      },
      "source": [
        "# Model selection via K-fold cross validation\n",
        "\n",
        "## Table of Contents\n",
        "---\n",
        "- Custom dataset <br>\n",
        "- $K$-fold cross validation (Assigment)<br>\n",
        "- Custom activation function (Assigment)<br>\n",
        "- MLP construction<br>\n",
        "- Hyperparameter tuning<br>\n",
        "\n",
        "<br>\n",
        "\n",
        "**`Assigment`** : Complete the two cell marked with (Assignment)\n",
        "- (Assignment) $K$-fold cross validation\n",
        "- (Assignment) Activation function with implementing forward and backward step\n",
        "- 🚨 Please **do not modify** code that is not an Assigment cell\n",
        "- 🚨 Please **do not add** any cells\n",
        "\n",
        "\n"
      ]
    },
    {
      "cell_type": "markdown",
      "metadata": {
        "id": "C9DDDg4PdeRB"
      },
      "source": [
        "# import library"
      ]
    },
    {
      "cell_type": "code",
      "execution_count": 1,
      "metadata": {
        "id": "PymY1HXxJV90"
      },
      "outputs": [],
      "source": [
        "import torch\n",
        "import torch.nn as nn\n",
        "import torch.nn.functional as F\n",
        "from torch.utils.data import Dataset, DataLoader, Subset\n",
        "\n",
        "from torch.autograd import Function  # to create custom activation function\n",
        "\n",
        "import pandas as pd\n",
        "import numpy as np"
      ]
    },
    {
      "cell_type": "markdown",
      "metadata": {
        "id": "su3fHNn4QjxS"
      },
      "source": [
        "# Boston house prices dataset specification\n",
        "\n",
        "<img src = https://user-images.githubusercontent.com/43310063/188207759-db4dad3f-31e2-4fd2-9f71-7eaaf3f88329.png>\n",
        "\n",
        "### Data examples\n",
        "<img src = https://user-images.githubusercontent.com/43310063/188208483-f6dc9c50-3399-4607-af6b-cc3a444895e8.png>"
      ]
    },
    {
      "cell_type": "markdown",
      "metadata": {
        "id": "9p21KQBwdo_g"
      },
      "source": [
        "# Custom dataset in PyTorch\n",
        "### If you make *custom dataset*, you can use dataloader in pytorch\n",
        "<br>\n",
        "\n",
        "PyTorch `DATASETS` & `DATALOADERS` : <br>\n",
        "\n",
        "- `torch.utils.data.DataLoader` and `torch.utils.data.Dataset` that allow you to use pre-loaded datasets as well as your own data. <br>\n",
        "- `Dataset` stores the samples and their corresponding labels.\n",
        "- `DataLoader` wraps an iterable around the Dataset to enable easy access to the samples.\n",
        "<br><br>\n",
        "\n",
        "- Creating a Custom Dataset for your files<br>\n",
        "    - A custom Dataset class must implement three functions: `__init__`, `__len__,` and `__getitem__`.\n",
        "    - The `__init__` function is run once when instantiating the Dataset object. We initialize the directory containing the images, the annotations file, and both transforms (covered in more detail in the next section).\n",
        "    - The `__len__` function returns the number of samples in our dataset.\n",
        "    - The `__getitem__` function loads and returns a sample from the dataset at the given index `idx`\n"
      ]
    },
    {
      "cell_type": "code",
      "execution_count": 2,
      "metadata": {
        "id": "UWgFc7HlwvTq"
      },
      "outputs": [],
      "source": [
        "\n",
        "class BostonDataset(Dataset):  # from torch.utils.data import Dataset\n",
        "    def __init__(self, features, targets, train_mean=None, train_std=None):\n",
        "        self.features = torch.Tensor(features)\n",
        "        self.targets = torch.Tensor(targets).reshape(-1, 1)\n",
        "\n",
        "        # Standard Scaler using train_data's mean and train_data's std\n",
        "        if (train_mean is not None) and (train_std is not None):\n",
        "            self.features = (self.features - train_mean) / train_std\n",
        "\n",
        "    def __len__(self):  # return length of dataset\n",
        "        return len(self.targets)\n",
        "\n",
        "    def __getitem__(self, idx):  # return data with index(idx)\n",
        "        X = self.features[idx, :] \n",
        "        y = self.targets[idx]\n",
        "        \n",
        "        return X, y"
      ]
    },
    {
      "cell_type": "markdown",
      "metadata": {
        "id": "WyyO6erTDtD6"
      },
      "source": [
        "# $K$-fold cross validation\n",
        "\n",
        "- Lecture note has details (Week2-MLP)<br>\n",
        "\n",
        "- $K$-fold cross validation procedure\n",
        "    1. Divide the training dataset into k-parts\n",
        "    2. Use k-1 parts as training set and 1 part as validation set\n",
        "    3. Repeat the procedure K times, rotating the validation set\n",
        "    4. Average validation errors\n"
      ]
    },
    {
      "cell_type": "markdown",
      "metadata": {
        "id": "nzW6JscQaZpJ"
      },
      "source": [
        "# (Assignment) $K$-fold cross validation\n",
        "\n",
        "- Write your code in loops \n",
        "- Do not use any external library\n",
        "\n",
        "<br>\n",
        "\n",
        "return `rets` that is list <br> <br>\n",
        "`rets` form : \\\\\n",
        "　　　　[[train_index_list_1, validation_index_list_1], \\\\\n",
        "　　　　[train_index_list_2, validation_index_list_2], \\\\\n",
        "　　　　... \\\\\n",
        "　　　　[train_index_list_k, validation_index_list_k]] \\\\\n",
        "<br>\n",
        "len(`rets`) : k \\\\\n",
        "`rets`[0] : [train_index_list, validation_index_list]"
      ]
    },
    {
      "cell_type": "code",
      "execution_count": 26,
      "metadata": {
        "id": "ZjeuxS0_JWYz"
      },
      "outputs": [
        {
          "name": "stdout",
          "output_type": "stream",
          "text": [
            "Fold size: 80\n",
            "80\n",
            "324\n",
            "80\n",
            "324\n",
            "80\n",
            "324\n",
            "80\n",
            "324\n",
            "80\n",
            "324\n",
            "[[80, 81, 82, 83, 84, 85, 86, 87, 88, 89, 90, 91, 92, 93, 94, 95, 96, 97, 98, 99, 100, 101, 102, 103, 104, 105, 106, 107, 108, 109, 110, 111, 112, 113, 114, 115, 116, 117, 118, 119, 120, 121, 122, 123, 124, 125, 126, 127, 128, 129, 130, 131, 132, 133, 134, 135, 136, 137, 138, 139, 140, 141, 142, 143, 144, 145, 146, 147, 148, 149, 150, 151, 152, 153, 154, 155, 156, 157, 158, 159, 160, 161, 162, 163, 164, 165, 166, 167, 168, 169, 170, 171, 172, 173, 174, 175, 176, 177, 178, 179, 180, 181, 182, 183, 184, 185, 186, 187, 188, 189, 190, 191, 192, 193, 194, 195, 196, 197, 198, 199, 200, 201, 202, 203, 204, 205, 206, 207, 208, 209, 210, 211, 212, 213, 214, 215, 216, 217, 218, 219, 220, 221, 222, 223, 224, 225, 226, 227, 228, 229, 230, 231, 232, 233, 234, 235, 236, 237, 238, 239, 240, 241, 242, 243, 244, 245, 246, 247, 248, 249, 250, 251, 252, 253, 254, 255, 256, 257, 258, 259, 260, 261, 262, 263, 264, 265, 266, 267, 268, 269, 270, 271, 272, 273, 274, 275, 276, 277, 278, 279, 280, 281, 282, 283, 284, 285, 286, 287, 288, 289, 290, 291, 292, 293, 294, 295, 296, 297, 298, 299, 300, 301, 302, 303, 304, 305, 306, 307, 308, 309, 310, 311, 312, 313, 314, 315, 316, 317, 318, 319, 320, 321, 322, 323, 324, 325, 326, 327, 328, 329, 330, 331, 332, 333, 334, 335, 336, 337, 338, 339, 340, 341, 342, 343, 344, 345, 346, 347, 348, 349, 350, 351, 352, 353, 354, 355, 356, 357, 358, 359, 360, 361, 362, 363, 364, 365, 366, 367, 368, 369, 370, 371, 372, 373, 374, 375, 376, 377, 378, 379, 380, 381, 382, 383, 384, 385, 386, 387, 388, 389, 390, 391, 392, 393, 394, 395, 396, 397, 398, 399, 400, 401, 402, 403], [0, 1, 2, 3, 4, 5, 6, 7, 8, 9, 10, 11, 12, 13, 14, 15, 16, 17, 18, 19, 20, 21, 22, 23, 24, 25, 26, 27, 28, 29, 30, 31, 32, 33, 34, 35, 36, 37, 38, 39, 40, 41, 42, 43, 44, 45, 46, 47, 48, 49, 50, 51, 52, 53, 54, 55, 56, 57, 58, 59, 60, 61, 62, 63, 64, 65, 66, 67, 68, 69, 70, 71, 72, 73, 74, 75, 76, 77, 78, 79]]\n"
          ]
        }
      ],
      "source": [
        "def k_fold_data(dataset, k):\n",
        "    rets = [] # list will have k-fold data, example rets[[train_index_list_1, validation_index_list_1], ... [train_index_list_k, validation_index_list_k]]\n",
        "    fold_size = len(dataset) // k\n",
        "    print(f\"Fold size: {fold_size}\")\n",
        "    for i in range(k):\n",
        "        #### TODO : WRITE YOUR CODE IN THIS LOOP & COMPLETE k-fold ####\n",
        "        validation_idx = [idx for idx in range(i*fold_size,i*fold_size+fold_size)]\n",
        "        train_idx = [idx for idx in range(len(dataset)) if idx not in validation_idx]\n",
        "        \n",
        "        print(len(validation_idx))\n",
        "        print(len(train_idx))\n",
        "        \n",
        "        rets.append([train_idx, validation_idx])\n",
        "\n",
        "        # form of return variable :\n",
        "        # len(rets) : k \n",
        "        # rets[0] : [train_index_list, validation_index_list]\n",
        "        # example : \n",
        "        #   rets : [[[fold_size, ... len of dataset], [0, 1, .. fold_size-1],\n",
        "        #           [train_index_list_2, validation_index_list_2],\n",
        "        #           ...\n",
        "        #           [train_index_list_k, validation_index_list_k]]\n",
        "        #######################################################\n",
        "    return rets\n",
        "rets = k_fold_data(train_dataset,5)\n",
        "print(rets[0])"
      ]
    },
    {
      "cell_type": "markdown",
      "metadata": {
        "id": "bZw4iuUiaGWv"
      },
      "source": [
        "# Load dataset & Split dataset"
      ]
    },
    {
      "cell_type": "code",
      "execution_count": 4,
      "metadata": {
        "colab": {
          "base_uri": "https://localhost:8080/"
        },
        "id": "BEelKv0wRwD1",
        "outputId": "864096c6-8642-452a-f692-a865657e9728"
      },
      "outputs": [
        {
          "name": "stdout",
          "output_type": "stream",
          "text": [
            "(404, 13) (102, 13) (404,) (102,)\n"
          ]
        }
      ],
      "source": [
        "# Load Boston house prices dataset\n",
        "data_url = \"http://lib.stat.cmu.edu/datasets/boston\"\n",
        "raw_df = pd.read_csv(data_url, sep=\"\\s+\", skiprows=22, header=None)\n",
        "\n",
        "X_data = np.hstack([raw_df.values[::2, :], raw_df.values[1::2, :2]])\n",
        "y_data = raw_df.values[1::2, 2]\n",
        "\n",
        "X_data = X_data.astype(np.float32)\n",
        "y_data = y_data.astype(np.float32)\n",
        "\n",
        "# Split the dataset into a training dataset and a test dataset\n",
        "test_size = 0.2\n",
        "train_len = int(X_data.shape[0] * (1-test_size))\n",
        "\n",
        "X_train, X_test = X_data[: train_len, :], X_data[train_len:, :]\n",
        "y_train, y_test = y_data[: train_len], y_data[train_len:]\n",
        "print(X_train.shape, X_test.shape, y_train.shape, y_test.shape)"
      ]
    },
    {
      "cell_type": "markdown",
      "metadata": {
        "id": "fFXDJCke1OOh"
      },
      "source": [
        "# Custom activation function"
      ]
    },
    {
      "cell_type": "markdown",
      "metadata": {
        "id": "3IfbCvDU1SVa"
      },
      "source": [
        "## Activation function without trainable parameter\n",
        "- sigmoid activation function\n",
        "### $\\text{Sigmoid}(x) = \\sigma(x) = \\frac{1}{1+\\text{exp}(-x)}$"
      ]
    },
    {
      "cell_type": "code",
      "execution_count": 5,
      "metadata": {
        "id": "lTSS2Sdr1iF3"
      },
      "outputs": [],
      "source": [
        "def sigmoid_(x):\n",
        "    return 1 / (1 + torch.exp(-x))\n",
        "\n",
        "class sigmoid(nn.Module):\n",
        "    def __init__(self):\n",
        "        super().__init__()\n",
        "        \n",
        "    def forward(self, x):\n",
        "        return sigmoid_(x)"
      ]
    },
    {
      "cell_type": "markdown",
      "metadata": {
        "id": "CvNdaCfW1SPp"
      },
      "source": [
        "## Activation function with implementing forward and backward step\n",
        "- tanh activation function\n",
        "### $\\text{tanh} = \\frac{\\text{exp}(x) - \\text{exp}(-x)}{\\text{exp}(x) + \\text{exp}(-x)}$\n",
        "\n"
      ]
    },
    {
      "cell_type": "code",
      "execution_count": 6,
      "metadata": {
        "id": "4gyujK6r1it7"
      },
      "outputs": [],
      "source": [
        "def tanh_(x):\n",
        "    return (torch.exp(x) - torch.exp(-x)) / (torch.exp(x) + torch.exp(-x))\n",
        "\n",
        "class tanh(Function):  # from torch.autograd import Function\n",
        "    \n",
        "    @staticmethod  # python decorator\n",
        "    def forward(ctx, x):\n",
        "        ctx.save_for_backward(x)\n",
        "        \n",
        "        output = tanh_(x)\n",
        "        \n",
        "        return output\n",
        "\n",
        "    @staticmethod\n",
        "    def backward(ctx, grad_output):\n",
        "        # At the top of backward unpack saved_tensors and initialize all gradients w.r.t. inputs to None.\n",
        "\n",
        "        x, = ctx.saved_tensors\n",
        "\n",
        "        if ctx.needs_input_grad[0]:\n",
        "            grad_input = 1 - tanh_(x) ** 2 # derivative of tanh(x) : 1 - tanh^2(x)\n",
        "\n",
        "        return grad_input * grad_output\n",
        "\n"
      ]
    },
    {
      "cell_type": "markdown",
      "metadata": {
        "id": "QPsOJexs1jRk"
      },
      "source": [
        "# (Assignment) Activation function with implementing forward and backward step\n",
        "\n",
        "- Write activation function, forward and backward step\n",
        "- Swish (paper : https://arxiv.org/abs/1710.05941)\n",
        "### $\\text{swish}(x) = x * \\text{Sigmoid}(\\beta x)$\n",
        "- $\\beta$ is a constant or trainable parameter\n",
        "- In this practice, $\\beta$ is fixed to 1"
      ]
    },
    {
      "cell_type": "code",
      "execution_count": 7,
      "metadata": {
        "id": "RjSJ5bOx1nKQ"
      },
      "outputs": [],
      "source": [
        "class swish(Function):\n",
        "    \n",
        "    @staticmethod  # python decorator\n",
        "    def forward(ctx, x):\n",
        "        #### TODO : WRITE YOUR CODE ####\n",
        "        ctx.save_for_backward(x)\n",
        "\n",
        "        output = x * sigmoid_(x)\n",
        "        \n",
        "        return output\n",
        "        ################################\n",
        "\n",
        "    @staticmethod\n",
        "    def backward(ctx, grad_output):\n",
        "        # At the top of backward unpack saved_tensors and initialize all gradients w.r.t. inputs to None.\n",
        "        #### TODO : WRITE YOUR CODE ####\n",
        "        x, = ctx.saved_tensors\n",
        "\n",
        "        if ctx.needs_input_grad[0]:\n",
        "            grad_input = x * sigmoid_(x) + sigmoid_(x) * (1 - x * sigmoid_(x))\n",
        "        \n",
        "        return  grad_input * grad_output # initialize all gradients w.r.t. inputs to None.\n",
        "        ################################"
      ]
    },
    {
      "cell_type": "markdown",
      "metadata": {
        "id": "MuDwc0ZOdxJt"
      },
      "source": [
        "# Neural Network model class"
      ]
    },
    {
      "cell_type": "code",
      "execution_count": 8,
      "metadata": {
        "id": "n-onkZDOLdCQ"
      },
      "outputs": [],
      "source": [
        "class MLP(nn.Module):\n",
        "    def __init__(self, n_feature, n_hidden, n_output, dropout_rate=0.2):\n",
        "        super(MLP, self).__init__()\n",
        "\n",
        "        self.fc1 = nn.Linear(n_feature, n_hidden)\n",
        "        self.a1 = swish.apply  # activation function we implemented\n",
        "        \n",
        "        self.fc2 = nn.Linear(n_hidden, n_hidden)\n",
        "        self.a2 = swish.apply\n",
        "\n",
        "        self.fc3 = nn.Linear(n_hidden, n_output)\n",
        "\n",
        "        self.dropout = nn.Dropout(dropout_rate) # dropout with dropout_rate\n",
        "        \n",
        "    def forward(self, x):\n",
        "        x = self.a1(self.fc1(x))\n",
        "        x = self.dropout(x)\n",
        "\n",
        "        x = self.a2(self.fc2(x))\n",
        "        x = self.dropout(x)\n",
        "\n",
        "        x = self.fc3(x)\n",
        "\n",
        "        return x\n"
      ]
    },
    {
      "cell_type": "markdown",
      "metadata": {
        "id": "LuDS5iU4fby2"
      },
      "source": [
        "# Training \n",
        "- Training with $K$-fold\n",
        "- Hyperparameter optimization (HPO)"
      ]
    },
    {
      "cell_type": "code",
      "execution_count": 9,
      "metadata": {
        "colab": {
          "base_uri": "https://localhost:8080/"
        },
        "id": "5u0OCtce1s3V",
        "outputId": "0ed603ab-742f-4f5a-d17c-fed93a0ec8f6"
      },
      "outputs": [
        {
          "name": "stdout",
          "output_type": "stream",
          "text": [
            "Length of hyperparameter candidates : 27\n",
            "[{'dropout_rate': 0.1, 'learning_rate': 0.001, 'weight_decay': 0.7}, {'dropout_rate': 0.1, 'learning_rate': 0.001, 'weight_decay': 0.8}, {'dropout_rate': 0.1, 'learning_rate': 0.001, 'weight_decay': 0.9}, {'dropout_rate': 0.1, 'learning_rate': 0.005, 'weight_decay': 0.7}, {'dropout_rate': 0.1, 'learning_rate': 0.005, 'weight_decay': 0.8}, {'dropout_rate': 0.1, 'learning_rate': 0.005, 'weight_decay': 0.9}, {'dropout_rate': 0.1, 'learning_rate': 0.01, 'weight_decay': 0.7}, {'dropout_rate': 0.1, 'learning_rate': 0.01, 'weight_decay': 0.8}, {'dropout_rate': 0.1, 'learning_rate': 0.01, 'weight_decay': 0.9}, {'dropout_rate': 0.2, 'learning_rate': 0.001, 'weight_decay': 0.7}, {'dropout_rate': 0.2, 'learning_rate': 0.001, 'weight_decay': 0.8}, {'dropout_rate': 0.2, 'learning_rate': 0.001, 'weight_decay': 0.9}, {'dropout_rate': 0.2, 'learning_rate': 0.005, 'weight_decay': 0.7}, {'dropout_rate': 0.2, 'learning_rate': 0.005, 'weight_decay': 0.8}, {'dropout_rate': 0.2, 'learning_rate': 0.005, 'weight_decay': 0.9}, {'dropout_rate': 0.2, 'learning_rate': 0.01, 'weight_decay': 0.7}, {'dropout_rate': 0.2, 'learning_rate': 0.01, 'weight_decay': 0.8}, {'dropout_rate': 0.2, 'learning_rate': 0.01, 'weight_decay': 0.9}, {'dropout_rate': 0.3, 'learning_rate': 0.001, 'weight_decay': 0.7}, {'dropout_rate': 0.3, 'learning_rate': 0.001, 'weight_decay': 0.8}, {'dropout_rate': 0.3, 'learning_rate': 0.001, 'weight_decay': 0.9}, {'dropout_rate': 0.3, 'learning_rate': 0.005, 'weight_decay': 0.7}, {'dropout_rate': 0.3, 'learning_rate': 0.005, 'weight_decay': 0.8}, {'dropout_rate': 0.3, 'learning_rate': 0.005, 'weight_decay': 0.9}, {'dropout_rate': 0.3, 'learning_rate': 0.01, 'weight_decay': 0.7}, {'dropout_rate': 0.3, 'learning_rate': 0.01, 'weight_decay': 0.8}, {'dropout_rate': 0.3, 'learning_rate': 0.01, 'weight_decay': 0.9}]\n"
          ]
        }
      ],
      "source": [
        "from itertools import product\n",
        "\n",
        "# training hyperparameters used to HPO\n",
        "hpo_vals = {  # our search space for HPO\n",
        "    'learning_rate': [0.001, 0.005, 0.01],\n",
        "    'weight_decay' : [0.7, 0.8, 0.9],\n",
        "    'dropout_rate' : [0.1, 0.2, 0.3],\n",
        "}\n",
        "hp_candidates = []\n",
        "\n",
        "items = sorted(hpo_vals.items())\n",
        "keys, vals = zip(*items)\n",
        "\n",
        "# product do cartesian product, so it creates all combinations\n",
        "for v in product(*vals):  \n",
        "    hp_candidates.append(dict(zip(keys, v)))\n",
        "\n",
        "print(\"Length of hyperparameter candidates :\", len(hp_candidates))\n",
        "print(hp_candidates)"
      ]
    },
    {
      "cell_type": "code",
      "execution_count": 10,
      "metadata": {
        "id": "2NpiPTvK11KX"
      },
      "outputs": [],
      "source": [
        "device = torch.device('cuda:0' if torch.cuda.is_available() else 'cpu')\n",
        "\n",
        "# model hyperparameters\n",
        "n_features = X_train.shape[1] # the number of features in input\n",
        "n_hidden = 256\n",
        "n_output = 1\n",
        "\n",
        "# training hyperparameters\n",
        "batch_size = 32\n",
        "num_epochs = 20\n",
        "k_folds = 5\n",
        "\n",
        "hpo_results = []\n",
        "\n",
        "# for standard scaler\n",
        "train_mean = X_train.mean(axis=0)  # mean for each features\n",
        "train_std = X_train.std(axis=0)  # stdandard deviation for each features\n",
        "\n",
        "train_dataset = BostonDataset(X_train, y_train, train_mean, train_std)\n",
        "test_dataset = BostonDataset(X_test, y_test, train_mean, train_std)\n",
        "\n",
        "# Loops for each hyper-parameter combination\n",
        "# Train model using k-fold with a hyper-parameter combination\n",
        "for hp in hp_candidates:\n",
        "\n",
        "    # Load hyper-parameters for training\n",
        "    learning_rate = hp[\"learning_rate\"]\n",
        "    weight_decay = hp[\"weight_decay\"]\n",
        "    dropout_rate = hp[\"dropout_rate\"]\n",
        "\n",
        "    validation_logs = [[] for _ in range(k_folds)]\n",
        "\n",
        "    # Loops for each fold\n",
        "    for fold_idx, data_idx in enumerate(k_fold_data(train_dataset, k_folds)):\n",
        "        model = MLP(n_features, n_hidden, n_output, dropout_rate).to(device) # new MLP model for each fold\n",
        "        optimizer = torch.optim.Adam(model.parameters(), lr=learning_rate, weight_decay=weight_decay) # use weight decay to prevent overfitting\n",
        "        criterion = nn.MSELoss() # use Mean Squared Error, because it is a regression problem that predicts house prices\n",
        "\n",
        "        train_idx, validation_idx = data_idx  # results of k_fold_data function\n",
        "\n",
        "        # divide train_dataset into train_subtset and validation_subset using the indexes that are results of k_fold_data function\n",
        "        train_subset = Subset(train_dataset, train_idx)\n",
        "        validation_subset = Subset(train_dataset, validation_idx)\n",
        "\n",
        "        train_dataloader = DataLoader(train_subset, batch_size=batch_size, shuffle=True)\n",
        "        validation_dataloader = DataLoader(validation_subset, batch_size=batch_size, shuffle=False)\n",
        "\n",
        "        validation_losses = []\n",
        "\n",
        "        model.train()\n",
        "        for epoch in range(num_epochs):\n",
        "            train_loss = 0.\n",
        "            for i, (inputs, targets) in enumerate(train_dataloader):\n",
        "                inputs, targets = inputs.to(device), targets.to(device)\n",
        "\n",
        "                optimizer.zero_grad() \n",
        "                # sets the gradients of all optimized torch.Tensors to zero before starting to do backpropagation\n",
        "                # By default, PyTorch accumulates the gradients. Accumulating process is convinient while training RNN\n",
        "\n",
        "                y_pred = model(inputs)\n",
        "\n",
        "                loss = criterion(y_pred, targets)\n",
        "                loss.backward()  # Computes the gradient of current tensor\n",
        "                optimizer.step()  # Performs a single optimization step (parameter update)\n",
        "\n",
        "                train_loss += loss.item() * inputs.shape[0]\n",
        "\n",
        "            model.eval()\n",
        "            with torch.no_grad():\n",
        "                validation_loss = 0.\n",
        "                for i, (inputs, targets) in enumerate(validation_dataloader):\n",
        "                    inputs, targets = inputs.to(device), targets.to(device)\n",
        "\n",
        "                    y_pred = model(inputs)\n",
        "\n",
        "                    validation_loss += criterion(y_pred, targets).item() * inputs.shape[0]\n",
        "\n",
        "                validation_logs[fold_idx].append(validation_loss / len(validation_subset))\n",
        "\n",
        "    # Validation score is calculated by averaging the results of each folds\n",
        "    validation_score = np.mean(validation_logs)\n",
        "\n",
        "    hpo_results.append([*hp.values(), validation_score])\n"
      ]
    },
    {
      "cell_type": "markdown",
      "metadata": {
        "id": "vEOruxMVggkN"
      },
      "source": [
        "### Hyperparameter tuning results\n",
        "\n",
        "- Low validation score is better in our practice, because we use the Mean Squared Error"
      ]
    },
    {
      "cell_type": "code",
      "execution_count": 11,
      "metadata": {
        "colab": {
          "base_uri": "https://localhost:8080/",
          "height": 896
        },
        "id": "3UIEHVOWFY_t",
        "outputId": "3c41ea17-677a-4b21-88f7-b6b7c46ecc78"
      },
      "outputs": [
        {
          "data": {
            "text/html": [
              "<div>\n",
              "<style scoped>\n",
              "    .dataframe tbody tr th:only-of-type {\n",
              "        vertical-align: middle;\n",
              "    }\n",
              "\n",
              "    .dataframe tbody tr th {\n",
              "        vertical-align: top;\n",
              "    }\n",
              "\n",
              "    .dataframe thead th {\n",
              "        text-align: right;\n",
              "    }\n",
              "</style>\n",
              "<table border=\"1\" class=\"dataframe\">\n",
              "  <thead>\n",
              "    <tr style=\"text-align: right;\">\n",
              "      <th></th>\n",
              "      <th>dropout_rate</th>\n",
              "      <th>learning_rate</th>\n",
              "      <th>weight_decay</th>\n",
              "      <th>validation_score</th>\n",
              "    </tr>\n",
              "  </thead>\n",
              "  <tbody>\n",
              "    <tr>\n",
              "      <th>6</th>\n",
              "      <td>0.1</td>\n",
              "      <td>0.010</td>\n",
              "      <td>0.7</td>\n",
              "      <td>37.051378</td>\n",
              "    </tr>\n",
              "    <tr>\n",
              "      <th>15</th>\n",
              "      <td>0.2</td>\n",
              "      <td>0.010</td>\n",
              "      <td>0.7</td>\n",
              "      <td>38.295660</td>\n",
              "    </tr>\n",
              "    <tr>\n",
              "      <th>26</th>\n",
              "      <td>0.3</td>\n",
              "      <td>0.010</td>\n",
              "      <td>0.9</td>\n",
              "      <td>38.387384</td>\n",
              "    </tr>\n",
              "    <tr>\n",
              "      <th>24</th>\n",
              "      <td>0.3</td>\n",
              "      <td>0.010</td>\n",
              "      <td>0.7</td>\n",
              "      <td>39.819125</td>\n",
              "    </tr>\n",
              "    <tr>\n",
              "      <th>7</th>\n",
              "      <td>0.1</td>\n",
              "      <td>0.010</td>\n",
              "      <td>0.8</td>\n",
              "      <td>40.286267</td>\n",
              "    </tr>\n",
              "    <tr>\n",
              "      <th>25</th>\n",
              "      <td>0.3</td>\n",
              "      <td>0.010</td>\n",
              "      <td>0.8</td>\n",
              "      <td>41.906365</td>\n",
              "    </tr>\n",
              "    <tr>\n",
              "      <th>8</th>\n",
              "      <td>0.1</td>\n",
              "      <td>0.010</td>\n",
              "      <td>0.9</td>\n",
              "      <td>42.197236</td>\n",
              "    </tr>\n",
              "    <tr>\n",
              "      <th>16</th>\n",
              "      <td>0.2</td>\n",
              "      <td>0.010</td>\n",
              "      <td>0.8</td>\n",
              "      <td>42.563753</td>\n",
              "    </tr>\n",
              "    <tr>\n",
              "      <th>17</th>\n",
              "      <td>0.2</td>\n",
              "      <td>0.010</td>\n",
              "      <td>0.9</td>\n",
              "      <td>44.084137</td>\n",
              "    </tr>\n",
              "    <tr>\n",
              "      <th>3</th>\n",
              "      <td>0.1</td>\n",
              "      <td>0.005</td>\n",
              "      <td>0.7</td>\n",
              "      <td>48.398124</td>\n",
              "    </tr>\n",
              "    <tr>\n",
              "      <th>21</th>\n",
              "      <td>0.3</td>\n",
              "      <td>0.005</td>\n",
              "      <td>0.7</td>\n",
              "      <td>49.359634</td>\n",
              "    </tr>\n",
              "    <tr>\n",
              "      <th>4</th>\n",
              "      <td>0.1</td>\n",
              "      <td>0.005</td>\n",
              "      <td>0.8</td>\n",
              "      <td>49.979911</td>\n",
              "    </tr>\n",
              "    <tr>\n",
              "      <th>12</th>\n",
              "      <td>0.2</td>\n",
              "      <td>0.005</td>\n",
              "      <td>0.7</td>\n",
              "      <td>50.416529</td>\n",
              "    </tr>\n",
              "    <tr>\n",
              "      <th>23</th>\n",
              "      <td>0.3</td>\n",
              "      <td>0.005</td>\n",
              "      <td>0.9</td>\n",
              "      <td>50.570622</td>\n",
              "    </tr>\n",
              "    <tr>\n",
              "      <th>14</th>\n",
              "      <td>0.2</td>\n",
              "      <td>0.005</td>\n",
              "      <td>0.9</td>\n",
              "      <td>50.939917</td>\n",
              "    </tr>\n",
              "    <tr>\n",
              "      <th>5</th>\n",
              "      <td>0.1</td>\n",
              "      <td>0.005</td>\n",
              "      <td>0.9</td>\n",
              "      <td>52.769339</td>\n",
              "    </tr>\n",
              "    <tr>\n",
              "      <th>22</th>\n",
              "      <td>0.3</td>\n",
              "      <td>0.005</td>\n",
              "      <td>0.8</td>\n",
              "      <td>52.817665</td>\n",
              "    </tr>\n",
              "    <tr>\n",
              "      <th>13</th>\n",
              "      <td>0.2</td>\n",
              "      <td>0.005</td>\n",
              "      <td>0.8</td>\n",
              "      <td>54.854525</td>\n",
              "    </tr>\n",
              "    <tr>\n",
              "      <th>19</th>\n",
              "      <td>0.3</td>\n",
              "      <td>0.001</td>\n",
              "      <td>0.8</td>\n",
              "      <td>146.624902</td>\n",
              "    </tr>\n",
              "    <tr>\n",
              "      <th>11</th>\n",
              "      <td>0.2</td>\n",
              "      <td>0.001</td>\n",
              "      <td>0.9</td>\n",
              "      <td>146.655509</td>\n",
              "    </tr>\n",
              "    <tr>\n",
              "      <th>10</th>\n",
              "      <td>0.2</td>\n",
              "      <td>0.001</td>\n",
              "      <td>0.8</td>\n",
              "      <td>147.324209</td>\n",
              "    </tr>\n",
              "    <tr>\n",
              "      <th>18</th>\n",
              "      <td>0.3</td>\n",
              "      <td>0.001</td>\n",
              "      <td>0.7</td>\n",
              "      <td>147.418099</td>\n",
              "    </tr>\n",
              "    <tr>\n",
              "      <th>2</th>\n",
              "      <td>0.1</td>\n",
              "      <td>0.001</td>\n",
              "      <td>0.9</td>\n",
              "      <td>147.836212</td>\n",
              "    </tr>\n",
              "    <tr>\n",
              "      <th>0</th>\n",
              "      <td>0.1</td>\n",
              "      <td>0.001</td>\n",
              "      <td>0.7</td>\n",
              "      <td>148.148104</td>\n",
              "    </tr>\n",
              "    <tr>\n",
              "      <th>9</th>\n",
              "      <td>0.2</td>\n",
              "      <td>0.001</td>\n",
              "      <td>0.7</td>\n",
              "      <td>149.294749</td>\n",
              "    </tr>\n",
              "    <tr>\n",
              "      <th>20</th>\n",
              "      <td>0.3</td>\n",
              "      <td>0.001</td>\n",
              "      <td>0.9</td>\n",
              "      <td>150.929488</td>\n",
              "    </tr>\n",
              "    <tr>\n",
              "      <th>1</th>\n",
              "      <td>0.1</td>\n",
              "      <td>0.001</td>\n",
              "      <td>0.8</td>\n",
              "      <td>156.671964</td>\n",
              "    </tr>\n",
              "  </tbody>\n",
              "</table>\n",
              "</div>"
            ],
            "text/plain": [
              "    dropout_rate  learning_rate  weight_decay  validation_score\n",
              "6            0.1          0.010           0.7         37.051378\n",
              "15           0.2          0.010           0.7         38.295660\n",
              "26           0.3          0.010           0.9         38.387384\n",
              "24           0.3          0.010           0.7         39.819125\n",
              "7            0.1          0.010           0.8         40.286267\n",
              "25           0.3          0.010           0.8         41.906365\n",
              "8            0.1          0.010           0.9         42.197236\n",
              "16           0.2          0.010           0.8         42.563753\n",
              "17           0.2          0.010           0.9         44.084137\n",
              "3            0.1          0.005           0.7         48.398124\n",
              "21           0.3          0.005           0.7         49.359634\n",
              "4            0.1          0.005           0.8         49.979911\n",
              "12           0.2          0.005           0.7         50.416529\n",
              "23           0.3          0.005           0.9         50.570622\n",
              "14           0.2          0.005           0.9         50.939917\n",
              "5            0.1          0.005           0.9         52.769339\n",
              "22           0.3          0.005           0.8         52.817665\n",
              "13           0.2          0.005           0.8         54.854525\n",
              "19           0.3          0.001           0.8        146.624902\n",
              "11           0.2          0.001           0.9        146.655509\n",
              "10           0.2          0.001           0.8        147.324209\n",
              "18           0.3          0.001           0.7        147.418099\n",
              "2            0.1          0.001           0.9        147.836212\n",
              "0            0.1          0.001           0.7        148.148104\n",
              "9            0.2          0.001           0.7        149.294749\n",
              "20           0.3          0.001           0.9        150.929488\n",
              "1            0.1          0.001           0.8        156.671964"
            ]
          },
          "execution_count": 11,
          "metadata": {},
          "output_type": "execute_result"
        }
      ],
      "source": [
        "cols = [*keys, \"validation_score\"]\n",
        "hpo_df = pd.DataFrame(hpo_results, columns=cols)\n",
        "hpo_sorted_df = hpo_df.sort_values(by=\"validation_score\")  # sort validation socre in ascending order because we used mean squared error\n",
        "hpo_sorted_df\n",
        "\n",
        "# Lower validation score is better\n",
        "# In our search space, the top row of dataframe is the best hyperparameter combination"
      ]
    },
    {
      "cell_type": "markdown",
      "metadata": {
        "id": "b--FifHX2CLh"
      },
      "source": [
        "# Train and Test model with best hyperparameter setting"
      ]
    },
    {
      "cell_type": "markdown",
      "metadata": {
        "id": "7GoO0rvY2Gqv"
      },
      "source": [
        "## Train model with best hyperparameter using full training dataset without $K$-fold"
      ]
    },
    {
      "cell_type": "code",
      "execution_count": 12,
      "metadata": {
        "id": "Em7sd0NGg7-k"
      },
      "outputs": [],
      "source": [
        "import matplotlib.pyplot as plt\n",
        "%matplotlib inline\n",
        "\n",
        "from IPython.display import clear_output"
      ]
    },
    {
      "cell_type": "code",
      "execution_count": 13,
      "metadata": {
        "id": "fTwA5nl3fQ9r"
      },
      "outputs": [],
      "source": [
        "# function for plotting loss\n",
        "def plot_loss(loss_list):\n",
        "    clear_output(True) # clear output in executing cell\n",
        "    plt.figure(figsize=(5, 5))\n",
        "    plt.ylabel(\"Train Loss\")\n",
        "    plt.xlabel(\"Epochs\")\n",
        "    plt.plot(loss_list)\n",
        "    plt.show()"
      ]
    },
    {
      "cell_type": "code",
      "execution_count": 14,
      "metadata": {
        "colab": {
          "base_uri": "https://localhost:8080/",
          "height": 334
        },
        "id": "ZuTeMpkq2K-L",
        "outputId": "18cc1958-3a51-439b-abee-80b20b874f2e"
      },
      "outputs": [
        {
          "data": {
            "image/png": "[encoded data removed]",
            "text/plain": [
              "<Figure size 500x500 with 1 Axes>"
            ]
          },
          "metadata": {},
          "output_type": "display_data"
        }
      ],
      "source": [
        "# training hyperparameters\n",
        "batch_size = 32\n",
        "num_epochs = 100\n",
        "\n",
        "# Use best hyperparameter setting, The top row of dataframe is the best hyperparameter\n",
        "learning_rate = hpo_sorted_df.iloc[0].learning_rate\n",
        "weight_decay = hpo_sorted_df.iloc[0].weight_decay\n",
        "dropout_rate = hpo_sorted_df.iloc[0].dropout_rate\n",
        "\n",
        "model_with_hpo = MLP(n_features, n_hidden, n_output, dropout_rate).to(device)\n",
        "optimizer = torch.optim.Adam(model_with_hpo.parameters(), lr=learning_rate, weight_decay=weight_decay)\n",
        "criterion = nn.MSELoss() # using Mean Squared Error\n",
        "\n",
        "# use full training dataset without K-fold\n",
        "train_dataloader = DataLoader(train_dataset, batch_size=batch_size, shuffle=True)\n",
        "\n",
        "train_logs = []\n",
        "\n",
        "model_with_hpo.train()\n",
        "for epoch in range(num_epochs):\n",
        "    train_loss = 0.\n",
        "    for i, (inputs, targets) in enumerate(train_dataloader):\n",
        "        inputs, targets = inputs.to(device), targets.to(device)\n",
        "\n",
        "        optimizer.zero_grad()\n",
        "\n",
        "        y_pred = model_with_hpo(inputs)\n",
        "\n",
        "        loss = criterion(y_pred, targets)\n",
        "        loss.backward()\n",
        "        optimizer.step()\n",
        "\n",
        "        train_loss += loss.item() * inputs.shape[0]\n",
        "\n",
        "    train_logs.append(train_loss / len(train_dataset))\n",
        "    \n",
        "    if epoch % 10 == 0:\n",
        "        plot_loss(train_logs)\n",
        "        "
      ]
    },
    {
      "cell_type": "code",
      "execution_count": 15,
      "metadata": {
        "colab": {
          "base_uri": "https://localhost:8080/"
        },
        "id": "Q3MpdrsAXtLl",
        "outputId": "62666e25-b038-4e09-ef52-85a826e62107"
      },
      "outputs": [
        {
          "data": {
            "text/plain": [
              "(16.078529631737435, 13.513033309785447)"
            ]
          },
          "execution_count": 15,
          "metadata": {},
          "output_type": "execute_result"
        }
      ],
      "source": [
        "train_logs[-1], np.array(train_logs).min()"
      ]
    },
    {
      "cell_type": "markdown",
      "metadata": {
        "id": "n1iSnBou2Gnf"
      },
      "source": [
        "## Test model with best hyperparameter"
      ]
    },
    {
      "cell_type": "code",
      "execution_count": 16,
      "metadata": {
        "colab": {
          "base_uri": "https://localhost:8080/"
        },
        "id": "icmjnbgF2Lfm",
        "outputId": "239d68c0-ec43-415f-a70b-bbdebcfb2286"
      },
      "outputs": [
        {
          "name": "stdout",
          "output_type": "stream",
          "text": [
            "average test log mse = 20.19969424079446\n"
          ]
        }
      ],
      "source": [
        "test_logs = []\n",
        "test_dataloader = DataLoader(test_dataset, batch_size=batch_size, shuffle=False)\n",
        "\n",
        "criterion = nn.MSELoss(reduction='sum') # sum loss using Mean Squared Error\n",
        "\n",
        "model_with_hpo.eval()\n",
        "with torch.no_grad():\n",
        "    for i, (inputs, targets) in enumerate(test_dataloader):\n",
        "        inputs, targets = inputs.to(device), targets.to(device)\n",
        "        y_pred = model_with_hpo(inputs)\n",
        "        test_logs.append(criterion(y_pred, targets).item())\n",
        "\n",
        "print(f'average test log mse = {sum(test_logs)/ len(test_dataset)}')"
      ]
    },
    {
      "cell_type": "markdown",
      "metadata": {
        "id": "GL-DlCXu6gnC"
      },
      "source": [
        "# References\n",
        "- https://scikit-learn.org/stable/modules/generated/sklearn.datasets.load_boston.html\n",
        "- https://pytorch.org/tutorials/beginner/basics/data_tutorial.html\n",
        "- https://pytorch.org/tutorials/beginner/data_loading_tutorial.html\n",
        "- https://github.com/scikit-learn/scikit-learn/blob/36958fb24/sklearn/model_selection/_search.py#L1021\n",
        "- https://towardsdatascience.com/extending-pytorch-with-custom-activation-functions-2d8b065ef2fa\n",
        "- https://pytorch.org/docs/stable/notes/extending.html"
      ]
    },
    {
      "cell_type": "markdown",
      "metadata": {
        "id": "d1nALDNewqHW"
      },
      "source": [
        "# Test part\n",
        "***Do not change*** this part and ***Do not add*** cell below this part<br>\n",
        "- This part is not for students\n",
        "- Do not use & add below cell"
      ]
    },
    {
      "cell_type": "code",
      "execution_count": 17,
      "metadata": {
        "colab": {
          "base_uri": "https://localhost:8080/"
        },
        "id": "cOc667_fvKt2",
        "outputId": "be8fb297-8c9f-4af6-fc8b-0e7432ad9cd2"
      },
      "outputs": [
        {
          "name": "stderr",
          "output_type": "stream",
          "text": [
            "/home/elkhan/anaconda3/envs/pdl/lib/python3.9/site-packages/torch/autograd/gradcheck.py:652: UserWarning: Input #0 requires gradient and is not a double precision floating point or complex. This check will likely fail if all the inputs are not of double precision floating point or complex. \n",
            "  warnings.warn(\n"
          ]
        }
      ],
      "source": [
        "from torch.autograd import gradcheck\n",
        "\n",
        "input = (torch.rand(32, 13, dtype=torch.float, requires_grad=True)).to(device)\n",
        "\n",
        "test = gradcheck(model_with_hpo, input, eps=1e-3, atol=1e-2)"
      ]
    },
    {
      "cell_type": "code",
      "execution_count": 18,
      "metadata": {
        "colab": {
          "base_uri": "https://localhost:8080/"
        },
        "id": "UVphOEKQwb1U",
        "outputId": "6e8345f5-d020-458f-afd8-67116029fa02"
      },
      "outputs": [
        {
          "name": "stdout",
          "output_type": "stream",
          "text": [
            "True\n"
          ]
        }
      ],
      "source": [
        "print(test)"
      ]
    },
    {
      "cell_type": "code",
      "execution_count": 19,
      "metadata": {
        "colab": {
          "base_uri": "https://localhost:8080/"
        },
        "id": "4tbP_QJEw32O",
        "outputId": "09bc42ce-9771-4bf2-ae89-7548f0ca2b7f"
      },
      "outputs": [
        {
          "name": "stdout",
          "output_type": "stream",
          "text": [
            "20.19969424079446\n"
          ]
        }
      ],
      "source": [
        "print(sum(test_logs)/ len(test_dataset))"
      ]
    },
    {
      "cell_type": "code",
      "execution_count": 20,
      "metadata": {
        "colab": {
          "base_uri": "https://localhost:8080/"
        },
        "id": "dBFs_cHUa-_Y",
        "outputId": "1abb33af-e85c-42e2-ca51-b827c206d1c0"
      },
      "outputs": [
        {
          "name": "stdout",
          "output_type": "stream",
          "text": [
            "True\n"
          ]
        }
      ],
      "source": [
        "k_test = 5\n",
        "k_fold_test = k_fold_data(input, k_test)\n",
        "\n",
        "check = True\n",
        "\n",
        "if len(k_fold_test) != k_test:    \n",
        "    check = False\n",
        "else:\n",
        "    for fold in k_fold_test:\n",
        "        if len(fold[1]) != (input.shape[0] // k_test):\n",
        "            check = False\n",
        "            break\n",
        "\n",
        "print(check)"
      ]
    }
  ],
  "metadata": {
    "accelerator": "GPU",
    "colab": {
      "collapsed_sections": [],
      "provenance": []
    },
    "gpuClass": "standard",
    "kernelspec": {
      "display_name": "Python 3.9.10 ('pdl')",
      "language": "python",
      "name": "python3"
    },
    "language_info": {
      "codemirror_mode": {
        "name": "ipython",
        "version": 3
      },
      "file_extension": ".py",
      "mimetype": "text/x-python",
      "name": "python",
      "nbconvert_exporter": "python",
      "pygments_lexer": "ipython3",
      "version": "3.9.10"
    },
    "vscode": {
      "interpreter": {
        "hash": "d19aa5a20e88fe80248d4b0c2d7d27a7c9d54896ad8b5c06765854ce70c72cb9"
      }
    }
  },
  "nbformat": 4,
  "nbformat_minor": 0
}
