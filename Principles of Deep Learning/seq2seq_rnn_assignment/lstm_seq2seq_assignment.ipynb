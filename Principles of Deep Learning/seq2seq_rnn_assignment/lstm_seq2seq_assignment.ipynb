{
  "cells": [
    {
      "cell_type": "markdown",
      "metadata": {
        "colab_type": "text",
        "id": "view-in-github"
      },
      "source": [
        "<a href=\"https://colab.research.google.com/github/UNIST-LIM-Lab-course/seq2seq_rnn/blob/main/lstm_seq2seq_assignment.ipynb\" target=\"_parent\"><img src=\"https://colab.research.google.com/assets/colab-badge.svg\" alt=\"Open In Colab\"/></a>"
      ]
    },
    {
      "cell_type": "markdown",
      "metadata": {
        "id": "Vny1PKkek6-f"
      },
      "source": [
        "# Building seq2seq rnn using LSTM\n",
        "The task objective is to code seq2seq model using LSTM.\n",
        "\n",
        "* An assignment part is denoted by (Assingment) \n",
        "\n",
        "* Grading criteria: Points are given if all your code in this notebook is runnable and the final ppl is lower than 200\n",
        "\n",
        "* Points are not given if the testing cell at the end of the notebook is modified or extra cells (including text) are added after the last cell. Do not change N_EPOCHS for testing efficiently.\n",
        "\n",
        "* Testing your model with the testing cell is recommended. \n",
        "\n",
        "* Please do not re-use the code from the example code. You have to write the code yourself."
      ]
    },
    {
      "cell_type": "markdown",
      "metadata": {
        "id": "UVoNqEeJJdLQ"
      },
      "source": [
        "## Assignment List\n",
        "\n",
        "\n",
        "(Assignment) 2.1 Make LSTM scratch \n",
        "\n",
        "(Assignment) 2.3 Make Encoder\n",
        "\n",
        "(Assignment) 2.4 Make Decoder \n",
        "\n",
        "(Assignment) 2.5 Make Seq2seq\n",
        "\n",
        "(Assignment) 3.1 Train your model "
      ]
    },
    {
      "cell_type": "markdown",
      "metadata": {
        "id": "wV6kpDHatJfu"
      },
      "source": [
        "#1. Preparing Data"
      ]
    },
    {
      "cell_type": "markdown",
      "metadata": {
        "id": "JFLIcg_hwsQX"
      },
      "source": [
        "##1.1. Upload dataset"
      ]
    },
    {
      "cell_type": "code",
      "execution_count": 1,
      "metadata": {
        "colab": {
          "base_uri": "https://localhost:8080/"
        },
        "id": "shuEMr65t-qg",
        "outputId": "b40f8a3a-ee56-43d0-b7c2-dc6e61130464"
      },
      "outputs": [
        {
          "name": "stdout",
          "output_type": "stream",
          "text": [
            "Requirement already satisfied: torchtext==0.10.0 in /home/elkhan/anaconda3/envs/pdl/lib/python3.9/site-packages (0.10.0)\n",
            "Requirement already satisfied: requests in /home/elkhan/anaconda3/envs/pdl/lib/python3.9/site-packages (from torchtext==0.10.0) (2.25.1)\n",
            "Requirement already satisfied: tqdm in /home/elkhan/anaconda3/envs/pdl/lib/python3.9/site-packages (from torchtext==0.10.0) (4.64.1)\n",
            "Requirement already satisfied: numpy in /home/elkhan/anaconda3/envs/pdl/lib/python3.9/site-packages (from torchtext==0.10.0) (1.21.4)\n",
            "Requirement already satisfied: torch==1.9.0 in /home/elkhan/anaconda3/envs/pdl/lib/python3.9/site-packages (from torchtext==0.10.0) (1.9.0)\n",
            "Requirement already satisfied: typing-extensions in /home/elkhan/anaconda3/envs/pdl/lib/python3.9/site-packages (from torch==1.9.0->torchtext==0.10.0) (4.4.0)\n",
            "Requirement already satisfied: urllib3<1.27,>=1.21.1 in /home/elkhan/anaconda3/envs/pdl/lib/python3.9/site-packages (from requests->torchtext==0.10.0) (1.26.8)\n",
            "Requirement already satisfied: idna<3,>=2.5 in /home/elkhan/anaconda3/envs/pdl/lib/python3.9/site-packages (from requests->torchtext==0.10.0) (2.10)\n",
            "Requirement already satisfied: certifi>=2017.4.17 in /home/elkhan/anaconda3/envs/pdl/lib/python3.9/site-packages (from requests->torchtext==0.10.0) (2022.6.15)\n",
            "Requirement already satisfied: chardet<5,>=3.0.2 in /home/elkhan/anaconda3/envs/pdl/lib/python3.9/site-packages (from requests->torchtext==0.10.0) (4.0.0)\n",
            "Note: you may need to restart the kernel to use updated packages.\n"
          ]
        }
      ],
      "source": [
        "pip install torchtext==0.10.0\n"
      ]
    },
    {
      "cell_type": "code",
      "execution_count": 2,
      "metadata": {
        "id": "iFe01FdCtIya"
      },
      "outputs": [],
      "source": [
        "import torch\n",
        "import torch.nn as nn\n",
        "import torch.optim as optim\n",
        "\n",
        "from torchtext.legacy.datasets import Multi30k\n",
        "from torchtext.legacy.data import Field, BucketIterator\n",
        "\n",
        "import spacy\n",
        "import numpy as np\n",
        "\n",
        "import random\n",
        "import math\n",
        "import time\n"
      ]
    },
    {
      "cell_type": "markdown",
      "metadata": {
        "id": "IrvJvZwLLhAe"
      },
      "source": [
        "## 1.2 pre-processing "
      ]
    },
    {
      "cell_type": "code",
      "execution_count": 3,
      "metadata": {
        "id": "6hUSdA-atNhk"
      },
      "outputs": [],
      "source": [
        "\n",
        "from spacy.lang.en import English\n",
        "from spacy.lang.de import German\n",
        "\n",
        "\n",
        "spacy_en=English()\n",
        "spacy_de=German()\n",
        "\n",
        "def tokenize_de(text):\n",
        "\n",
        "    return [tok.text for tok in spacy_de.tokenizer(text)][::-1]\n",
        "\n",
        "def tokenize_en(text):\n",
        "\n",
        "    return [tok.text for tok in spacy_en.tokenizer(text)]\n",
        "  \n",
        "\n",
        "SRC = Field(tokenize = tokenize_de, \n",
        "            init_token = '<sos>', \n",
        "            eos_token = '<eos>', \n",
        "            lower = True)\n",
        "\n",
        "TRG = Field(tokenize = tokenize_en, \n",
        "            init_token = '<sos>', \n",
        "            eos_token = '<eos>', \n",
        "            lower = True)\n",
        "\n",
        "train_data, valid_data, test_data = Multi30k.splits(exts = ('.de', '.en'), \n",
        "                                                    fields = (SRC, TRG))\n",
        "\n",
        "SRC.build_vocab(train_data, min_freq = 2)\n",
        "TRG.build_vocab(train_data, min_freq = 2)"
      ]
    },
    {
      "cell_type": "markdown",
      "metadata": {
        "id": "gPXkpwEayn91"
      },
      "source": [
        "\n",
        " \n",
        "* sos: start of sequence\n",
        "* eos: end of sequence \n",
        "* German: SRC(source)\n",
        "* English: TRG(target)\n",
        "* Multi30k datase is a dataset with ~30,000 parallel English, Genrman and French sentences, each with ~12 workds per sentence\n",
        "* exts specifies which languages to use as the source and target (source goes first) \n",
        "* fields specifies which field to use for the source and target.\n",
        "\n",
        "\n",
        "\n"
      ]
    },
    {
      "cell_type": "markdown",
      "metadata": {
        "id": "oIEiDN5TFYZd"
      },
      "source": [
        "##1.3 Check whether gpu is avaliable "
      ]
    },
    {
      "cell_type": "code",
      "execution_count": 4,
      "metadata": {
        "id": "uJQXGHGKtdjC"
      },
      "outputs": [],
      "source": [
        "device = torch.device('cuda' if torch.cuda.is_available() else 'cpu')"
      ]
    },
    {
      "cell_type": "markdown",
      "metadata": {
        "id": "i2SKhc6ZLlN8"
      },
      "source": [
        "## 1.4 Define train/ validation /test datset "
      ]
    },
    {
      "cell_type": "code",
      "execution_count": 5,
      "metadata": {
        "id": "jqKRG5mltf2v"
      },
      "outputs": [],
      "source": [
        "BATCH_SIZE = 128\n",
        "\n",
        "train_iterator, valid_iterator, test_iterator = BucketIterator.splits(\n",
        "    (train_data, valid_data, test_data), \n",
        "    batch_size = BATCH_SIZE, \n",
        "    device = device)"
      ]
    },
    {
      "cell_type": "markdown",
      "metadata": {
        "id": "XJJo3e3f27-6"
      },
      "source": [
        "#2. Implement RNN Model\n"
      ]
    },
    {
      "cell_type": "markdown",
      "metadata": {
        "id": "vS49ZLUR3BAW"
      },
      "source": [
        "#(Assignment) 2.1 Make LSTM scratch \n",
        "\n"
      ]
    },
    {
      "cell_type": "code",
      "execution_count": 6,
      "metadata": {
        "id": "6mahWMiq3Par"
      },
      "outputs": [],
      "source": [
        "import torch\n",
        "from torch import nn\n",
        "\n",
        "\n",
        "class LSTM(nn.Module):\n",
        "  def __init__(self, emb_dim, hid_dim, sigma=0.01):\n",
        "    super().__init__()\n",
        "    \n",
        "    init_weight= lambda *shape: nn.Parameter(torch.randn(*shape)*sigma)\n",
        "    \n",
        "    triple = lambda: (init_weight(emb_dim, hid_dim,),\n",
        "                      init_weight(hid_dim,hid_dim),\n",
        "                      nn.Parameter(torch.zeros(hid_dim)))\n",
        "    \n",
        "    self.W_xi, self.W_hi, self.b_i = triple() #input gate\n",
        "    self.W_xf, self.W_hf, self.b_f = triple() #forget gate\n",
        "    self.W_xo, self.W_ho, self.b_o = triple() #output gate \n",
        "    self.W_xc, self.W_hc, self.b_c = triple() #candidate memory cell\n",
        "    self.sigmoid = nn.Sigmoid()\n",
        "    self.tanh = nn.Tanh()\n",
        "    self.hid_dim = hid_dim\n",
        "  def forward(self, inputs, H_C=None):\n",
        "    sequence_ln, batch_ln, _ = inputs.size()\n",
        "    output = None\n",
        "    if not H_C:\n",
        "      H = torch.zeros(batch_ln, self.hid_dim)\n",
        "      C = torch.zeros(batch_ln, self.hid_dim)\n",
        "    else:\n",
        "      H, C = H_C\n",
        "    for t in range(sequence_ln):\n",
        "      input = inputs[t, :, :]\n",
        "      C_tilde = self.tanh(torch.matmul(input,self.W_xc)+torch.matmul(H,self.W_hc)+self.b_c)\n",
        "      input_gate = self.sigmoid(torch.matmul(input, self.W_xi)+ torch.matmul(H, self.W_hi)+self.b_i)\n",
        "      forget_gate = self.sigmoid(torch.matmul(input, self.W_xf)+ torch.matmul(H, self.W_hf)+self.b_f)\n",
        "      output_t = self.sigmoid(torch.matmul(input, self.W_xo)+ torch.matmul(H, self.W_ho)+self.b_o)\n",
        "      C = torch.mul(forget_gate, C)+torch.mul(input_gate, C_tilde)\n",
        "      H = torch.mul(output_t, self.tanh(C))\n",
        "      if output is not None:\n",
        "        output = torch.cat((output, H),0)\n",
        "      else:\n",
        "        output = H\n",
        "    return output, (H, C)"
      ]
    },
    {
      "cell_type": "markdown",
      "metadata": {
        "id": "AWBa7gvq_pIa"
      },
      "source": [
        "## 2.2 Check your LSTM"
      ]
    },
    {
      "cell_type": "code",
      "execution_count": 7,
      "metadata": {
        "colab": {
          "base_uri": "https://localhost:8080/"
        },
        "id": "bHZbpPTk_WjD",
        "outputId": "1614c54a-ba22-46e3-83d1-3fdb2b053920"
      },
      "outputs": [
        {
          "name": "stdout",
          "output_type": "stream",
          "text": [
            "torch.Size([5, 3, 20]) \n",
            " torch.Size([1, 3, 20]) \n",
            " torch.Size([1, 3, 20])\n"
          ]
        }
      ],
      "source": [
        "# nn.LSTM \n",
        "rnn = LSTM(10,20) # input_size= 10, hidden_size = 20\n",
        "\n",
        "input = torch.randn(5,3,10) # sequence length=5, batch_size=3, input_size = 10 \n",
        "\n",
        "# Initial hidden state and memery cell \n",
        "h_0 = torch.randn(1,3,20)\n",
        "c_0 = torch.randn(1,3,20)\n",
        "\n",
        "output, (hn, cn) = rnn(input, (h_0, c_0))\n",
        "\n",
        "# tensor, tuple object\n",
        "\n",
        "print(output.shape, '\\n', hn.shape, '\\n', cn.shape)\n"
      ]
    },
    {
      "cell_type": "markdown",
      "metadata": {
        "id": "E_OT1dGx3oIR"
      },
      "source": [
        "## (Assignment) 2.3. Make Encoder\n",
        "\n",
        "\n",
        "* src = [src len, batch size]\n",
        "* embedded = [src len, batch size, emb dim]\n",
        "* outputs = [src len, batch size, hid dim ]\n",
        "* hidden = [1, batch size, hid dim]\n",
        "* cell = [1, batch size, hid dim]\n",
        "        "
      ]
    },
    {
      "cell_type": "code",
      "execution_count": 8,
      "metadata": {
        "id": "sOo6BZ7rthtO"
      },
      "outputs": [],
      "source": [
        "class Encoder(nn.Module):\n",
        "    def __init__(self, input_dim, emb_dim, hid_dim, dropout):\n",
        "        super().__init__()\n",
        "        \n",
        "        self.hid_dim = hid_dim\n",
        "        \n",
        "        self.embedding = nn.Embedding(input_dim, emb_dim)\n",
        "        \n",
        "        self.rnn = nn.LSTM(emb_dim, hid_dim, dropout = dropout)\n",
        "        \n",
        "        self.dropout = nn.Dropout(dropout)\n",
        "        \n",
        "    def forward(self, src):\n",
        "        \n",
        "        #src = [src len, batch size]\n",
        "                \n",
        "        #embedded = [src len, batch size, emb dim]\n",
        "        embedded = self.dropout(self.embedding(src))\n",
        "        \n",
        "        #outputs = [src len, batch size, hid dim * n directions]\n",
        "        #hidden = [n layers * n directions, batch size, hid dim]\n",
        "        #cell = [n layers * n directions, batch size, hid dim]\n",
        "        outputs, (hidden, cell) = self.rnn(embedded)\n",
        "        #outputs are always from the top hidden layer\n",
        "        \n",
        "        return hidden, cell"
      ]
    },
    {
      "cell_type": "markdown",
      "metadata": {
        "id": "w7VW95ZW3z09"
      },
      "source": [
        "## (Assignment) 2.4. Make Decoder "
      ]
    },
    {
      "cell_type": "code",
      "execution_count": 9,
      "metadata": {
        "id": "heIidIxQtlcR"
      },
      "outputs": [],
      "source": [
        "class Decoder(nn.Module):\n",
        "    def __init__(self, output_dim, emb_dim, hid_dim, dropout):\n",
        "        super().__init__()\n",
        "        \n",
        "        self.output_dim = output_dim\n",
        "        self.hid_dim = hid_dim\n",
        "  \n",
        "        \n",
        "        self.embedding = nn.Embedding(output_dim, emb_dim)\n",
        "        \n",
        "        self.rnn = nn.LSTM(emb_dim, hid_dim)\n",
        "        \n",
        "        self.fc_out = nn.Linear(hid_dim, output_dim)\n",
        "        \n",
        "        self.dropout = nn.Dropout(dropout)\n",
        "        \n",
        "    def forward(self, input, hidden, cell):\n",
        "        \n",
        "        #input = [batch size]\n",
        "        #hidden = [batch size, hid dim]\n",
        "        #cell = [batch size, hid dim]\n",
        "        \n",
        "        #n directions in the decoder will both always be 1, therefore:\n",
        "        #hidden = [batch size, hid dim]\n",
        "        #context = [n layers, batch size, hid dim]\n",
        "\n",
        "        input = input.unsqueeze(0)\n",
        "        \n",
        "        #input = [1, batch size]\n",
        "        \n",
        "        embedded = self.dropout(self.embedding(input))\n",
        "\n",
        "        #embedded = [1, batch size, emb dim]\n",
        "                \n",
        "        output, (hidden, cell) = self.rnn(embedded, (hidden, cell))\n",
        "        \n",
        "        #output = [seq len, batch size, hid dim * n directions]\n",
        "        #hidden = [1, batch size, hid dim]\n",
        "        #cell = [1, batch size, hid dim]\n",
        "        \n",
        "        #seq len and n directions will always be 1 in the decoder, therefore:\n",
        "        #output = [1, batch size, hid dim]\n",
        "        #hidden = [1, batch size, hid dim]\n",
        "        #cell = [1, batch size, hid dim]\n",
        "        \n",
        "        prediction = self.fc_out(output.squeeze(0))\n",
        "       \n",
        "        \n",
        "        #prediction = [batch size, output dim]\n",
        "        \n",
        "        return prediction, hidden, cell"
      ]
    },
    {
      "cell_type": "markdown",
      "metadata": {
        "id": "xZFTFXE53_WG"
      },
      "source": [
        "##(Assignment) 2.5 Make Seq2seq"
      ]
    },
    {
      "cell_type": "code",
      "execution_count": 10,
      "metadata": {
        "id": "dbsPvGJ5tnmU"
      },
      "outputs": [],
      "source": [
        "class Seq2Seq(nn.Module):\n",
        "    def __init__(self, encoder, decoder, device):\n",
        "        super().__init__()\n",
        "        \n",
        "        self.encoder = encoder\n",
        "        self.decoder = decoder\n",
        "        self.device = device\n",
        "        \n",
        "    def forward(self, src, trg, teacher_forcing_ratio = 0.5):\n",
        "        \n",
        "        #src = [src len, batch size]\n",
        "        #trg = [trg len, batch size]\n",
        "        #teacher_forcing_ratio is probability to use teacher forcing\n",
        "        #e.g. if teacher_forcing_ratio is 0.75 we use ground-truth inputs 75% of the time\n",
        "        \n",
        "        target_vc_sz = self.decoder.output_dim\n",
        "        target_ln, batch_sz = trg.shape\n",
        "\n",
        "        \n",
        "        #tensor to store decoder outputs\n",
        "        outputs = torch.zeros(target_ln, batch_sz, target_vc_sz).to(self.device)\n",
        "        \n",
        "        #last hidden state of the encoder is used as the initial hidden state of the decoder\n",
        "        hidden, cell = self.encoder(src)\n",
        "        #first input to the decoder is the <sos> tokens\n",
        "        input = trg[0,:]\n",
        "        \n",
        "        for t in range(1, target_ln):\n",
        "            \n",
        "            #insert input token embedding, previous hidden and previous cell states\n",
        "            #receive output tensor (predictions) and new hidden and cell states\n",
        "            output, hidden, cell = self.decoder(input, hidden, cell)\n",
        "            \n",
        "            #place predictions in a tensor holding predictions for each token\n",
        "            outputs[t] = output\n",
        "            #decide if we are going to use teacher forcing or not\n",
        "            teacher_force = random.random() < teacher_forcing_ratio\n",
        "            \n",
        "            #get the highest predicted token from our predictions\n",
        "            top1 = output.argmax(1)\n",
        "            \n",
        "            #if teacher forcing, use actual next token as next input\n",
        "            #if not, use predicted token\n",
        "            input = trg[t] if teacher_force else top1\n",
        "        \n",
        "        return outputs"
      ]
    },
    {
      "cell_type": "markdown",
      "metadata": {
        "id": "cLfcDqUEImNF"
      },
      "source": [
        "## 2.6 Define seq2seq Model"
      ]
    },
    {
      "cell_type": "code",
      "execution_count": 11,
      "metadata": {
        "colab": {
          "base_uri": "https://localhost:8080/"
        },
        "id": "qTNkj-fStqet",
        "outputId": "768a6f06-eac7-4488-aa7e-c7375a5f5231"
      },
      "outputs": [
        {
          "name": "stderr",
          "output_type": "stream",
          "text": [
            "/home/elkhan/anaconda3/envs/pdl/lib/python3.9/site-packages/torch/nn/modules/rnn.py:62: UserWarning: dropout option adds dropout after all but last recurrent layer, so non-zero dropout expects num_layers greater than 1, but got dropout=0.5 and num_layers=1\n",
            "  warnings.warn(\"dropout option adds dropout after all but last \"\n"
          ]
        },
        {
          "name": "stdout",
          "output_type": "stream",
          "text": [
            "hidden and cell shape: torch.Size([1, 3, 256]) torch.Size([1, 3, 256])\n"
          ]
        }
      ],
      "source": [
        "INPUT_DIM = len(SRC.vocab)\n",
        "OUTPUT_DIM = len(TRG.vocab)\n",
        "ENC_EMB_DIM = 256\n",
        "DEC_EMB_DIM = 256\n",
        "HID_DIM = 256\n",
        "ENC_DROPOUT = 0.5\n",
        "DEC_DROPOUT = 0.5\n",
        "\n",
        "\n",
        "\n",
        "input = torch.randint(0,3,(5,3)) #sequence length=5, batch_size=3 \n",
        "enc = Encoder(INPUT_DIM, ENC_EMB_DIM, HID_DIM,  ENC_DROPOUT)\n",
        "hidden, cell = enc(input)\n",
        "print('hidden and cell shape:', hidden.shape, cell.shape)\n",
        "\n",
        "\n",
        "# Initial hidden state and memery cell \n",
        "h_0 = torch.randn(1,3,20)\n",
        "c_0 = torch.randn(1,3,20)\n",
        "input = torch.Tensor([0,1,2])\n",
        "dec = Decoder(OUTPUT_DIM, DEC_EMB_DIM, HID_DIM,  DEC_DROPOUT)\n",
        "\n",
        "\n",
        "\n",
        "model = Seq2Seq(enc, dec, device).to(device)"
      ]
    },
    {
      "cell_type": "code",
      "execution_count": 12,
      "metadata": {
        "colab": {
          "base_uri": "https://localhost:8080/"
        },
        "id": "Hrw7mdZptskz",
        "outputId": "6258bfad-150c-400c-af1c-6de41ab4a91f"
      },
      "outputs": [
        {
          "data": {
            "text/plain": [
              "Seq2Seq(\n",
              "  (encoder): Encoder(\n",
              "    (embedding): Embedding(7853, 256)\n",
              "    (rnn): LSTM(256, 256, dropout=0.5)\n",
              "    (dropout): Dropout(p=0.5, inplace=False)\n",
              "  )\n",
              "  (decoder): Decoder(\n",
              "    (embedding): Embedding(5893, 256)\n",
              "    (rnn): LSTM(256, 256)\n",
              "    (fc_out): Linear(in_features=256, out_features=5893, bias=True)\n",
              "    (dropout): Dropout(p=0.5, inplace=False)\n",
              "  )\n",
              ")"
            ]
          },
          "execution_count": 12,
          "metadata": {},
          "output_type": "execute_result"
        }
      ],
      "source": [
        "def init_weights(m):\n",
        "    for name, param in m.named_parameters():\n",
        "        nn.init.uniform_(param.data, -0.08, 0.08)\n",
        "        \n",
        "model.apply(init_weights)"
      ]
    },
    {
      "cell_type": "code",
      "execution_count": 13,
      "metadata": {
        "colab": {
          "base_uri": "https://localhost:8080/"
        },
        "id": "Aogo7QgStuDH",
        "outputId": "f0ed2e12-de9d-4ba2-e022-c80fa89a90e9"
      },
      "outputs": [
        {
          "name": "stdout",
          "output_type": "stream",
          "text": [
            "The model has 6,086,149 trainable parameters\n"
          ]
        }
      ],
      "source": [
        "def count_parameters(model):\n",
        "    return sum(p.numel() for p in model.parameters() if p.requires_grad)\n",
        "\n",
        "print(f'The model has {count_parameters(model):,} trainable parameters')"
      ]
    },
    {
      "cell_type": "markdown",
      "metadata": {
        "id": "rIYxVpDK1A7_"
      },
      "source": [
        "# 3. Training step "
      ]
    },
    {
      "cell_type": "markdown",
      "metadata": {
        "id": "g2B7r1iBItJj"
      },
      "source": [
        "##(Assignment) 3.1 Train your model \n",
        "* Use gradient clipping "
      ]
    },
    {
      "cell_type": "code",
      "execution_count": 14,
      "metadata": {
        "id": "xhA_F99stvey"
      },
      "outputs": [],
      "source": [
        "optimizer = optim.Adam(model.parameters())\n",
        "TRG_PAD_IDX = TRG.vocab.stoi[TRG.pad_token]\n",
        "\n",
        "criterion = nn.CrossEntropyLoss(ignore_index = TRG_PAD_IDX)"
      ]
    },
    {
      "cell_type": "code",
      "execution_count": 15,
      "metadata": {
        "id": "PI_Jq_PUtyEI"
      },
      "outputs": [],
      "source": [
        "def train(model, iterator, optimizer, criterion, clip):\n",
        "    \n",
        "    model.train()\n",
        "    \n",
        "    epoch_loss = 0\n",
        "    \n",
        "    for i, batch in enumerate(iterator):\n",
        "        \n",
        "        src = batch.src\n",
        "        trg = batch.trg\n",
        "        \n",
        "        optimizer.zero_grad()\n",
        "        \n",
        "        output = model(src, trg)\n",
        "        \n",
        "        #trg = [trg len, batch size]\n",
        "        #output = [trg len, batch size, output dim]\n",
        "        \n",
        "        output_dim = output.shape[-1]\n",
        "        \n",
        "        output = output[1:].view(-1, output_dim)\n",
        "        trg = trg[1:].view(-1)\n",
        "        \n",
        "        #trg = [(trg len - 1) * batch size]\n",
        "        #output = [(trg len - 1) * batch size, output dim]\n",
        "        loss = criterion(output, trg)\n",
        "        \n",
        "        loss.backward()\n",
        "        \n",
        "        torch.nn.utils.clip_grad_norm_(model.parameters(), clip)\n",
        "        \n",
        "        optimizer.step()\n",
        "        \n",
        "        epoch_loss += loss.item()\n",
        "\n",
        "        \n",
        "    return epoch_loss / len(iterator)"
      ]
    },
    {
      "cell_type": "code",
      "execution_count": 16,
      "metadata": {
        "id": "b2UI-H9Htyvn"
      },
      "outputs": [],
      "source": [
        "def evaluate(model, iterator, criterion):\n",
        "    \n",
        "    model.eval()\n",
        "    \n",
        "    epoch_loss = 0\n",
        "    \n",
        "    with torch.no_grad():\n",
        "    \n",
        "        for i, batch in enumerate(iterator):\n",
        "\n",
        "            src = batch.src\n",
        "            trg = batch.trg\n",
        "\n",
        "            output = model(src, trg, 0) #turn off teacher forcing\n",
        "\n",
        "            #trg = [trg len, batch size]\n",
        "            #output = [trg len, batch size, output dim]\n",
        "\n",
        "            output_dim = output.shape[-1]\n",
        "            \n",
        "            output = output[1:].view(-1, output_dim)\n",
        "            trg = trg[1:].view(-1)\n",
        "\n",
        "            #trg = [(trg len - 1) * batch size]\n",
        "            #output = [(trg len - 1) * batch size, output dim]\n",
        "\n",
        "            loss = criterion(output, trg)\n",
        "            \n",
        "            epoch_loss += loss.item()\n",
        "        \n",
        "    return epoch_loss / len(iterator)"
      ]
    },
    {
      "cell_type": "code",
      "execution_count": 17,
      "metadata": {
        "id": "rH-yg3YRt0v_"
      },
      "outputs": [],
      "source": [
        "def epoch_time(start_time, end_time):\n",
        "    elapsed_time = end_time - start_time\n",
        "    elapsed_mins = int(elapsed_time / 60)\n",
        "    elapsed_secs = int(elapsed_time - (elapsed_mins * 60))\n",
        "    return elapsed_mins, elapsed_secs"
      ]
    },
    {
      "cell_type": "code",
      "execution_count": 18,
      "metadata": {
        "colab": {
          "base_uri": "https://localhost:8080/"
        },
        "id": "gEQdqdhFt2cX",
        "outputId": "85f7f1ae-274a-4c03-daca-d48482c1ed88"
      },
      "outputs": [
        {
          "name": "stdout",
          "output_type": "stream",
          "text": [
            "Epoch: 01 | Time: 0m 28s\n",
            "\tTrain Loss: 5.157 | Train PPL: 173.611\n",
            "\t Val. Loss: 4.899 |  Val. PPL: 134.142\n",
            "\n"
          ]
        }
      ],
      "source": [
        "N_EPOCHS = 1\n",
        "CLIP = 1\n",
        "\n",
        "best_valid_loss = float('inf')\n",
        "\n",
        "for epoch in range(N_EPOCHS):\n",
        "    \n",
        "    start_time = time.time()\n",
        "    \n",
        "    train_loss = train(model, train_iterator, optimizer, criterion, CLIP)\n",
        "    valid_loss = evaluate(model, valid_iterator, criterion)\n",
        "    \n",
        "    end_time = time.time()\n",
        "    \n",
        "    epoch_mins, epoch_secs = epoch_time(start_time, end_time)\n",
        "    \n",
        "    if valid_loss < best_valid_loss:\n",
        "        best_valid_loss = valid_loss\n",
        "        torch.save(model.state_dict(), 'model.pt')\n",
        "    \n",
        "    print(f'Epoch: {epoch+1:02} | Time: {epoch_mins}m {epoch_secs}s')\n",
        "    print(f'\\tTrain Loss: {train_loss:.3f} | Train PPL: {math.exp(train_loss):7.3f}')\n",
        "    print(f'\\t Val. Loss: {valid_loss:.3f} |  Val. PPL: {math.exp(valid_loss):7.3f}')\n",
        "    print('')"
      ]
    },
    {
      "cell_type": "markdown",
      "metadata": {
        "id": "ouBFW7cMJAdm"
      },
      "source": [
        "# 4. Test your model"
      ]
    },
    {
      "cell_type": "code",
      "execution_count": 19,
      "metadata": {
        "colab": {
          "base_uri": "https://localhost:8080/"
        },
        "id": "jLjTOzYZt50Q",
        "outputId": "ee998892-2799-4d56-b75a-91278fa1d120"
      },
      "outputs": [
        {
          "name": "stdout",
          "output_type": "stream",
          "text": [
            "| Test Loss: 4.907\n"
          ]
        }
      ],
      "source": [
        "model.load_state_dict(torch.load('model.pt'))\n",
        "\n",
        "test_loss = evaluate(model, test_iterator, criterion)\n",
        "\n",
        "print(f'| Test Loss: {test_loss:.3f}')"
      ]
    },
    {
      "cell_type": "code",
      "execution_count": 20,
      "metadata": {
        "colab": {
          "base_uri": "https://localhost:8080/"
        },
        "id": "FGhYVmO8GWGL",
        "outputId": "1699f8cf-a47b-4f20-e031-77102efb0381"
      },
      "outputs": [
        {
          "name": "stdout",
          "output_type": "stream",
          "text": [
            "135.25793532654697\n"
          ]
        }
      ],
      "source": [
        "ppl = math.exp(test_loss)\n",
        "print(ppl)"
      ]
    }
  ],
  "metadata": {
    "accelerator": "GPU",
    "colab": {
      "collapsed_sections": [],
      "include_colab_link": true,
      "provenance": []
    },
    "kernelspec": {
      "display_name": "Python 3.9.10 ('pdl')",
      "language": "python",
      "name": "python3"
    },
    "language_info": {
      "codemirror_mode": {
        "name": "ipython",
        "version": 3
      },
      "file_extension": ".py",
      "mimetype": "text/x-python",
      "name": "python",
      "nbconvert_exporter": "python",
      "pygments_lexer": "ipython3",
      "version": "3.9.10"
    },
    "vscode": {
      "interpreter": {
        "hash": "d19aa5a20e88fe80248d4b0c2d7d27a7c9d54896ad8b5c06765854ce70c72cb9"
      }
    }
  },
  "nbformat": 4,
  "nbformat_minor": 0
}
