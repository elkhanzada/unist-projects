{
  "nbformat": 4,
  "nbformat_minor": 0,
  "metadata": {
    "colab": {
      "provenance": []
    },
    "kernelspec": {
      "name": "python3",
      "display_name": "Python 3"
    },
    "language_info": {
      "name": "python"
    },
    "accelerator": "GPU",
    "gpuClass": "standard"
  },
  "cells": [
    {
      "cell_type": "markdown",
      "source": [
        "## Download data and source folder (**Do not Modify**)\n"
      ],
      "metadata": {
        "id": "vnFvUsHEH7P_"
      }
    },
    {
      "cell_type": "code",
      "execution_count": null,
      "metadata": {
        "colab": {
          "base_uri": "https://localhost:8080/"
        },
        "id": "1ExnLFOzGrz8",
        "outputId": "a55c0cdd-3146-4f69-b96f-edac8e03904e"
      },
      "outputs": [
        {
          "output_type": "stream",
          "name": "stdout",
          "text": [
            "Looking in indexes: https://pypi.org/simple, https://us-python.pkg.dev/colab-wheels/public/simple/\n",
            "Requirement already satisfied: gdown in /usr/local/lib/python3.8/dist-packages (4.4.0)\n",
            "Requirement already satisfied: requests[socks] in /usr/local/lib/python3.8/dist-packages (from gdown) (2.25.1)\n",
            "Requirement already satisfied: beautifulsoup4 in /usr/local/lib/python3.8/dist-packages (from gdown) (4.6.3)\n",
            "Requirement already satisfied: filelock in /usr/local/lib/python3.8/dist-packages (from gdown) (3.8.2)\n",
            "Requirement already satisfied: six in /usr/local/lib/python3.8/dist-packages (from gdown) (1.15.0)\n",
            "Requirement already satisfied: tqdm in /usr/local/lib/python3.8/dist-packages (from gdown) (4.64.1)\n",
            "Requirement already satisfied: certifi>=2017.4.17 in /usr/local/lib/python3.8/dist-packages (from requests[socks]->gdown) (2022.12.7)\n",
            "Requirement already satisfied: idna<3,>=2.5 in /usr/local/lib/python3.8/dist-packages (from requests[socks]->gdown) (2.10)\n",
            "Requirement already satisfied: urllib3<1.27,>=1.21.1 in /usr/local/lib/python3.8/dist-packages (from requests[socks]->gdown) (1.24.3)\n",
            "Requirement already satisfied: chardet<5,>=3.0.2 in /usr/local/lib/python3.8/dist-packages (from requests[socks]->gdown) (4.0.0)\n",
            "Requirement already satisfied: PySocks!=1.5.7,>=1.5.6 in /usr/local/lib/python3.8/dist-packages (from requests[socks]->gdown) (1.7.1)\n"
          ]
        },
        {
          "output_type": "stream",
          "name": "stderr",
          "text": [
            "Downloading...\n",
            "From: https://drive.google.com/uc?id=1CQdgTOUlY-TUoWZyxtVZxRthBhSuhDVi\n",
            "To: /content/source.zip\n",
            "100%|██████████| 11.8M/11.8M [00:00<00:00, 71.4MB/s]\n"
          ]
        }
      ],
      "source": [
        "!pip install gdown\n",
        "import gdown\n",
        "import zipfile\n",
        "url = 'https://drive.google.com/uc?id=1CQdgTOUlY-TUoWZyxtVZxRthBhSuhDVi'\n",
        "output = 'source.zip'\n",
        "gdown.download(url, output, quiet=False)\n",
        "with zipfile.ZipFile(output, \"r\") as zip_ref:\n",
        "    zip_ref.extractall('.')"
      ]
    },
    {
      "cell_type": "markdown",
      "source": [
        "## Install package for calculating FLOPS (**Do not Modify**)\n"
      ],
      "metadata": {
        "id": "h0SUiITHIODO"
      }
    },
    {
      "cell_type": "code",
      "source": [
        "!pip install pthflops"
      ],
      "metadata": {
        "colab": {
          "base_uri": "https://localhost:8080/"
        },
        "id": "3bYv2QizG2Uf",
        "outputId": "4018af3d-7bbe-4009-e065-cdac0bec88c4"
      },
      "execution_count": null,
      "outputs": [
        {
          "output_type": "stream",
          "name": "stdout",
          "text": [
            "Looking in indexes: https://pypi.org/simple, https://us-python.pkg.dev/colab-wheels/public/simple/\n",
            "Requirement already satisfied: pthflops in /usr/local/lib/python3.8/dist-packages (0.4.2)\n",
            "Requirement already satisfied: torch in /usr/local/lib/python3.8/dist-packages (from pthflops) (1.13.0+cu116)\n",
            "Requirement already satisfied: typing-extensions in /usr/local/lib/python3.8/dist-packages (from torch->pthflops) (4.4.0)\n"
          ]
        }
      ]
    },
    {
      "cell_type": "markdown",
      "source": [
        "## Import Necessary Dependencies\n",
        "- You may import other packages if you want.\n"
      ],
      "metadata": {
        "id": "MxutNkHbIVDy"
      }
    },
    {
      "cell_type": "code",
      "source": [
        "import os\n",
        "import sys\n",
        "import os.path as osp\n",
        "\n",
        "from PIL import Image\n",
        "\n",
        "import random\n",
        "import numpy as np\n",
        "\n",
        "import torch\n",
        "import torch.nn as nn\n",
        "import torch.nn.functional as F\n",
        "import torch.optim as optim\n",
        "from torch.utils.data import Dataset, DataLoader\n",
        "\n",
        "import torchvision\n",
        "import torchvision.transforms as T\n",
        "\n",
        "import glob\n",
        "import matplotlib.pyplot as plt\n",
        "\n",
        "from pthflops import count_ops\n",
        "\n",
        "# functions that you downloaded from the first code cell.\n",
        "# please use this code for seed reset, dataloaders, and test function  \n",
        "from src.util import reset\n",
        "# if data.py is changed, please submit that also.\n",
        "from src.data import get_dataloader\n",
        "from src.test import test"
      ],
      "metadata": {
        "id": "iO9f0-7-HJT2"
      },
      "execution_count": null,
      "outputs": []
    },
    {
      "cell_type": "markdown",
      "source": [
        "## Define label names, data directory, device name.\n"
      ],
      "metadata": {
        "id": "DwrUU3z-IuJb"
      }
    },
    {
      "cell_type": "code",
      "source": [
        "## DO NOT MODIFY FROM HERE\n",
        "label_names = ['bug', 'electric', 'fighting', 'fire', 'flying', 'grass', 'ground', 'phychic', 'poison', 'water']\n",
        "data_dir = 'data'\n",
        "## DO NOT MODIFY UNTIL HERE\n",
        "\n",
        "## You may modify device name depending on your workspace spec.\n",
        "device = 'cuda' if torch.cuda.is_available() else 'cpu'\n",
        "\n",
        "## Specify the batch size as you want.\n",
        "# since the epoch is too small, increasing the number of gradient updates by using small batch size was the key point of this assignment.\n",
        "batch_size = 1"
      ],
      "metadata": {
        "id": "5cYoZDUKHxHy"
      },
      "execution_count": null,
      "outputs": []
    },
    {
      "cell_type": "markdown",
      "source": [
        "## **(TO-DO)** DEFINE YOUR `MyModel`\n",
        "- Please do not change the class name. Let `MyModel` be your classifier class name. \n",
        "- Below is just simple example using ResNet18."
      ],
      "metadata": {
        "id": "zc8zxrr7JBep"
      }
    },
    {
      "cell_type": "code",
      "source": [
        "class MyModel(nn.Module):\n",
        "    def __init__(self, dim_hidden=32, dim_output = len(label_names)):\n",
        "        super().__init__()\n",
        "\n",
        "        self.conv1 = nn.Conv2d(3, dim_hidden, 5, 2, 2)\n",
        "        self.conv2 = nn.Conv2d(dim_hidden, dim_hidden, 5, 2, 2)\n",
        "        self.conv3 = nn.Conv2d(dim_hidden, dim_hidden, 5, 2, 2)\n",
        "        \n",
        "        self.pool = nn.MaxPool2d(2, 2)\n",
        "        self.adapt_pool = nn.AdaptiveAvgPool2d(1)\n",
        "        self.acti = nn.GELU()\n",
        "\n",
        "        self.fc = nn.Linear(dim_hidden, dim_output)\n",
        "\n",
        "    def forward(self, inp):\n",
        "        B, C, H, W = inp.shape\n",
        "\n",
        "        out = self.pool(self.acti(self.conv1(inp)))\n",
        "        out = self.pool(self.acti(self.conv2(out)))\n",
        "        out = self.pool(self.acti(self.conv3(out)))\n",
        "\n",
        "        out = self.adapt_pool(out)\n",
        "        out = out.view(B, -1)\n",
        "\n",
        "        return self.fc(out)\n"
      ],
      "metadata": {
        "id": "UBeaeUcsH0P2"
      },
      "execution_count": null,
      "outputs": []
    },
    {
      "cell_type": "markdown",
      "source": [
        "## **(Optional)** Make your own loss function.\n",
        "- You may change `criterion` as you want. \n",
        "- But make your custom loss function work without changing below lines, which starts from `model.train()`\n"
      ],
      "metadata": {
        "id": "DFYTeLz1KOGS"
      }
    },
    {
      "cell_type": "code",
      "source": [
        "def train(model, optimizer, sample):\n",
        "    ### You may define your own loss function.###\n",
        "    # weight = [0 for _ in range(len(label_names))]\n",
        "    # for l in range(len(label_names)):\n",
        "    #     weight[l] = 1-sum(sample['label']==l)/len(sample['label'])\n",
        "    # weight = torch.Tensor(weight).to(device)\n",
        "\n",
        "    criterion = nn.CrossEntropyLoss()\n",
        "    #############################################\n",
        "\n",
        "    ### make your code work without changing below lines ###\n",
        "    model.train()    \n",
        "    \n",
        "    input = sample['img'].float().to(device)\n",
        "    label = sample['label'].long().to(device)\n",
        "\n",
        "    pred = model(input)\n",
        "\n",
        "    loss = criterion(pred, label)\n",
        "\n",
        "    num_correct = torch.sum(torch.argmax(pred, dim=-1)==label)\n",
        "\n",
        "    optimizer.zero_grad()\n",
        "    loss.backward()\n",
        "    optimizer.step()\n",
        "\n",
        "    return loss.item(), num_correct.item()\n",
        "    ##########################################################"
      ],
      "metadata": {
        "id": "M4ed9AWoH0yC"
      },
      "execution_count": null,
      "outputs": []
    },
    {
      "cell_type": "markdown",
      "source": [
        "## **(TO-DO)** DEFINE YOUR `get_optimizer`\n",
        "- Please do not change the function name. Let `get_optimizer` be your classifier class name. \n",
        "- This function should return the optimizer for optimizing model parameters properly\n"
      ],
      "metadata": {
        "id": "K1Szzew1Mbfl"
      }
    },
    {
      "cell_type": "code",
      "source": [
        "######## Define your own function for optimizer.  #######\n",
        "def get_optimizer(model, lr=1e-4, wd=1e-7):\n",
        "    return optim.Adam(model.parameters(), lr=lr, weight_decay=wd)\n",
        "##########################################################"
      ],
      "metadata": {
        "id": "dxBrwyvMMXN9"
      },
      "execution_count": null,
      "outputs": []
    },
    {
      "cell_type": "markdown",
      "source": [
        "## Repeat Training with different 10 random seeds.\n",
        "\n",
        "*   Do not change `max_epoch` and `num_seeds`.\n",
        "*   You  may change lines for `MyModel` and `get_optimizer` part if they require additional inputs.\n"
      ],
      "metadata": {
        "id": "fOgJFjMSLV7X"
      }
    },
    {
      "cell_type": "code",
      "source": [
        "### Do not change below parameters ###\n",
        "max_epoch = 5\n",
        "num_seeds = 10\n",
        "### Do not change above parameters ###\n",
        "\n",
        "\n",
        "### Make your code work without changing below lines except for \"optimizer\" part ###\n",
        "total_best_accu = []\n",
        "\n",
        "for seed in range(num_seeds):\n",
        "    # do not erase this random seed initialization part\n",
        "    reset(seed)\n",
        "\n",
        "    # get dataloader by spliting train/test data randomly.\n",
        "    train_loader, test_loader, train_dataset, test_dataset = get_dataloader(data_dir, label_names, batch_size)\n",
        "\n",
        "    # you may change below line for model definition if your \"MyModel\" requires more inputs.\n",
        "    model = MyModel().to(device)\n",
        "\n",
        "    # you may change below line for optimizer if your \"get optimizer\" requires more inputs.\n",
        "    optimizer = get_optimizer(model)\n",
        "\n",
        "    ###### do not change below lines. Make your code work with below lines. ####\n",
        "    best_accu = -100\n",
        "    for epoch in range(max_epoch):\n",
        "        avg_tr_loss = 0.0\n",
        "        avg_tr_correct = 0.0\n",
        "        for sample in train_loader:\n",
        "            tr_loss, tr_correct = train(model, optimizer, sample)\n",
        "\n",
        "            avg_tr_loss += tr_loss / len(train_loader)\n",
        "            avg_tr_correct += tr_correct / len(train_dataset)\n",
        "\n",
        "        avg_te_correct = 0.0\n",
        "        for sample in test_loader:\n",
        "            te_correct = test(model, sample, device)\n",
        "            avg_te_correct += te_correct / len(test_dataset)\n",
        "    \n",
        "        best_accu = max(avg_te_correct, best_accu)\n",
        "\n",
        "    print('<<<<<[SEED {}] BEST ACCU : {}>>>>>'.format(seed, best_accu))    \n",
        "    total_best_accu.append(best_accu)\n",
        "    if seed < num_seeds-1:\n",
        "        del model, optimizer\n",
        "    ############################################################################   \n"
      ],
      "metadata": {
        "colab": {
          "base_uri": "https://localhost:8080/"
        },
        "id": "SbowrzBxH06d",
        "outputId": "5a7a3bc5-0eb4-480b-a764-2b6164284df4"
      },
      "execution_count": null,
      "outputs": [
        {
          "output_type": "stream",
          "name": "stdout",
          "text": [
            "<<<<<[SEED 0] BEST ACCU : 0.5108433734939773>>>>>\n",
            "<<<<<[SEED 1] BEST ACCU : 0.4457831325301217>>>>>\n",
            "<<<<<[SEED 2] BEST ACCU : 0.50120481927711>>>>>\n",
            "<<<<<[SEED 3] BEST ACCU : 0.47469879518072433>>>>>\n",
            "<<<<<[SEED 4] BEST ACCU : 0.5180722891566278>>>>>\n",
            "<<<<<[SEED 5] BEST ACCU : 0.4963855421686763>>>>>\n",
            "<<<<<[SEED 6] BEST ACCU : 0.5108433734939773>>>>>\n",
            "<<<<<[SEED 7] BEST ACCU : 0.49156626506024254>>>>>\n",
            "<<<<<[SEED 8] BEST ACCU : 0.48915662650602565>>>>>\n",
            "<<<<<[SEED 9] BEST ACCU : 0.49156626506024254>>>>>\n"
          ]
        }
      ]
    },
    {
      "cell_type": "markdown",
      "source": [
        "## Calculate your grade **(Do not Modify)**\n",
        "- Grade is calculated based on your `average best accuracy` and `FLOPS`.\n",
        "- Higher accuracy and lower flops make your grade better."
      ],
      "metadata": {
        "id": "fAXeguQhNtLr"
      }
    },
    {
      "cell_type": "code",
      "source": [
        "###### do not change below lines #####\n",
        "model = MyModel().to(device)\n",
        "num_ops = count_ops(model, torch.rand(1, 3, 112, 112).to(device), verbose=False)\n",
        "\n",
        "mean_accu = np.mean(total_best_accu)\n",
        "accu_thres = 0.75\n",
        "accu_point = min(1, np.exp(-2*(accu_thres-mean_accu)))\n",
        "\n",
        "flops = num_ops[0]\n",
        "flops_thres = 2e8\n",
        "flop_disadvantage = flops_thres / (flops_thres + flops)\n",
        "\n",
        "print('*'*50)\n",
        "print('Mean Accuracy :', mean_accu)\n",
        "print('Accuracy Point:', accu_point)\n",
        "print('*'*50)\n",
        "print('Flops: ', flops)\n",
        "print('Flops Advantage: ', flop_disadvantage)\n",
        "print('*'*50)\n",
        "\n",
        "point = accu_point * flop_disadvantage\n",
        "print('Total Points : ', point)\n",
        "\n",
        "threshold = 0.5\n",
        "max_point = 50\n",
        "\n",
        "if point > threshold:\n",
        "    grade = max_point\n",
        "else:\n",
        "    grade = np.exp(-2*(threshold - point)) * max_point\n",
        "\n",
        "print('YOUR grade is {} point'.format(grade))"
      ],
      "metadata": {
        "id": "WnVzRnoiH0_j",
        "colab": {
          "base_uri": "https://localhost:8080/"
        },
        "outputId": "cd9d7ecf-26f3-4da3-a313-84e97b4847ff"
      },
      "execution_count": null,
      "outputs": [
        {
          "output_type": "stream",
          "name": "stdout",
          "text": [
            "Input size: (1, 3, 112, 112)\n",
            "13,141,546 FLOPs or approx. 0.01 GFLOPs\n",
            "**************************************************\n",
            "Mean Accuracy : 0.49301204819277267\n",
            "Accuracy Point: 0.5981128062458988\n",
            "**************************************************\n",
            "Flops:  13141546\n",
            "Flops Advantage:  0.9383435738051745\n",
            "**************************************************\n",
            "Total Points :  0.5612353081514186\n",
            "YOUR grade is 50 point\n"
          ]
        }
      ]
    },
    {
      "cell_type": "code",
      "source": [],
      "metadata": {
        "id": "rkYU6njOH1Dl"
      },
      "execution_count": null,
      "outputs": []
    }
  ]
}