{
  "cells": [
    {
      "cell_type": "markdown",
      "metadata": {
        "id": "laiP5-IZF3bd"
      },
      "source": [
        "## [DO NOT CHANGE THIS CELL] Import Dependencies\n",
        "#### Do not use additional Packages! USE ONLY BELOW IMPORTED ONES"
      ]
    },
    {
      "cell_type": "code",
      "execution_count": 1,
      "metadata": {
        "id": "7ZfJu47o49R5"
      },
      "outputs": [],
      "source": [
        "import os\n",
        "import csv\n",
        "import random\n",
        "import numpy as np\n",
        "\n",
        "import torch\n",
        "import torch.nn as nn\n",
        "from tqdm.notebook import tqdm"
      ]
    },
    {
      "cell_type": "markdown",
      "metadata": {
        "id": "XtjVD6zSGC5e"
      },
      "source": [
        "## [DO NOT CHANGE THIS CELL] Define file path (We use default data from colab)"
      ]
    },
    {
      "cell_type": "code",
      "execution_count": 2,
      "metadata": {
        "id": "5KeujrN4517J"
      },
      "outputs": [],
      "source": [
        "train_csv_fp = './sample_data/california_housing_train.csv'\n",
        "test_csv_fp = './sample_data/california_housing_test.csv'"
      ]
    },
    {
      "cell_type": "markdown",
      "metadata": {
        "id": "xZsKSbGUGMUS"
      },
      "source": [
        "## [DO NOT CHANGE THIS CELL] Define function for read CSV files"
      ]
    },
    {
      "cell_type": "code",
      "execution_count": 3,
      "metadata": {
        "id": "7fbRTlL66EeA"
      },
      "outputs": [],
      "source": [
        "def read_csv(csv_fp):\n",
        "    data = dict()\n",
        "    all_names = []\n",
        "    with open(csv_fp) as f:\n",
        "        reader = csv.reader(f)\n",
        "        for i, row in enumerate(reader):\n",
        "            if i == 0:\n",
        "                for name in row:\n",
        "                    data[name] = list()\n",
        "                    all_names.append(name)\n",
        "            else:\n",
        "                for ii, val in enumerate(row):\n",
        "                    data[all_names[ii]].append(float(val))\n",
        "    \n",
        "    return data, all_names"
      ]
    },
    {
      "cell_type": "markdown",
      "metadata": {
        "id": "wgb50yc8GW1i"
      },
      "source": [
        "## [DO NOT CHANGE THIS CELL] Read CSV files as a DICTIONARY"
      ]
    },
    {
      "cell_type": "code",
      "execution_count": 4,
      "metadata": {
        "colab": {
          "base_uri": "https://localhost:8080/"
        },
        "id": "XFTIbcvX6LiY",
        "outputId": "81cf3b39-2c96-4ba1-a78d-a6513d9ea300"
      },
      "outputs": [
        {
          "name": "stdout",
          "output_type": "stream",
          "text": [
            "Attributes are:  ['longitude', 'latitude', 'housing_median_age', 'total_rooms', 'total_bedrooms', 'population', 'households', 'median_income', 'median_house_value']\n"
          ]
        }
      ],
      "source": [
        "train_data, names = read_csv(train_csv_fp)\n",
        "test_data, _ = read_csv(test_csv_fp)\n",
        "print('Attributes are: ', names)"
      ]
    },
    {
      "cell_type": "markdown",
      "metadata": {
        "id": "4pjZOLbKGb09"
      },
      "source": [
        "## [DO NOT CHANGE THIS CELL] Names of INPUT/OUTPUT"
      ]
    },
    {
      "cell_type": "code",
      "execution_count": 5,
      "metadata": {
        "colab": {
          "base_uri": "https://localhost:8080/"
        },
        "id": "0kIB36op6TfO",
        "outputId": "c67d1e1f-62d5-4118-9e89-2db58be8f97c"
      },
      "outputs": [
        {
          "name": "stdout",
          "output_type": "stream",
          "text": [
            "Inputs are:  ['longitude', 'latitude', 'housing_median_age', 'total_rooms', 'total_bedrooms', 'population', 'households', 'median_income']\n",
            "Outputs are:  median_house_value\n"
          ]
        }
      ],
      "source": [
        "input_name = names[:-1]\n",
        "output_name = names[-1]\n",
        "print('Inputs are: ', input_name)\n",
        "print('Outputs are: ', output_name)"
      ]
    },
    {
      "cell_type": "markdown",
      "metadata": {
        "id": "PRLvy4QsGfFS"
      },
      "source": [
        "## [DO NOT CHANGE THIS CELL] Normalize the data"
      ]
    },
    {
      "cell_type": "code",
      "execution_count": 6,
      "metadata": {
        "id": "_kpqMBhx8ot2"
      },
      "outputs": [],
      "source": [
        "def normalize(data, mean=None, std=None):\n",
        "    stat_flag = False\n",
        "    if mean is None and std is None:\n",
        "        mean = dict()\n",
        "        std = dict()\n",
        "        stat_flag = True\n",
        "    \n",
        "    for k, v in data.items():\n",
        "        if stat_flag:\n",
        "            mean[k] = np.mean(v)\n",
        "            std[k] = np.std(v)\n",
        "        data[k] = (np.array(v) - mean[k] ) / std[k]\n",
        "    return data, mean, std\n",
        "\n",
        "train_data, mean, std = normalize(train_data)\n",
        "test_data, _, _ = normalize(test_data, mean, std)"
      ]
    },
    {
      "cell_type": "markdown",
      "metadata": {
        "id": "b4qb0pvWG2F_"
      },
      "source": [
        "## **[CHANGE ONLY BELOW CELL]** Code for Training"
      ]
    },
    {
      "cell_type": "code",
      "execution_count": 7,
      "metadata": {
        "id": "UGBy0upW7Ugg"
      },
      "outputs": [],
      "source": [
        "def train(data, seed):\n",
        "    random.seed(seed)\n",
        "    np.random.seed(seed)\n",
        "    torch.manual_seed(seed)\n",
        "    torch.cuda.manual_seed_all(seed)\n",
        "    torch.backends.cudnn.deterministic = True\n",
        "\n",
        "    weight = np.random.rand(len(input_name), 1)\n",
        "    bias = np.random.rand(1)\n",
        "\n",
        "    ##### write your code to optimize weight and bias #####\n",
        "    num_data = len(data[output_name])\n",
        "    opt = torch.optim.Adam([nn.Parameter(torch.tensor(weight), requires_grad=True),nn.Parameter(torch.tensor(bias), requires_grad=True)], lr=0.00095, weight_decay=0.07)\n",
        "    loss_fn = nn.MSELoss()\n",
        "    for i in range(num_data):\n",
        "        opt.zero_grad()\n",
        "        curr_input = torch.tensor([data[name][i] for name in input_name])\n",
        "        curr_answer = torch.tensor(data[output_name][i], requires_grad=True)\n",
        "        weight = opt.param_groups[0][\"params\"][0]\n",
        "        bias = opt.param_groups[0][\"params\"][1]\n",
        "        curr_pred = (curr_input.T @ weight) + bias\n",
        "        curr_loss = torch.sqrt(loss_fn(curr_pred, curr_answer))\n",
        "        curr_loss.backward()\n",
        "        opt.step()\n",
        "    weight = weight.data.numpy()\n",
        "    bias = bias.data.numpy()\n",
        "\n",
        "    \n",
        "\n",
        "\n",
        "    #######################################################\n",
        "\n",
        "    # do not modify this return part.\n",
        "    return weight, bias"
      ]
    },
    {
      "cell_type": "markdown",
      "metadata": {
        "id": "PzmTTE-MHBfS"
      },
      "source": [
        "##[DO NOT CHANGE THIS CELL] Code for testing"
      ]
    },
    {
      "cell_type": "code",
      "execution_count": 8,
      "metadata": {
        "id": "i3mENGIg8URE"
      },
      "outputs": [],
      "source": [
        "def test(test_data, weight, bias):\n",
        "    num_data = len(test_data[output_name])\n",
        "\n",
        "    avg_loss = 0.0\n",
        "    for i in range(num_data):\n",
        "        curr_input = np.asarray([test_data[name][i] for name in input_name])\n",
        "        curr_answer = test_data[output_name][i]\n",
        "\n",
        "        curr_pred = (curr_input.T @ weight) + bias\n",
        "\n",
        "        curr_loss = np.linalg.norm(curr_answer - curr_pred)\n",
        "\n",
        "        avg_loss += curr_loss / num_data\n",
        "\n",
        "    return avg_loss"
      ]
    },
    {
      "cell_type": "markdown",
      "metadata": {
        "id": "P6my2aBTHL_V"
      },
      "source": [
        "##[DO NOT CHANGE THIS CELL] Code for testing"
      ]
    },
    {
      "cell_type": "code",
      "execution_count": 9,
      "metadata": {
        "colab": {
          "base_uri": "https://localhost:8080/",
          "height": 1000,
          "referenced_widgets": [
            "ad80ff3f78734b9d858e107f70da06b6",
            "593a3ec9d406417bb91ca42e8fe80790",
            "6a1cd02be39f4dbea2241499e3fa02b0",
            "a972133e922044e7aecc840b05c80da6",
            "47c4a502dcb945589b2879e73395b69b",
            "673022be3db247abb559d6f4020919cd",
            "e7e639a1df5e4f4e88c7649a174a4405",
            "415fbcc42e084c33ba96d10e824e908a",
            "21f8cad7cf1d4aff8bd32c4c53e7fadc",
            "bc7377347c8a4c21bbe75b55733299e5",
            "50924e1ec9ac4201bd844fac092aa3fc"
          ]
        },
        "id": "144IsacI9snU",
        "outputId": "d575e385-7d33-4170-9077-d3fcf0dbc4e7"
      },
      "outputs": [
        {
          "data": {
            "application/vnd.jupyter.widget-view+json": {
              "model_id": "ad80ff3f78734b9d858e107f70da06b6",
              "version_major": 2,
              "version_minor": 0
            },
            "text/plain": [
              "  0%|          | 0/50 [00:00<?, ?it/s]"
            ]
          },
          "metadata": {},
          "output_type": "display_data"
        },
        {
          "name": "stderr",
          "output_type": "stream",
          "text": [
            "/usr/local/lib/python3.7/dist-packages/ipykernel_launcher.py:21: UserWarning: The use of `x.T` on tensors of dimension other than 2 to reverse their shape is deprecated and it will throw an error in a future release. Consider `x.mT` to transpose batches of matricesor `x.permute(*torch.arange(x.ndim - 1, -1, -1))` to reverse the dimensions of a tensor. (Triggered internally at  ../aten/src/ATen/native/TensorShape.cpp:2981.)\n",
            "/usr/local/lib/python3.7/dist-packages/torch/nn/modules/loss.py:530: UserWarning: Using a target size (torch.Size([])) that is different to the input size (torch.Size([1])). This will likely lead to incorrect results due to broadcasting. Please ensure they have the same size.\n",
            "  return F.mse_loss(input, target, reduction=self.reduction)\n"
          ]
        },
        {
          "name": "stdout",
          "output_type": "stream",
          "text": [
            "[SEED 0] TEST LOSS : 0.5154484780759528\n",
            "[SEED 1] TEST LOSS : 0.5125512884112028\n",
            "[SEED 2] TEST LOSS : 0.5067318741795438\n",
            "[SEED 3] TEST LOSS : 0.5184961119803139\n",
            "[SEED 4] TEST LOSS : 0.5238447204190347\n",
            "[SEED 5] TEST LOSS : 0.5117176241881661\n",
            "[SEED 6] TEST LOSS : 0.5156074897380245\n",
            "[SEED 7] TEST LOSS : 0.5080243719273488\n",
            "[SEED 8] TEST LOSS : 0.5277499027377963\n",
            "[SEED 9] TEST LOSS : 0.5010860886724302\n",
            "[SEED 10] TEST LOSS : 0.5157120057323926\n",
            "[SEED 11] TEST LOSS : 0.49881597701781627\n",
            "[SEED 12] TEST LOSS : 0.5057891727862137\n",
            "[SEED 13] TEST LOSS : 0.5163637093702441\n",
            "[SEED 14] TEST LOSS : 0.5137534366793255\n",
            "[SEED 15] TEST LOSS : 0.5183361765014282\n",
            "[SEED 16] TEST LOSS : 0.5063627902873673\n",
            "[SEED 17] TEST LOSS : 0.5073821332496491\n",
            "[SEED 18] TEST LOSS : 0.5127220444851831\n",
            "[SEED 19] TEST LOSS : 0.5031834793450508\n",
            "[SEED 20] TEST LOSS : 0.520787276321559\n",
            "[SEED 21] TEST LOSS : 0.4982390302430567\n",
            "[SEED 22] TEST LOSS : 0.5079522526888457\n",
            "[SEED 23] TEST LOSS : 0.5186940529772448\n",
            "[SEED 24] TEST LOSS : 0.5229845954824931\n",
            "[SEED 25] TEST LOSS : 0.5176878653840269\n",
            "[SEED 26] TEST LOSS : 0.5091737248381033\n",
            "[SEED 27] TEST LOSS : 0.5145692896450546\n",
            "[SEED 28] TEST LOSS : 0.5156457420721141\n",
            "[SEED 29] TEST LOSS : 0.5165305539372068\n",
            "[SEED 30] TEST LOSS : 0.5116757550550968\n",
            "[SEED 31] TEST LOSS : 0.5154779051174174\n",
            "[SEED 32] TEST LOSS : 0.5203877907391682\n",
            "[SEED 33] TEST LOSS : 0.5045889642569225\n",
            "[SEED 34] TEST LOSS : 0.5068108248689515\n",
            "[SEED 35] TEST LOSS : 0.5046160894311303\n",
            "[SEED 36] TEST LOSS : 0.5174161842222846\n",
            "[SEED 37] TEST LOSS : 0.523753902009089\n",
            "[SEED 38] TEST LOSS : 0.5170888181125289\n",
            "[SEED 39] TEST LOSS : 0.5148108386258013\n",
            "[SEED 40] TEST LOSS : 0.5003633068909623\n",
            "[SEED 41] TEST LOSS : 0.4976612817175568\n",
            "[SEED 42] TEST LOSS : 0.5179635830355795\n",
            "[SEED 43] TEST LOSS : 0.5041253924542504\n",
            "[SEED 44] TEST LOSS : 0.5144876197422608\n",
            "[SEED 45] TEST LOSS : 0.5254979796757797\n",
            "[SEED 46] TEST LOSS : 0.5217335297409246\n",
            "[SEED 47] TEST LOSS : 0.5069767613378426\n",
            "[SEED 48] TEST LOSS : 0.5052075616183452\n",
            "[SEED 49] TEST LOSS : 0.5048753680406295\n",
            "TOTAL TEST LOSS: 0.5123492543213342\n"
          ]
        }
      ],
      "source": [
        "max_iter = 50\n",
        "total_loss = 0.0\n",
        "for seed in tqdm(range(max_iter)):\n",
        "    weight, bias = train(train_data, seed)\n",
        "\n",
        "    test_loss = test(test_data, weight, bias)\n",
        "\n",
        "    print('[SEED {}] TEST LOSS : {}'.format(seed, test_loss.item()))\n",
        "\n",
        "    total_loss += test_loss / max_iter\n",
        "\n",
        "print('TOTAL TEST LOSS: {}'.format(total_loss))"
      ]
    },
    {
      "cell_type": "markdown",
      "metadata": {
        "id": "VxgelllyHNDW"
      },
      "source": [
        "##[DO NOT CHANGE THIS CELL] Code for Grading"
      ]
    },
    {
      "cell_type": "code",
      "execution_count": 10,
      "metadata": {
        "colab": {
          "base_uri": "https://localhost:8080/"
        },
        "id": "6GCEnHBJ-0Zu",
        "outputId": "efdd70c7-8965-43b4-b76c-ae6ee338e676"
      },
      "outputs": [
        {
          "name": "stdout",
          "output_type": "stream",
          "text": [
            "YOUR POINT : 39.75377586697804/40\n"
          ]
        }
      ],
      "source": [
        "######## DO NOT CHANGE THIS GRADING PART ########\n",
        "THRESHOLD = 0.5\n",
        "max_point = 40\n",
        "\n",
        "if total_loss < THRESHOLD:\n",
        "    your_point = max_point\n",
        "else:\n",
        "    your_point = np.exp( -0.5* (total_loss - THRESHOLD) ) * max_point\n",
        "\n",
        "print('YOUR POINT : {}/{}'.format(your_point, max_point))\n",
        "####################################################"
      ]
    },
    {
      "cell_type": "code",
      "execution_count": 10,
      "metadata": {
        "id": "0cprdT-lAR1V"
      },
      "outputs": [],
      "source": []
    }
  ],
  "metadata": {
    "colab": {
      "provenance": []
    },
    "kernelspec": {
      "display_name": "Python 3.10.6 64-bit",
      "language": "python",
      "name": "python3"
    },
    "language_info": {
      "name": "python",
      "version": "3.10.6"
    },
    "vscode": {
      "interpreter": {
        "hash": "e7370f93d1d0cde622a1f8e1c04877d8463912d04d973331ad4851f04de6915a"
      }
    },
    "widgets": {
      "application/vnd.jupyter.widget-state+json": {
        "21f8cad7cf1d4aff8bd32c4c53e7fadc": {
          "model_module": "@jupyter-widgets/controls",
          "model_module_version": "1.5.0",
          "model_name": "ProgressStyleModel",
          "state": {
            "_model_module": "@jupyter-widgets/controls",
            "_model_module_version": "1.5.0",
            "_model_name": "ProgressStyleModel",
            "_view_count": null,
            "_view_module": "@jupyter-widgets/base",
            "_view_module_version": "1.2.0",
            "_view_name": "StyleView",
            "bar_color": null,
            "description_width": ""
          }
        },
        "415fbcc42e084c33ba96d10e824e908a": {
          "model_module": "@jupyter-widgets/base",
          "model_module_version": "1.2.0",
          "model_name": "LayoutModel",
          "state": {
            "_model_module": "@jupyter-widgets/base",
            "_model_module_version": "1.2.0",
            "_model_name": "LayoutModel",
            "_view_count": null,
            "_view_module": "@jupyter-widgets/base",
            "_view_module_version": "1.2.0",
            "_view_name": "LayoutView",
            "align_content": null,
            "align_items": null,
            "align_self": null,
            "border": null,
            "bottom": null,
            "display": null,
            "flex": null,
            "flex_flow": null,
            "grid_area": null,
            "grid_auto_columns": null,
            "grid_auto_flow": null,
            "grid_auto_rows": null,
            "grid_column": null,
            "grid_gap": null,
            "grid_row": null,
            "grid_template_areas": null,
            "grid_template_columns": null,
            "grid_template_rows": null,
            "height": null,
            "justify_content": null,
            "justify_items": null,
            "left": null,
            "margin": null,
            "max_height": null,
            "max_width": null,
            "min_height": null,
            "min_width": null,
            "object_fit": null,
            "object_position": null,
            "order": null,
            "overflow": null,
            "overflow_x": null,
            "overflow_y": null,
            "padding": null,
            "right": null,
            "top": null,
            "visibility": null,
            "width": null
          }
        },
        "47c4a502dcb945589b2879e73395b69b": {
          "model_module": "@jupyter-widgets/base",
          "model_module_version": "1.2.0",
          "model_name": "LayoutModel",
          "state": {
            "_model_module": "@jupyter-widgets/base",
            "_model_module_version": "1.2.0",
            "_model_name": "LayoutModel",
            "_view_count": null,
            "_view_module": "@jupyter-widgets/base",
            "_view_module_version": "1.2.0",
            "_view_name": "LayoutView",
            "align_content": null,
            "align_items": null,
            "align_self": null,
            "border": null,
            "bottom": null,
            "display": null,
            "flex": null,
            "flex_flow": null,
            "grid_area": null,
            "grid_auto_columns": null,
            "grid_auto_flow": null,
            "grid_auto_rows": null,
            "grid_column": null,
            "grid_gap": null,
            "grid_row": null,
            "grid_template_areas": null,
            "grid_template_columns": null,
            "grid_template_rows": null,
            "height": null,
            "justify_content": null,
            "justify_items": null,
            "left": null,
            "margin": null,
            "max_height": null,
            "max_width": null,
            "min_height": null,
            "min_width": null,
            "object_fit": null,
            "object_position": null,
            "order": null,
            "overflow": null,
            "overflow_x": null,
            "overflow_y": null,
            "padding": null,
            "right": null,
            "top": null,
            "visibility": null,
            "width": null
          }
        },
        "50924e1ec9ac4201bd844fac092aa3fc": {
          "model_module": "@jupyter-widgets/controls",
          "model_module_version": "1.5.0",
          "model_name": "DescriptionStyleModel",
          "state": {
            "_model_module": "@jupyter-widgets/controls",
            "_model_module_version": "1.5.0",
            "_model_name": "DescriptionStyleModel",
            "_view_count": null,
            "_view_module": "@jupyter-widgets/base",
            "_view_module_version": "1.2.0",
            "_view_name": "StyleView",
            "description_width": ""
          }
        },
        "593a3ec9d406417bb91ca42e8fe80790": {
          "model_module": "@jupyter-widgets/controls",
          "model_module_version": "1.5.0",
          "model_name": "HTMLModel",
          "state": {
            "_dom_classes": [],
            "_model_module": "@jupyter-widgets/controls",
            "_model_module_version": "1.5.0",
            "_model_name": "HTMLModel",
            "_view_count": null,
            "_view_module": "@jupyter-widgets/controls",
            "_view_module_version": "1.5.0",
            "_view_name": "HTMLView",
            "description": "",
            "description_tooltip": null,
            "layout": "IPY_MODEL_673022be3db247abb559d6f4020919cd",
            "placeholder": "​",
            "style": "IPY_MODEL_e7e639a1df5e4f4e88c7649a174a4405",
            "value": "100%"
          }
        },
        "673022be3db247abb559d6f4020919cd": {
          "model_module": "@jupyter-widgets/base",
          "model_module_version": "1.2.0",
          "model_name": "LayoutModel",
          "state": {
            "_model_module": "@jupyter-widgets/base",
            "_model_module_version": "1.2.0",
            "_model_name": "LayoutModel",
            "_view_count": null,
            "_view_module": "@jupyter-widgets/base",
            "_view_module_version": "1.2.0",
            "_view_name": "LayoutView",
            "align_content": null,
            "align_items": null,
            "align_self": null,
            "border": null,
            "bottom": null,
            "display": null,
            "flex": null,
            "flex_flow": null,
            "grid_area": null,
            "grid_auto_columns": null,
            "grid_auto_flow": null,
            "grid_auto_rows": null,
            "grid_column": null,
            "grid_gap": null,
            "grid_row": null,
            "grid_template_areas": null,
            "grid_template_columns": null,
            "grid_template_rows": null,
            "height": null,
            "justify_content": null,
            "justify_items": null,
            "left": null,
            "margin": null,
            "max_height": null,
            "max_width": null,
            "min_height": null,
            "min_width": null,
            "object_fit": null,
            "object_position": null,
            "order": null,
            "overflow": null,
            "overflow_x": null,
            "overflow_y": null,
            "padding": null,
            "right": null,
            "top": null,
            "visibility": null,
            "width": null
          }
        },
        "6a1cd02be39f4dbea2241499e3fa02b0": {
          "model_module": "@jupyter-widgets/controls",
          "model_module_version": "1.5.0",
          "model_name": "FloatProgressModel",
          "state": {
            "_dom_classes": [],
            "_model_module": "@jupyter-widgets/controls",
            "_model_module_version": "1.5.0",
            "_model_name": "FloatProgressModel",
            "_view_count": null,
            "_view_module": "@jupyter-widgets/controls",
            "_view_module_version": "1.5.0",
            "_view_name": "ProgressView",
            "bar_style": "success",
            "description": "",
            "description_tooltip": null,
            "layout": "IPY_MODEL_415fbcc42e084c33ba96d10e824e908a",
            "max": 50,
            "min": 0,
            "orientation": "horizontal",
            "style": "IPY_MODEL_21f8cad7cf1d4aff8bd32c4c53e7fadc",
            "value": 50
          }
        },
        "a972133e922044e7aecc840b05c80da6": {
          "model_module": "@jupyter-widgets/controls",
          "model_module_version": "1.5.0",
          "model_name": "HTMLModel",
          "state": {
            "_dom_classes": [],
            "_model_module": "@jupyter-widgets/controls",
            "_model_module_version": "1.5.0",
            "_model_name": "HTMLModel",
            "_view_count": null,
            "_view_module": "@jupyter-widgets/controls",
            "_view_module_version": "1.5.0",
            "_view_name": "HTMLView",
            "description": "",
            "description_tooltip": null,
            "layout": "IPY_MODEL_bc7377347c8a4c21bbe75b55733299e5",
            "placeholder": "​",
            "style": "IPY_MODEL_50924e1ec9ac4201bd844fac092aa3fc",
            "value": " 50/50 [06:34&lt;00:00,  7.76s/it]"
          }
        },
        "ad80ff3f78734b9d858e107f70da06b6": {
          "model_module": "@jupyter-widgets/controls",
          "model_module_version": "1.5.0",
          "model_name": "HBoxModel",
          "state": {
            "_dom_classes": [],
            "_model_module": "@jupyter-widgets/controls",
            "_model_module_version": "1.5.0",
            "_model_name": "HBoxModel",
            "_view_count": null,
            "_view_module": "@jupyter-widgets/controls",
            "_view_module_version": "1.5.0",
            "_view_name": "HBoxView",
            "box_style": "",
            "children": [
              "IPY_MODEL_593a3ec9d406417bb91ca42e8fe80790",
              "IPY_MODEL_6a1cd02be39f4dbea2241499e3fa02b0",
              "IPY_MODEL_a972133e922044e7aecc840b05c80da6"
            ],
            "layout": "IPY_MODEL_47c4a502dcb945589b2879e73395b69b"
          }
        },
        "bc7377347c8a4c21bbe75b55733299e5": {
          "model_module": "@jupyter-widgets/base",
          "model_module_version": "1.2.0",
          "model_name": "LayoutModel",
          "state": {
            "_model_module": "@jupyter-widgets/base",
            "_model_module_version": "1.2.0",
            "_model_name": "LayoutModel",
            "_view_count": null,
            "_view_module": "@jupyter-widgets/base",
            "_view_module_version": "1.2.0",
            "_view_name": "LayoutView",
            "align_content": null,
            "align_items": null,
            "align_self": null,
            "border": null,
            "bottom": null,
            "display": null,
            "flex": null,
            "flex_flow": null,
            "grid_area": null,
            "grid_auto_columns": null,
            "grid_auto_flow": null,
            "grid_auto_rows": null,
            "grid_column": null,
            "grid_gap": null,
            "grid_row": null,
            "grid_template_areas": null,
            "grid_template_columns": null,
            "grid_template_rows": null,
            "height": null,
            "justify_content": null,
            "justify_items": null,
            "left": null,
            "margin": null,
            "max_height": null,
            "max_width": null,
            "min_height": null,
            "min_width": null,
            "object_fit": null,
            "object_position": null,
            "order": null,
            "overflow": null,
            "overflow_x": null,
            "overflow_y": null,
            "padding": null,
            "right": null,
            "top": null,
            "visibility": null,
            "width": null
          }
        },
        "e7e639a1df5e4f4e88c7649a174a4405": {
          "model_module": "@jupyter-widgets/controls",
          "model_module_version": "1.5.0",
          "model_name": "DescriptionStyleModel",
          "state": {
            "_model_module": "@jupyter-widgets/controls",
            "_model_module_version": "1.5.0",
            "_model_name": "DescriptionStyleModel",
            "_view_count": null,
            "_view_module": "@jupyter-widgets/base",
            "_view_module_version": "1.2.0",
            "_view_name": "StyleView",
            "description_width": ""
          }
        }
      }
    }
  },
  "nbformat": 4,
  "nbformat_minor": 0
}
