{
 "cells": [
  {
   "cell_type": "markdown",
   "metadata": {},
   "source": [
    "# IE30301 DataMining Programming HW1"
   ]
  },
  {
   "cell_type": "markdown",
   "metadata": {},
   "source": [
    "Type your name and student ID here. Do not share this Jupyter Script online.\n",
    "\n",
    "### NAME: Elkhan Ismayilzada\n",
    "### Student Number: 20182010"
   ]
  },
  {
   "cell_type": "markdown",
   "metadata": {},
   "source": [
    "---"
   ]
  },
  {
   "cell_type": "markdown",
   "metadata": {},
   "source": [
    "### Import Packages\n",
    "- Do not use packages specified other than below\n",
    "- However, it is not nessasary to use all the packages below \n",
    "- For task 1.6, you need to use the package 'statsmodel.api'\n",
    "- Both packages('sklearn.linear_model' and 'statsmodels.api') can be used to load linear regression model"
   ]
  },
  {
   "cell_type": "code",
   "execution_count": 31,
   "metadata": {},
   "outputs": [],
   "source": [
    "import numpy as np\n",
    "import pandas as pd \n",
    "import matplotlib.pyplot as plt \n",
    "from sklearn import linear_model\n",
    "import statsmodels.api as sm \n",
    "from sklearn.model_selection import train_test_split"
   ]
  },
  {
   "cell_type": "markdown",
   "metadata": {},
   "source": [
    "## Task 1. Multiple linear regression [15 points]"
   ]
  },
  {
   "cell_type": "markdown",
   "metadata": {},
   "source": [
    "#### 1.1 Load Dataset [1 points]"
   ]
  },
  {
   "cell_type": "code",
   "execution_count": 32,
   "metadata": {},
   "outputs": [],
   "source": [
    "data = pd.read_csv(\"diabetes.csv\")"
   ]
  },
  {
   "cell_type": "markdown",
   "metadata": {},
   "source": [
    "#### 1.2 Split Dataset into the train & test set [1 points]\n",
    "- You have to use the specified random seed when dividing the dataset using the function 'train_test_split'\n",
    "- The specified random seed value is 0\n",
    "- The ratio of train set and test set is as follows: 70% train set / 30% test set"
   ]
  },
  {
   "cell_type": "code",
   "execution_count": 33,
   "metadata": {},
   "outputs": [],
   "source": [
    "x = data.drop(\"target\",axis=1)\n",
    "y = data['target']\n",
    "x_train, x_test, y_train, y_test = train_test_split(x,y,test_size=0.3,random_state=0)"
   ]
  },
  {
   "cell_type": "markdown",
   "metadata": {},
   "source": [
    "#### 1.3 Load model and train the model [2 points]\n",
    "- Intercept term should be included for training"
   ]
  },
  {
   "cell_type": "code",
   "execution_count": 34,
   "metadata": {},
   "outputs": [],
   "source": [
    "x_train = sm.add_constant(x_train)\n",
    "model = sm.OLS(y_train,x_train)\n",
    "model = model.fit()"
   ]
  },
  {
   "cell_type": "markdown",
   "metadata": {},
   "source": [
    "#### 1.4 Predict and evaluate the model [4 points]\n",
    "\n",
    "- Predict target y using the trained model\n",
    "- Evaluate the trained model using the two metrics (*it is not allowed to use packages for this task)\n",
    "    1. mean squared error(MSE)\n",
    "    2. R2 score\n",
    "- Calculated scores should be placed in the specified cell"
   ]
  },
  {
   "cell_type": "code",
   "execution_count": 35,
   "metadata": {},
   "outputs": [],
   "source": [
    "# predict \n",
    "x_test = sm.add_constant(x_test)\n",
    "y_hat = model.predict(x_test)"
   ]
  },
  {
   "cell_type": "code",
   "execution_count": 36,
   "metadata": {},
   "outputs": [],
   "source": [
    "# calculate MSE \n",
    "mse = np.sum(np.square(y_test-y_hat))/len(y_hat)"
   ]
  },
  {
   "cell_type": "code",
   "execution_count": 37,
   "metadata": {},
   "outputs": [
    {
     "name": "stdout",
     "output_type": "stream",
     "text": [
      "3097.1461383877945\n"
     ]
    }
   ],
   "source": [
    "# write calculated MSE value here \n",
    "print(mse)"
   ]
  },
  {
   "cell_type": "code",
   "execution_count": 38,
   "metadata": {},
   "outputs": [],
   "source": [
    "# calculate R2\n",
    "sse = np.sum(np.square(y_test-y_hat))\n",
    "sst = np.sum(np.square(y_test-np.mean(y_test)))\n",
    "r_square = 1-sse/sst"
   ]
  },
  {
   "cell_type": "code",
   "execution_count": 39,
   "metadata": {},
   "outputs": [
    {
     "name": "stdout",
     "output_type": "stream",
     "text": [
      "0.3928939845074765\n"
     ]
    }
   ],
   "source": [
    "# write calculated R2 score here \n",
    "print(r_square)"
   ]
  },
  {
   "cell_type": "markdown",
   "metadata": {},
   "source": [
    "#### 1.5 Write the linear regression formula of the trained model [3 points]"
   ]
  },
  {
   "cell_type": "markdown",
   "metadata": {},
   "source": [
    "$\\hat{y} = 153.7191-52.4699age-193.5106sex+579.4828bmi+272.4640bp-504.7240s_1+241.6844s_2-69.7362s_3+86.6202s_4+721.9558s_5+26.7789s_6$"
   ]
  },
  {
   "cell_type": "markdown",
   "metadata": {},
   "source": [
    "#### 1.6 Check the p-value and find out significant variables [4 points]\n",
    "- Print p-value of each variable \n",
    "- List all variables judged to be significant based on the p-value 0.05 "
   ]
  },
  {
   "cell_type": "code",
   "execution_count": 40,
   "metadata": {},
   "outputs": [
    {
     "data": {
      "text/plain": [
       "const    6.839785e-147\n",
       "age       4.621128e-01\n",
       "sex       7.598006e-03\n",
       "bmi       3.094248e-12\n",
       "bp        8.941189e-04\n",
       "s1        2.998056e-01\n",
       "s2        5.345449e-01\n",
       "s3        7.837443e-01\n",
       "s4        6.539856e-01\n",
       "s5        2.935403e-04\n",
       "s6        7.251985e-01\n",
       "dtype: float64"
      ]
     },
     "execution_count": 40,
     "metadata": {},
     "output_type": "execute_result"
    }
   ],
   "source": [
    "# p-value of each variable\n",
    "model.pvalues"
   ]
  },
  {
   "cell_type": "code",
   "execution_count": 41,
   "metadata": {},
   "outputs": [
    {
     "data": {
      "text/plain": [
       "const    6.839785e-147\n",
       "sex       7.598006e-03\n",
       "bmi       3.094248e-12\n",
       "bp        8.941189e-04\n",
       "s5        2.935403e-04\n",
       "dtype: float64"
      ]
     },
     "execution_count": 41,
     "metadata": {},
     "output_type": "execute_result"
    }
   ],
   "source": [
    "# significant variables list \n",
    "model.pvalues[model.pvalues<0.05]"
   ]
  },
  {
   "cell_type": "markdown",
   "metadata": {},
   "source": [
    "## Task 2. Simple linear regression [15 points]"
   ]
  },
  {
   "cell_type": "markdown",
   "metadata": {},
   "source": [
    "#### 2.1 Select one feataure using information of p-value [1 points]\n",
    "- Select one of the variables judged to be significant in task 1.6 and mention the variable name you choose\n",
    "- Remake a dataset only including the variable you choose "
   ]
  },
  {
   "cell_type": "code",
   "execution_count": 42,
   "metadata": {},
   "outputs": [],
   "source": [
    "# second most significant variable after const is bmi\n",
    "x = data['bmi']\n",
    "y = data['target']"
   ]
  },
  {
   "cell_type": "markdown",
   "metadata": {},
   "source": [
    "#### 2.2 Split Dataset into the train & test set [1 points]\n",
    "- To perform this task, you need to use the reconstructed dataset in task 2.1\n",
    "- You have to use the specified random seed when dividing the dataset using the package 'train_test_split'\n",
    "- The specified random seed value is 0\n",
    "- The ratio of train set and test set is as follows: 70% train set / 30% test set"
   ]
  },
  {
   "cell_type": "code",
   "execution_count": 43,
   "metadata": {},
   "outputs": [],
   "source": [
    "x_train,x_test,y_train,y_test = train_test_split(x,y,test_size=0.3,random_state=0)"
   ]
  },
  {
   "cell_type": "markdown",
   "metadata": {},
   "source": [
    "#### 2.3 Load model and train the model [2 points]\n",
    "- Intercept term should be included for training"
   ]
  },
  {
   "cell_type": "code",
   "execution_count": 44,
   "metadata": {},
   "outputs": [],
   "source": [
    "x_train = sm.add_constant(x_train)\n",
    "model = sm.OLS(y_train,x_train)\n",
    "model = model.fit()"
   ]
  },
  {
   "cell_type": "markdown",
   "metadata": {},
   "source": [
    "#### 2.4 Predict and evaluate the results [4 points]\n",
    "\n",
    "- Predict target y using the trained model\n",
    "- Evaluate the trained model using the two metrics (*it is not allowed to use packages for this task)\n",
    "    1. mean squared error(MSE)\n",
    "    2. R2 score\n",
    "- Calculated scores should be placed in the specified cell"
   ]
  },
  {
   "cell_type": "code",
   "execution_count": 45,
   "metadata": {},
   "outputs": [],
   "source": [
    "# predict \n",
    "x_test = sm.add_constant(x_test)\n",
    "y_hat = model.predict(x_test)"
   ]
  },
  {
   "cell_type": "code",
   "execution_count": 46,
   "metadata": {},
   "outputs": [],
   "source": [
    "# code for caluating MSE\n",
    "mse = np.sum(np.square(y_test-y_hat))/len(y_hat)"
   ]
  },
  {
   "cell_type": "code",
   "execution_count": 47,
   "metadata": {},
   "outputs": [
    {
     "name": "stdout",
     "output_type": "stream",
     "text": [
      "3921.372027424851\n"
     ]
    }
   ],
   "source": [
    "# write calculated MSE value here \n",
    "print(mse)"
   ]
  },
  {
   "cell_type": "code",
   "execution_count": 48,
   "metadata": {},
   "outputs": [],
   "source": [
    "# code for calculating R2 score\n",
    "sse = np.sum(np.square(y_test-y_hat))\n",
    "sst = np.sum(np.square(y_test-np.mean(y_test)))\n",
    "r_square = 1-sse/sst"
   ]
  },
  {
   "cell_type": "code",
   "execution_count": 52,
   "metadata": {},
   "outputs": [
    {
     "name": "stdout",
     "output_type": "stream",
     "text": [
      "0.23132831307953816\n"
     ]
    }
   ],
   "source": [
    "# write calculated R2 score value here \n",
    "print(r_square)"
   ]
  },
  {
   "cell_type": "markdown",
   "metadata": {},
   "source": [
    "#### 2.5 Write the linear regression formula of the trained model [3 points]"
   ]
  },
  {
   "cell_type": "markdown",
   "metadata": {},
   "source": [
    "$$\\hat{y} = 153.4351-1013.1736bmi$$"
   ]
  },
  {
   "cell_type": "markdown",
   "metadata": {},
   "source": [
    "#### 2.6 Plot graph [4 points]\n",
    "- Plot data points of test set and draw the line you get from the trained model "
   ]
  },
  {
   "cell_type": "code",
   "execution_count": 50,
   "metadata": {},
   "outputs": [
    {
     "data": {
      "image/png": "[encoded data removed]",
      "text/plain": [
       "<Figure size 432x288 with 1 Axes>"
      ]
     },
     "metadata": {
      "needs_background": "light"
     },
     "output_type": "display_data"
    }
   ],
   "source": [
    "fig, ax = plt.subplots()\n",
    "ax.set_title(\"Diabetes: Linear Regression\",fontweight=550, fontsize=14,pad=20)\n",
    "ax.set(xlabel=\"BMI\",ylabel=\"target\")\n",
    "ax.scatter(x_test[x_test.columns[1]],y_test,c=\"black\")\n",
    "ax.plot(x_test[x_test.columns[1]],y_hat,color=\"blue\");"
   ]
  },
  {
   "cell_type": "code",
   "execution_count": null,
   "metadata": {},
   "outputs": [],
   "source": []
  }
 ],
 "metadata": {
  "kernelspec": {
   "display_name": "Python 3",
   "language": "python",
   "name": "python3"
  },
  "language_info": {
   "codemirror_mode": {
    "name": "ipython",
    "version": 3
   },
   "file_extension": ".py",
   "mimetype": "text/x-python",
   "name": "python",
   "nbconvert_exporter": "python",
   "pygments_lexer": "ipython3",
   "version": "3.8.5"
  }
 },
 "nbformat": 4,
 "nbformat_minor": 4
}
